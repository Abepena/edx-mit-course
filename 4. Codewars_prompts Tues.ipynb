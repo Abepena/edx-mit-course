{
 "cells": [
  {
   "cell_type": "markdown",
   "metadata": {},
   "source": [
    "# 1.)\n",
    "If we list all the natural numbers below 10 that are multiples of 3 or 5, we get 3, 5, 6 and 9. The sum of these multiples is 23.\n",
    "\n",
    "Finish the solution so that it returns the sum of all the multiples of 3 or 5 below the number passed in."
   ]
  },
  {
   "cell_type": "code",
   "execution_count": 1,
   "metadata": {},
   "outputs": [],
   "source": [
    "def solution(number):\n",
    "    #initialize return value to increment\n",
    "    result = 0\n",
    "    # loop thru all numbers below the parameter specified\n",
    "    # increment result by that number if it is divisible by 3 or 5\n",
    "    # the return the result after the for loop has finished\n",
    "    for num in range(number):\n",
    "        if num % 3 == 0 or num % 5 == 0:\n",
    "            result += num\n",
    "    return result"
   ]
  },
  {
   "cell_type": "markdown",
   "metadata": {},
   "source": [
    "# 2.)\n",
    "Write simple .camelCase method (camel_case function in PHP, CamelCase in C# or camelCase in Java) for strings. All words must have their first letter capitalized without spaces."
   ]
  },
  {
   "cell_type": "code",
   "execution_count": 4,
   "metadata": {},
   "outputs": [
    {
     "data": {
      "text/plain": [
       "'HiThereHowAreYou'"
      ]
     },
     "execution_count": 4,
     "metadata": {},
     "output_type": "execute_result"
    }
   ],
   "source": [
    "def camel_case(string):\n",
    "    \"\"\"\n",
    "    1.) split strings by spaces\n",
    "    2.) capitalize all strings in list of split strings\n",
    "    3.) join them back together with an empty string and return them\n",
    "    \"\"\"\n",
    "    string_list = string.split(\" \")\n",
    "    string_list = [item.capitalize() for item in string_list]\n",
    "    return \"\".join(string_list)\n",
    "\n",
    "camel_case('hi there how are you')"
   ]
  },
  {
   "cell_type": "code",
   "execution_count": 5,
   "metadata": {},
   "outputs": [
    {
     "data": {
      "text/plain": [
       "'HiThereHowAreYou'"
      ]
     },
     "execution_count": 5,
     "metadata": {},
     "output_type": "execute_result"
    }
   ],
   "source": [
    "#another solution\n",
    "def camel_case2(string):\n",
    "    return string.title().replace(' ','')\n",
    "\n",
    "camel_case2('hi there how are you')"
   ]
  },
  {
   "cell_type": "markdown",
   "metadata": {},
   "source": [
    "# 3.) Roman Numerals Encoder\n",
    "Create a function taking a positive integer as its parameter and returning a string containing the Roman Numeral representation of that integer.\n",
    "\n",
    "Modern Roman numerals are written by expressing each digit separately starting with the left most digit and skipping any digit with a value of zero. In Roman numerals 1990 is rendered: 1000=M, 900=CM, 90=XC; resulting in MCMXC. 2008 is written as 2000=MM, 8=VIII; or MMVIII. 1666 uses each Roman symbol in descending order: MDCLXVI.\n",
    "\n",
    "Symbol |   Value\n",
    ":---:|:---:\n",
    "I      |   1\n",
    "V    |      5\n",
    "X     |     10\n",
    "L   |       50\n",
    "C   |       100\n",
    "D   |       500\n",
    "M   |       1,000"
   ]
  },
  {
   "cell_type": "code",
   "execution_count": 19,
   "metadata": {},
   "outputs": [
    {
     "data": {
      "text/plain": [
       "'MCMXCIX'"
      ]
     },
     "execution_count": 19,
     "metadata": {},
     "output_type": "execute_result"
    }
   ],
   "source": [
    "def roman_numeral(n):\n",
    "    \"\"\"\n",
    "    loop through appending the roman numerals and dividing the number by 10 \n",
    "    ROMAN NUMERALS: MDCLXVI\n",
    "    \"\"\"\n",
    "    \n",
    "    result = ''\n",
    "    \n",
    "    \n",
    "    while n > 0:\n",
    "        if n >= 1000:\n",
    "            result += 'M' * (n //1000)\n",
    "            n -= 1000 * (n // 1000) #removes the thousands place\n",
    "        elif 100 <= n and n < 1000:\n",
    "            if n // 100 == 9:\n",
    "                result += 'CM'\n",
    "            elif n // 100 >= 5:\n",
    "                result += 'D' + 'C'*(n//100 - 5)\n",
    "            elif n // 100 == 4:\n",
    "                result += 'CD'                \n",
    "            else:\n",
    "                result += 'C'*(n//100)\n",
    "            n -= 100* (n //100) # removes the hundreds place\n",
    "        elif 10 <= n and n < 100:\n",
    "            if n // 10 == 9:\n",
    "                result += 'XC'\n",
    "            elif n // 10 >= 5:\n",
    "                result += 'L' + 'X'*(n//10 - 5)\n",
    "            elif n // 10 == 4:\n",
    "                result += 'XL'\n",
    "            else:\n",
    "                result += 'X'*(n//10)\n",
    "            n -= 10 *(n // 10) # removes the tens place\n",
    "        else:\n",
    "            if n == 9:\n",
    "                result += 'IX'\n",
    "            elif n >= 5:\n",
    "                result += 'V' + 'I'*(n - 5)\n",
    "            elif n == 4:\n",
    "                result += 'IV'\n",
    "            else:\n",
    "                result += 'I'*(n)\n",
    "            n = 0 # ends the loop by making the conditional false\n",
    "        \n",
    "        \n",
    "    return result\n",
    "\n",
    "roman_numeral(1999)"
   ]
  },
  {
   "cell_type": "code",
   "execution_count": 24,
   "metadata": {},
   "outputs": [
    {
     "data": {
      "text/plain": [
       "'MCMXCIX'"
      ]
     },
     "execution_count": 24,
     "metadata": {},
     "output_type": "execute_result"
    }
   ],
   "source": [
    "def roman_numeral2(n):\n",
    "    \"\"\"\n",
    "    1.) set up a dictionary of all possible numerals between 1 and 1000\n",
    "    2.) sort the dictionary in reverse order (remember dictionaries are not ordered)\n",
    "    3.) create for loop to loop thru the keys in descending\n",
    "    4.) check if the number is greater than the key we are currently on, if so, subtract that key's value\n",
    "        from the number until we can move on to the next key\n",
    "    \"\"\"\n",
    "    \n",
    "    numeral_dict =  {1000: 'M',\n",
    "                   900: 'CM',\n",
    "                   500: 'D',\n",
    "                   400: 'CD',\n",
    "                   100: 'C',\n",
    "                   90: 'XC',\n",
    "                   50: 'L',\n",
    "                   40: 'XL',\n",
    "                   10: 'X',\n",
    "                   9: 'IX',\n",
    "                   5: 'V',\n",
    "                   4: 'IV',\n",
    "                   1: 'I',\n",
    "    }\n",
    "        \n",
    "    result = ''\n",
    "    for key in sorted(numeral_dict, reverse=True):\n",
    "        while n >= key:\n",
    "            result += numeral_dict[key]\n",
    "            n -= key\n",
    "    return result\n",
    "\n",
    "roman_numeral2(1999)"
   ]
  },
  {
   "cell_type": "markdown",
   "metadata": {},
   "source": [
    "# 4 Replace With Alphabet Position\n",
    "Welcome.\n",
    "\n",
    "In this kata you are required to, given a string, replace every letter with its position in the alphabet.\n",
    "\n",
    "If anything in the text isn't a letter, ignore it and don't return it.\n",
    "\n",
    "a being 1, b being 2, etc.\n",
    "\n",
    "As an example:\n",
    "\n",
    "alphabet_position(\"The sunset sets at twelve o' clock.\")\n",
    "Should return \"20 8 5 19 21 14 19 5 20 19 5 20 19 1 20 20 23 5 12 22 5 15 3 12 15 3 11\" as a string.\n",
    "\n"
   ]
  },
  {
   "cell_type": "code",
   "execution_count": 27,
   "metadata": {},
   "outputs": [
    {
     "data": {
      "text/plain": [
       "'1 1 2 2 3 3 4 4'"
      ]
     },
     "execution_count": 27,
     "metadata": {},
     "output_type": "execute_result"
    }
   ],
   "source": [
    "def alphabet_position(text):\n",
    "    \"\"\"\n",
    "    1.) create a string of all alphabet characters\n",
    "    2.) Create a list of positions for every character excluding spaces\n",
    "    3.) join the list with spaces\n",
    "    \"\"\"\n",
    "    \n",
    "    alphabet = '_abcdefghijklmnopqrstuvwxyz' #alphabet with positions equal to indexes\n",
    "    positions = [str(alphabet.index(char.lower())) for char in text if char != \" \" ] # list of position ints (converted to strings)\n",
    "    return \" \".join(positions)\n"
   ]
  },
  {
   "cell_type": "code",
   "execution_count": 30,
   "metadata": {},
   "outputs": [
    {
     "data": {
      "text/plain": [
       "'1 1 2 2 3 3'"
      ]
     },
     "execution_count": 30,
     "metadata": {},
     "output_type": "execute_result"
    }
   ],
   "source": [
    "def alphabet_position(text):\n",
    "    alphabet_string = '_abcdefghijklmnopqrstuvwxyz'\n",
    "    alphabet_dict = {}\n",
    "    #map every letter to a position\n",
    "    for position, letter in enumerate(alphabet_string):\n",
    "        alphabet_dict[letter] = str(position)\n",
    "    #create a list of positions\n",
    "    positions = [alphabet_dict[char] for char in text if char in alphabet_string]\n",
    "    \n",
    "    #return the joined positions\n",
    "    \n",
    "    return \" \".join(positions)\n",
    "\n",
    "alphabet_position('aa bb cc')"
   ]
  },
  {
   "cell_type": "markdown",
   "metadata": {},
   "source": [
    "# 5.) Digital Root\n",
    "\n",
    "In this kata, you must create a digital root function.\n",
    "\n",
    "A digital root is the recursive sum of all the digits in a number. Given n, take the sum of the digits of n. If that value has two digits, continue reducing in this way until a single-digit number is produced. This is only applicable to the natural numbers."
   ]
  },
  {
   "cell_type": "code",
   "execution_count": 37,
   "metadata": {},
   "outputs": [
    {
     "data": {
      "text/plain": [
       "9"
      ]
     },
     "execution_count": 37,
     "metadata": {},
     "output_type": "execute_result"
    }
   ],
   "source": [
    "def digital_root(n):\n",
    "    result = 0\n",
    "    if n // 10 == 0:\n",
    "        return n\n",
    "    else:\n",
    "        while n > 0:\n",
    "            result += n % 10\n",
    "            n = n // 10\n",
    "        return digital_root(result)\n",
    "    "
   ]
  },
  {
   "cell_type": "code",
   "execution_count": null,
   "metadata": {},
   "outputs": [],
   "source": []
  },
  {
   "cell_type": "code",
   "execution_count": 64,
   "metadata": {},
   "outputs": [
    {
     "data": {
      "text/plain": [
       "'(2**2)(3**3)(5)(7)(11**2)(17)'"
      ]
     },
     "execution_count": 64,
     "metadata": {},
     "output_type": "execute_result"
    }
   ],
   "source": [
    "def primeFactors(n):\n",
    "    prime_dict = {}\n",
    "    \n",
    "    for num in range(2,n):\n",
    "        if n % num  == 0:\n",
    "            prime_dict[num] = 0\n",
    "    \n",
    "    while True:\n",
    "        for key in sorted(prime_dict):\n",
    "            if key == n:\n",
    "                prime_dict[key] += 1\n",
    "                prime_list = []\n",
    "                for key in sorted(prime_dict):\n",
    "                    if prime_dict[key] == 1:\n",
    "                        prime_list.append(\"({})\".format(key))\n",
    "                    elif prime_dict[key] > 1:\n",
    "                        prime_list.append(\"({}**{})\".format(key, prime_dict[key]))\n",
    "                return \"\".join(prime_list)\n",
    "            elif n % key == 0:\n",
    "                prime_dict[key] += 1\n",
    "                n /= key\n",
    "                break\n",
    "                \n",
    "primeFactors(7775460)"
   ]
  },
  {
   "cell_type": "code",
   "execution_count": 75,
   "metadata": {},
   "outputs": [
    {
     "data": {
      "text/plain": [
       "'(2**2)(3**3)(5)(7)(11**2)(17)'"
      ]
     },
     "execution_count": 75,
     "metadata": {},
     "output_type": "execute_result"
    }
   ],
   "source": [
    "from math import sqrt\n",
    "  \n",
    "def primeFactors(n):\n",
    "    \n",
    "        # A helper function to find largest prime factor of n\n",
    "    def maxPrimeFactors (n):\n",
    "\n",
    "        # Initialize the maximum prime factor\n",
    "        # variable with the lowest one\n",
    "        maxPrime = -1\n",
    "\n",
    "        # Print the number of 2s that divide n\n",
    "        while n % 2 == 0:\n",
    "            maxPrime = 2\n",
    "            n /= 2 \n",
    "\n",
    "        # n must be odd at this point, \n",
    "        # thus skip the even numbers and \n",
    "        # iterate only for odd integers\n",
    "        for i in range(3, int(sqrt(n)) + 1, 2):\n",
    "            while n % i == 0:\n",
    "                maxPrime = i\n",
    "                n = n / i\n",
    "\n",
    "        # This condition is to handle the \n",
    "        # case when n is a prime number \n",
    "        # greater than 2\n",
    "        if n > 2:\n",
    "            maxPrime = n\n",
    "        return int(maxPrime)\n",
    "    \n",
    "    def prime_test(num):\n",
    "        for i in range(2,int(sqrt(num))):\n",
    "            if num % i == 0:\n",
    "                return False\n",
    "        return True\n",
    "    \n",
    "    \n",
    "    def primes(num=2, end=maxPrimeFactors(n)): #generator of primes from 2 to the end value not spec\n",
    "        while num <= end:\n",
    "            if prime_test(num):\n",
    "                yield num\n",
    "            num += 1\n",
    "            \n",
    "    def prime_dict_to_string(prime_dict):\n",
    "        prime_list = []\n",
    "        for key in sorted(prime_dict):\n",
    "            if prime_dict[key] == 1:\n",
    "                prime_list.append(\"({})\".format(key))\n",
    "            elif prime_dict[key] > 1:\n",
    "                prime_list.append(\"({}**{})\".format(key, prime_dict[key]))\n",
    "        return \"\".join(prime_list)                \n",
    "    \n",
    "    # START OF MAIN LOGIC\n",
    "    prime_dict = {}\n",
    "    while True:\n",
    "        for val in primes(2,n):\n",
    "            if val == n and val in prime_dict:\n",
    "                prime_dict[val] += 1\n",
    "                return prime_dict_to_string(prime_dict)                \n",
    "            elif val == n and val not in prime_dict:\n",
    "                prime_dict[val] = 1\n",
    "                return prime_dict_to_string(prime_dict)\n",
    "            elif n % val == 0 and val not in prime_dict:\n",
    "                prime_dict[val] = 1\n",
    "                n /= val\n",
    "                break\n",
    "            elif  n % val == 0 and val in prime_dict:\n",
    "                prime_dict[val] += 1\n",
    "                n /= val\n",
    "                break\n",
    "\n",
    "                \n",
    "primeFactors(7775460)\n"
   ]
  },
  {
   "cell_type": "code",
   "execution_count": 85,
   "metadata": {},
   "outputs": [
    {
     "data": {
      "text/plain": [
       "[2, 2, 3]"
      ]
     },
     "execution_count": 85,
     "metadata": {},
     "output_type": "execute_result"
    }
   ],
   "source": [
    "from timeit import timeit\n",
    "def prime_factors (n):\n",
    "\n",
    "  ##### HELPER FUNCTION #####\n",
    "    prime_factor_list = []\n",
    "    def prime_test(num):\n",
    "        for i in range(2,int(sqrt(num))):\n",
    "            if num % i == 0:\n",
    "                return False\n",
    "        return True\n",
    "    \n",
    "    \n",
    "    def primes(num, end=None): #generator of primes from 2 to the end value not spec\n",
    "        \"\"\"\n",
    "        Assumes start number is a prime\n",
    "        \"\"\"\n",
    "        while num <= end:\n",
    "            if prime_test(num):\n",
    "                yield num\n",
    "            num += 1\n",
    "  \n",
    "  ###### MAIN LOGIC #######\n",
    "    prime_list = [] #initi\n",
    "    start = 2 # starts the prime generator at 2 and allows you to update in order to not\n",
    "            # loop through entire generator again\n",
    "    while True:\n",
    "        for val in primes(start,n):\n",
    "            if val == n:\n",
    "                prime_list.append(val)\n",
    "                return prime_list                \n",
    "            elif n % val == 0:\n",
    "                prime_list.append(val)\n",
    "                n /= val\n",
    "                start = val\n",
    "                break\n",
    "\n",
    "prime_factors(12)"
   ]
  },
  {
   "cell_type": "markdown",
   "metadata": {},
   "source": [
    "### Human Readable Time\n",
    "Instructions\n",
    "Output\n",
    "Write a function, which takes a non-negative integer (seconds) as input and returns the time in a human-readable format (HH:MM:SS)\n",
    "\n",
    "HH = hours, padded to 2 digits, range: 00 - 99\n",
    "MM = minutes, padded to 2 digits, range: 00 - 59\n",
    "SS = seconds, padded to 2 digits, range: 00 - 59\n",
    "The maximum time never exceeds 359999 (99:59:59)\n",
    "\n",
    "You can find some examples in the test fixtures."
   ]
  },
  {
   "cell_type": "code",
   "execution_count": 14,
   "metadata": {},
   "outputs": [
    {
     "data": {
      "text/plain": [
       "'10 hours and 3 minutes and 48 seconds'"
      ]
     },
     "execution_count": 14,
     "metadata": {},
     "output_type": "execute_result"
    }
   ],
   "source": [
    "def make_readable(seconds):\n",
    "    \"\"\"\n",
    "    create a list of hours, minutes, seconds\n",
    "    sort in decending order\n",
    "    loop through floor divide, store that number as a string and zfill it to 2 places\n",
    "    1hr = 3600 seconds\n",
    "    1 minute = 60 seconds\n",
    "    1 sec, doesnt need to be stored, should just be the remainder\n",
    "    \"\"\"\n",
    "    if seconds == 0:\n",
    "        return 'now'\n",
    "    hours = 0\n",
    "    minutes = 0\n",
    "    \n",
    "    while seconds > 0:\n",
    "        if seconds >= 3600:\n",
    "            hours = seconds // 3600\n",
    "            seconds = seconds % 3600\n",
    "        elif seconds >= 60:\n",
    "            minutes = seconds // 60\n",
    "            seconds = seconds % 60\n",
    "        else:\n",
    "            break\n",
    "    \n",
    "    result = []\n",
    "    if hours:\n",
    "        result.append(\"{} hours\".format(hours) if hours > 1 else \"{} hour\".format(hours))\n",
    "    if minutes:\n",
    "        result.append(\"{} minutes\".format(minutes) if minutes > 1 else \"{} minute\".format(minutes))\n",
    "    if seconds:\n",
    "        result.append(\"{} seconds\".format(seconds) if seconds > 1 else \"{} seconds\".format(seconds))\n",
    "    \n",
    "    return \" and \".join(result)\n",
    "#     hours = str(hours).zfill(2)\n",
    "#     minutes = str(minutes).zfill(2)\n",
    "#     seconds = str(seconds).zfill(2)\n",
    "    \n",
    "#     return \"{}:{}:{}\".format(hours, minutes,seconds)\n",
    "\n",
    "make_readable(36228)"
   ]
  },
  {
   "cell_type": "code",
   "execution_count": 15,
   "metadata": {},
   "outputs": [],
   "source": [
    "mydict = {}"
   ]
  },
  {
   "cell_type": "code",
   "execution_count": 19,
   "metadata": {},
   "outputs": [
    {
     "ename": "KeyError",
     "evalue": "'key'",
     "output_type": "error",
     "traceback": [
      "\u001b[0;31m---------------------------------------------------------------------------\u001b[0m",
      "\u001b[0;31mKeyError\u001b[0m                                  Traceback (most recent call last)",
      "\u001b[0;32m<ipython-input-19-e3e26e944a9b>\u001b[0m in \u001b[0;36m<module>\u001b[0;34m()\u001b[0m\n\u001b[0;32m----> 1\u001b[0;31m \u001b[0mmydict\u001b[0m\u001b[0;34m[\u001b[0m\u001b[0;34m'key'\u001b[0m\u001b[0;34m]\u001b[0m \u001b[0;34m+=\u001b[0m \u001b[0;36m1\u001b[0m\u001b[0;34m\u001b[0m\u001b[0m\n\u001b[0m",
      "\u001b[0;31mKeyError\u001b[0m: 'key'"
     ]
    }
   ],
   "source": []
  },
  {
   "cell_type": "code",
   "execution_count": null,
   "metadata": {},
   "outputs": [],
   "source": []
  }
 ],
 "metadata": {
  "kernelspec": {
   "display_name": "Python 3",
   "language": "python",
   "name": "python3"
  },
  "language_info": {
   "codemirror_mode": {
    "name": "ipython",
    "version": 3
   },
   "file_extension": ".py",
   "mimetype": "text/x-python",
   "name": "python",
   "nbconvert_exporter": "python",
   "pygments_lexer": "ipython3",
   "version": "3.6.5"
  }
 },
 "nbformat": 4,
 "nbformat_minor": 2
}
