{
 "cells": [
  {
   "cell_type": "markdown",
   "metadata": {},
   "source": [
    "# Quick Review\n",
    "___\n",
    "### Strings, Tuples, Ranges, Lists\n",
    "- Common Operations: assuming '`seq` is an iterable\n",
    "    - `seq[i]` --> i-th element of a sequence\n",
    "    - `len(seq)` --> length of the sequence\n",
    "    - `seq1 + seq2` --> concatenation of 2 sequences (not range)\n",
    "    - `n*seq` --> sequence that repeats `seq` n times (not range)\n",
    "    - `seq[start:end]` --> slice of sequence\n",
    "    -  `e in seq` --> `True` if e contained in sequence\n",
    "    - `e not in seq` --> `True` if e is not contained in sequence\n",
    "    - `for e in seq` --> iterates over elements \"e\" of sequence\n",
    "    \n",
    "- Out of all of the object types listed above, **only the list is mutable**"
   ]
  },
  {
   "cell_type": "markdown",
   "metadata": {},
   "source": [
    "# Dictionaries:\n",
    "___\n",
    "### A nicer cleaner way to store data:\n",
    "- so far we would have to create lists for every seperate piece of info if we were to use lists\n",
    "#### Example: Student information\n",
    "___"
   ]
  },
  {
   "cell_type": "code",
   "execution_count": 3,
   "metadata": {},
   "outputs": [],
   "source": [
    "names = ['Ana','John','Denise','Katy']\n",
    "grade = ['B', 'A+','A','A']\n",
    "course = [2.00, 6.0001,20.002,9.01]"
   ]
  },
  {
   "cell_type": "markdown",
   "metadata": {},
   "source": [
    "- a **seperate list** for each item\n",
    "- each item must have the **same length**\n",
    "- info stored accross lists at **same index**, each index refers to info for a different person\n",
    "\n",
    "#### Updating and retrieving data\n",
    "- **messy** if you have a lot of different people to keep track of\n",
    "- must maintain **many lists** and pass them as arguments\n",
    "- must **always index** using integers\n",
    "- if you change one list you have to remember to change every other list for indexes to match up"
   ]
  },
  {
   "cell_type": "code",
   "execution_count": 4,
   "metadata": {},
   "outputs": [
    {
     "data": {
      "text/plain": [
       "(2.0, 'B')"
      ]
     },
     "execution_count": 4,
     "metadata": {},
     "output_type": "execute_result"
    }
   ],
   "source": [
    "def get_grade(student, name_list, grade_list,course_list):\n",
    "    i = name_list.index(student)\n",
    "    grade = grade_list[i]\n",
    "    course = course_list[i]\n",
    "    return (course, grade)\n",
    "\n",
    "get_grade('Ana',names,grade,course)"
   ]
  },
  {
   "cell_type": "markdown",
   "metadata": {},
   "source": [
    "### The better and cleaner way - Dictionaries:\n",
    "- nice to **index item of interest directly** (not always int)\n",
    "- nice to use **one data structure**, no seperate lists\n",
    "- you can **add** and "
   ]
  },
  {
   "cell_type": "code",
   "execution_count": 11,
   "metadata": {},
   "outputs": [
    {
     "data": {
      "text/plain": [
       "'B'"
      ]
     },
     "execution_count": 11,
     "metadata": {},
     "output_type": "execute_result"
    }
   ],
   "source": [
    "grades = {\n",
    "    'Ana': 'B',\n",
    "    'John': 'A+',\n",
    "    'Denise': 'A',\n",
    "    'Katy': 'A',\n",
    "}\n",
    "course = {\n",
    "    'Ana': 2.00,\n",
    "    'John': 6.001,\n",
    "    'Denise': 20.002,\n",
    "    'Katy': 9.01,\n",
    "}\n",
    "\n",
    "\n",
    "grades['Ana']"
   ]
  },
  {
   "cell_type": "code",
   "execution_count": 12,
   "metadata": {},
   "outputs": [
    {
     "ename": "KeyError",
     "evalue": "'Abraham'",
     "output_type": "error",
     "traceback": [
      "\u001b[0;31m---------------------------------------------------------------------------\u001b[0m",
      "\u001b[0;31mKeyError\u001b[0m                                  Traceback (most recent call last)",
      "\u001b[0;32m<ipython-input-12-43ca81eb1228>\u001b[0m in \u001b[0;36m<module>\u001b[0;34m()\u001b[0m\n\u001b[0;32m----> 1\u001b[0;31m \u001b[0mgrades\u001b[0m\u001b[0;34m[\u001b[0m\u001b[0;34m\"Abraham\"\u001b[0m\u001b[0;34m]\u001b[0m\u001b[0;34m\u001b[0m\u001b[0m\n\u001b[0m",
      "\u001b[0;31mKeyError\u001b[0m: 'Abraham'"
     ]
    }
   ],
   "source": [
    "grades[\"Abraham\"]"
   ]
  },
  {
   "cell_type": "code",
   "execution_count": 13,
   "metadata": {},
   "outputs": [],
   "source": [
    "grades[\"Abraham\"] = 'A+'"
   ]
  },
  {
   "cell_type": "code",
   "execution_count": 14,
   "metadata": {},
   "outputs": [
    {
     "data": {
      "text/plain": [
       "'A+'"
      ]
     },
     "execution_count": 14,
     "metadata": {},
     "output_type": "execute_result"
    }
   ],
   "source": [
    "grades[\"Abraham\"]"
   ]
  },
  {
   "cell_type": "code",
   "execution_count": 15,
   "metadata": {},
   "outputs": [
    {
     "data": {
      "text/plain": [
       "{'Abraham': 'A+', 'Ana': 'B', 'Denise': 'A', 'John': 'A+', 'Katy': 'A'}"
      ]
     },
     "execution_count": 15,
     "metadata": {},
     "output_type": "execute_result"
    }
   ],
   "source": [
    "grades"
   ]
  },
  {
   "cell_type": "code",
   "execution_count": 16,
   "metadata": {},
   "outputs": [
    {
     "data": {
      "text/plain": [
       "True"
      ]
     },
     "execution_count": 16,
     "metadata": {},
     "output_type": "execute_result"
    }
   ],
   "source": [
    "'John' in grades"
   ]
  },
  {
   "cell_type": "code",
   "execution_count": 17,
   "metadata": {},
   "outputs": [
    {
     "data": {
      "text/plain": [
       "False"
      ]
     },
     "execution_count": 17,
     "metadata": {},
     "output_type": "execute_result"
    }
   ],
   "source": [
    "'Danie' in grades"
   ]
  },
  {
   "cell_type": "code",
   "execution_count": 18,
   "metadata": {},
   "outputs": [],
   "source": [
    "del(grades[\"Abraham\"])"
   ]
  },
  {
   "cell_type": "code",
   "execution_count": 19,
   "metadata": {},
   "outputs": [
    {
     "data": {
      "text/plain": [
       "{'Ana': 'B', 'Denise': 'A', 'John': 'A+', 'Katy': 'A'}"
      ]
     },
     "execution_count": 19,
     "metadata": {},
     "output_type": "execute_result"
    }
   ],
   "source": [
    "grades"
   ]
  },
  {
   "cell_type": "markdown",
   "metadata": {},
   "source": [
    "### Dictionary operations:\n",
    "- get an **iterable that acts like a tuple of all keys**\n"
   ]
  },
  {
   "cell_type": "code",
   "execution_count": 20,
   "metadata": {},
   "outputs": [
    {
     "data": {
      "text/plain": [
       "dict_keys(['Ana', 'John', 'Denise', 'Katy'])"
      ]
     },
     "execution_count": 20,
     "metadata": {},
     "output_type": "execute_result"
    }
   ],
   "source": [
    "grades.keys()"
   ]
  },
  {
   "cell_type": "markdown",
   "metadata": {},
   "source": [
    "- get an **iterable that acts like a tuple of all values**"
   ]
  },
  {
   "cell_type": "code",
   "execution_count": 21,
   "metadata": {},
   "outputs": [
    {
     "data": {
      "text/plain": [
       "dict_values(['B', 'A+', 'A', 'A'])"
      ]
     },
     "execution_count": 21,
     "metadata": {},
     "output_type": "execute_result"
    }
   ],
   "source": [
    "grades.values()"
   ]
  },
  {
   "cell_type": "markdown",
   "metadata": {},
   "source": [
    "** REMEMBER THERE IS NO PARTICULAR ORDER TO DICTIONARIES**\n",
    "### Dictionary Keys and Values:\n",
    "##### Values\n",
    "- can have any type (**imutable and mutable**)\n",
    "- can be **duplicates**\n",
    "- dictionary values can be lists, even **other dictionaries**!   \n",
    "\n",
    "\n",
    "##### Keys\n",
    "- must be **unique**\n",
    "- must be **immutable** (int, float, string, tuple, bool)\n",
    "    - actually need an object that is **hashable**, but think of this as immutable as all immutable types are hashable\n",
    "- be careful with **float** type as a key\n",
    "- **no order** to keys or values\n"
   ]
  },
  {
   "cell_type": "code",
   "execution_count": null,
   "metadata": {},
   "outputs": [],
   "source": []
  },
  {
   "cell_type": "code",
   "execution_count": null,
   "metadata": {},
   "outputs": [],
   "source": []
  }
 ],
 "metadata": {
  "kernelspec": {
   "display_name": "Python 3",
   "language": "python",
   "name": "python3"
  },
  "language_info": {
   "codemirror_mode": {
    "name": "ipython",
    "version": 3
   },
   "file_extension": ".py",
   "mimetype": "text/x-python",
   "name": "python",
   "nbconvert_exporter": "python",
   "pygments_lexer": "ipython3",
   "version": "3.6.5"
  }
 },
 "nbformat": 4,
 "nbformat_minor": 2
}
