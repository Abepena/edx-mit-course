{
 "cells": [
  {
   "cell_type": "markdown",
   "metadata": {},
   "source": [
    "# Fibonacci and dictionaries:\n",
    "___"
   ]
  },
  {
   "cell_type": "markdown",
   "metadata": {},
   "source": [
    "### Fibonacci recursive code"
   ]
  },
  {
   "cell_type": "code",
   "execution_count": 1,
   "metadata": {},
   "outputs": [],
   "source": [
    "def fib(n):\n",
    "    if n == 1:\n",
    "        return 1\n",
    "    elif n == 2:\n",
    "        return 2\n",
    "    else:\n",
    "        return fib(n-1)+ fib(n-2)"
   ]
  },
  {
   "cell_type": "markdown",
   "metadata": {},
   "source": [
    "- two base cases\n",
    "- calls itself twice\n",
    "- this code is inefficient"
   ]
  },
  {
   "cell_type": "markdown",
   "metadata": {},
   "source": [
    "### Fibonacci with a dictionary"
   ]
  },
  {
   "cell_type": "code",
   "execution_count": 11,
   "metadata": {},
   "outputs": [
    {
     "name": "stdout",
     "output_type": "stream",
     "text": [
      "13\n"
     ]
    }
   ],
   "source": [
    "def fib_efficient(number,dictionary):\n",
    "    if number in dictionary:\n",
    "        return dictionary[number]\n",
    "    else:\n",
    "        ans = fib_efficient(number-1, dictionary) + fib_efficient(number-2, dictionary)\n",
    "        dictionary[number] = ans\n",
    "        return ans\n",
    "    \n",
    "base_case_dict= {1:1, 2:2}\n",
    "print(fib_efficient(6,base_case_dict))\n",
    "    "
   ]
  },
  {
   "cell_type": "markdown",
   "metadata": {},
   "source": [
    "- do a **lookup first** in case we already calculated the value\n",
    "- **modify dictionary** as progress through function call "
   ]
  },
  {
   "cell_type": "markdown",
   "metadata": {},
   "source": [
    "# Global Variables\n",
    "___\n",
    "- can be dangerous to use\n",
    "    - breaks the scoping of variables by function call\n",
    "    - allows for side effects of changing variable values in ways that affect other computation\n",
    "- can be convenient when you want to keep track of information inside a function\n",
    "\n",
    "- example \\- measuring how often fib and fib_efficient are called"
   ]
  },
  {
   "cell_type": "markdown",
   "metadata": {},
   "source": [
    "### Tracking efficiency"
   ]
  },
  {
   "cell_type": "code",
   "execution_count": 19,
   "metadata": {},
   "outputs": [
    {
     "name": "stdout",
     "output_type": "stream",
     "text": [
      "Fibonacci of 13: 377\n",
      "Number of calls: 465\n"
     ]
    }
   ],
   "source": [
    "numfibcalls = 0\n",
    "def fib(n):\n",
    "    global numfibcalls\n",
    "    numfibcalls += 1\n",
    "    if n == 1:\n",
    "        return 1\n",
    "    elif n == 2:\n",
    "        return 2\n",
    "    else:\n",
    "        return fib(n-1)+ fib(n-2)\n",
    "\n",
    "print(f\"Fibonacci of 13: {fib(13)}\")\n",
    "print(f\"Number of calls: {numfibcalls}\")"
   ]
  },
  {
   "cell_type": "code",
   "execution_count": 20,
   "metadata": {},
   "outputs": [
    {
     "name": "stdout",
     "output_type": "stream",
     "text": [
      "Fibonacci of 13: 377\n",
      "Number of calls: 23\n"
     ]
    }
   ],
   "source": [
    "numfibefcalls = 0\n",
    "def fib_efficient(number,dictionary):\n",
    "    global numfibefcalls\n",
    "    numfibefcalls += 1\n",
    "    if number in dictionary:\n",
    "        return dictionary[number]\n",
    "    else:\n",
    "        ans = fib_efficient(number-1, dictionary) + fib_efficient(number-2, dictionary)\n",
    "        dictionary[number] = ans\n",
    "        return ans\n",
    "    \n",
    "base_case_dict= {1:1, 2:2}\n",
    "\n",
    "print(f\"Fibonacci of 13: {fib_efficient(13,base_case_dict)}\")\n",
    "print(f\"Number of calls: {numfibefcalls}\")"
   ]
  },
  {
   "cell_type": "code",
   "execution_count": null,
   "metadata": {},
   "outputs": [],
   "source": []
  }
 ],
 "metadata": {
  "kernelspec": {
   "display_name": "Python 3",
   "language": "python",
   "name": "python3"
  },
  "language_info": {
   "codemirror_mode": {
    "name": "ipython",
    "version": 3
   },
   "file_extension": ".py",
   "mimetype": "text/x-python",
   "name": "python",
   "nbconvert_exporter": "python",
   "pygments_lexer": "ipython3",
   "version": "3.6.5"
  }
 },
 "nbformat": 4,
 "nbformat_minor": 2
}
