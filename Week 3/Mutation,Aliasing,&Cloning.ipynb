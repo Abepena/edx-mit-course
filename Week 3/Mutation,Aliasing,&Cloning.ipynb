{
 "cells": [
  {
   "cell_type": "markdown",
   "metadata": {},
   "source": [
    "# Mutation, Aliasing, and Cloning\n",
    "___\n",
    "[pythontutor.com](http://pythontutor.com) will be your bestfriend when trying to learn this  \n",
    "\n",
    "## Lists in memory:\n",
    "- lists are **mutable**\n",
    "- behave differently than immutable types\n",
    "- is an object in memory\n",
    "- variable name points to object\n",
    "- any variable pointing to that object is affected\n",
    "- key phrase when working with lists is **side effects**\n",
    "- if you change the list object itself **every** object pointing to it will be changed as well\n",
    "\n",
    "#### Analogy:\n",
    "- attributes of a person\n",
    "    * singer, rich\n",
    "- he is known by many names\n",
    "- all nicknames point to the **same person**\n",
    "    * add new attribute to one nickname\n",
    "    * ... **all his nicknames** refer to old attributes and all new ones\n",
    "\n",
    "- e.g:\n",
    "    * Justin Drew Bieber\n",
    "    * Justin Bieber\n",
    "    * JB\n",
    "    * Beiber\n",
    "    * The Bieb\n",
    "    * JBeebs\n",
    "- while we know he has attributes (singer,rich) if we add an attribute **Canadian** then all nicknames now also have **singer, rich, Canadian** as attributes\n",
    "\n",
    "\n",
    "## Aliases:\n",
    "- `hot` is an **alias** for `warm` \\- changing one changes the other!  \n",
    "- `append()` has a side effect\n"
   ]
  },
  {
   "cell_type": "code",
   "execution_count": 1,
   "metadata": {},
   "outputs": [
    {
     "name": "stdout",
     "output_type": "stream",
     "text": [
      "1\n"
     ]
    }
   ],
   "source": [
    "a = 1\n",
    "b = a\n",
    "print(b)"
   ]
  },
  {
   "cell_type": "code",
   "execution_count": 2,
   "metadata": {},
   "outputs": [],
   "source": [
    "#list of warm colors\n",
    "warm = [\"red\", \"yellow\", \"orange\"]\n",
    "hot = warm"
   ]
  },
  {
   "cell_type": "code",
   "execution_count": 3,
   "metadata": {},
   "outputs": [
    {
     "name": "stdout",
     "output_type": "stream",
     "text": [
      "['red', 'yellow', 'orange']\n",
      "['red', 'yellow', 'orange']\n"
     ]
    }
   ],
   "source": [
    "print(warm)\n",
    "print(hot)"
   ]
  },
  {
   "cell_type": "code",
   "execution_count": 4,
   "metadata": {},
   "outputs": [
    {
     "name": "stdout",
     "output_type": "stream",
     "text": [
      "['red', 'yellow', 'orange', 'pink']\n",
      "['red', 'yellow', 'orange', 'pink']\n"
     ]
    }
   ],
   "source": [
    "hot.append('pink')\n",
    "print (hot)\n",
    "print (warm)"
   ]
  },
  {
   "cell_type": "markdown",
   "metadata": {},
   "source": [
    "# Print is not ==:\n",
    "___\n",
    "- if two lists print the same thing, does not mean they are the same structure\n",
    "- can test by mutating one, and checking"
   ]
  },
  {
   "cell_type": "code",
   "execution_count": 7,
   "metadata": {},
   "outputs": [
    {
     "name": "stdout",
     "output_type": "stream",
     "text": [
      "['blue', 'green', 'grey']\n",
      "['blue', 'green', 'grey']\n"
     ]
    }
   ],
   "source": [
    "#while the names are the same, \n",
    "#they point to two different structures\n",
    "#mutating one will not affect the other\n",
    "\n",
    "cool = [\"blue\",\"green\",\"grey\"]\n",
    "chill = [\"blue\",\"green\",\"grey\"]\n",
    "print (cool)\n",
    "print(chill)"
   ]
  },
  {
   "cell_type": "code",
   "execution_count": 8,
   "metadata": {},
   "outputs": [],
   "source": [
    "chill[2] = \"blue\""
   ]
  },
  {
   "cell_type": "code",
   "execution_count": 9,
   "metadata": {},
   "outputs": [
    {
     "name": "stdout",
     "output_type": "stream",
     "text": [
      "['blue', 'green', 'grey']\n"
     ]
    }
   ],
   "source": [
    "print(cool)"
   ]
  },
  {
   "cell_type": "code",
   "execution_count": 10,
   "metadata": {},
   "outputs": [
    {
     "name": "stdout",
     "output_type": "stream",
     "text": [
      "['blue', 'green', 'blue']\n"
     ]
    }
   ],
   "source": [
    "print(chill)"
   ]
  },
  {
   "cell_type": "markdown",
   "metadata": {},
   "source": [
    "## Cloning a list:\n",
    "- create a new list and **copy every element** using  \n",
    "```python\n",
    "chill = cool[:]\n",
    "```"
   ]
  },
  {
   "cell_type": "code",
   "execution_count": 11,
   "metadata": {},
   "outputs": [],
   "source": [
    "cool = [\"blue\",\"green\",\"grey\"]\n",
    "chill = cool[:]"
   ]
  },
  {
   "cell_type": "code",
   "execution_count": 13,
   "metadata": {},
   "outputs": [
    {
     "name": "stdout",
     "output_type": "stream",
     "text": [
      "['blue', 'green', 'grey', 'black']\n"
     ]
    }
   ],
   "source": [
    "chill.append(\"black\")\n",
    "print(chill)"
   ]
  },
  {
   "cell_type": "code",
   "execution_count": 14,
   "metadata": {},
   "outputs": [
    {
     "name": "stdout",
     "output_type": "stream",
     "text": [
      "['blue', 'green', 'grey']\n"
     ]
    }
   ],
   "source": [
    "print(cool)"
   ]
  },
  {
   "cell_type": "markdown",
   "metadata": {},
   "source": [
    "## Sorting lists:\n",
    "- calling `sort()` **mutates** the list, returns nothing\n",
    "- calling `sorted()` **does not mutate list**, must assign result to a variable\n",
    "\n",
    "`.sort()` is a list method that returns None  \n",
    "`sorted([list])` is a built-in function that takes an iterable as an argument"
   ]
  },
  {
   "cell_type": "code",
   "execution_count": 15,
   "metadata": {},
   "outputs": [
    {
     "name": "stdout",
     "output_type": "stream",
     "text": [
      "['orange', 'red', 'yellow']\n",
      "None\n"
     ]
    }
   ],
   "source": [
    "warm = ['red','yellow','orange']\n",
    "sortedwarm =warm.sort()\n",
    "print(warm)\n",
    "print(sortedwarm)\n"
   ]
  },
  {
   "cell_type": "code",
   "execution_count": 16,
   "metadata": {},
   "outputs": [
    {
     "name": "stdout",
     "output_type": "stream",
     "text": [
      "['blue', 'green', 'black']\n",
      "['black', 'blue', 'green']\n"
     ]
    }
   ],
   "source": [
    "cool = ['blue', 'green','black']\n",
    "sortedcool = sorted(cool)\n",
    "print (cool)\n",
    "print(sortedcool)"
   ]
  },
  {
   "cell_type": "markdown",
   "metadata": {},
   "source": [
    "## Nested Lists:\n",
    "\n",
    "- side effects still possible after mutation"
   ]
  },
  {
   "cell_type": "code",
   "execution_count": 17,
   "metadata": {},
   "outputs": [],
   "source": [
    "warm = ['yellow', 'orange']\n",
    "hot = ['red']\n",
    "brightcolors = [warm]"
   ]
  },
  {
   "cell_type": "code",
   "execution_count": 18,
   "metadata": {},
   "outputs": [
    {
     "data": {
      "text/plain": [
       "[['yellow', 'orange']]"
      ]
     },
     "execution_count": 18,
     "metadata": {},
     "output_type": "execute_result"
    }
   ],
   "source": [
    "brightcolors"
   ]
  },
  {
   "cell_type": "code",
   "execution_count": 19,
   "metadata": {},
   "outputs": [],
   "source": [
    "brightcolors.append(hot)"
   ]
  },
  {
   "cell_type": "code",
   "execution_count": 20,
   "metadata": {},
   "outputs": [
    {
     "data": {
      "text/plain": [
       "[['yellow', 'orange'], ['red']]"
      ]
     },
     "execution_count": 20,
     "metadata": {},
     "output_type": "execute_result"
    }
   ],
   "source": [
    "brightcolors"
   ]
  },
  {
   "cell_type": "code",
   "execution_count": 21,
   "metadata": {},
   "outputs": [],
   "source": [
    "hot.append('pink')"
   ]
  },
  {
   "cell_type": "markdown",
   "metadata": {},
   "source": [
    "#### Side Effect to brightcolors"
   ]
  },
  {
   "cell_type": "code",
   "execution_count": 22,
   "metadata": {},
   "outputs": [
    {
     "data": {
      "text/plain": [
       "[['yellow', 'orange'], ['red', 'pink']]"
      ]
     },
     "execution_count": 22,
     "metadata": {},
     "output_type": "execute_result"
    }
   ],
   "source": [
    "brightcolors"
   ]
  },
  {
   "cell_type": "markdown",
   "metadata": {},
   "source": [
    ">For this reason we may want to contatenate lists to avoid to \"glue\" them together rather than making a list of lists "
   ]
  },
  {
   "cell_type": "code",
   "execution_count": 23,
   "metadata": {},
   "outputs": [
    {
     "name": "stdout",
     "output_type": "stream",
     "text": [
      "['red', 'pink']\n"
     ]
    }
   ],
   "source": [
    "print(hot)"
   ]
  },
  {
   "cell_type": "markdown",
   "metadata": {},
   "source": [
    "## Mutation and Iteration:\n",
    "- you want to avoid mutating a list as you iterate over it"
   ]
  },
  {
   "cell_type": "code",
   "execution_count": 24,
   "metadata": {},
   "outputs": [
    {
     "name": "stdout",
     "output_type": "stream",
     "text": [
      "[2, 3, 4]\n"
     ]
    }
   ],
   "source": [
    "def remove_dups(L1,l2):\n",
    "    for e in L1:\n",
    "        if e in L2:\n",
    "            L1.remove(e)\n",
    "L1 = [1,2,3,4]\n",
    "L2 = [1,2,5,6]\n",
    "remove_dups(L1,L2)\n",
    "print (L1)"
   ]
  },
  {
   "cell_type": "markdown",
   "metadata": {},
   "source": [
    "- L1 is `[2,3,4]` Why?  \n",
    "    * python uses an internal counter to keep track of index it is in the loop\n",
    "    * mutating changes the list length but Python doesnt update the counter\n",
    "    * loop never sees element 2\n",
    "    \n",
    "use [pythontutor.com](http://pythontutor.com) to run the code above to see line by line\n",
    "\n",
    "Note: [Click this link](https://stackoverflow.com/questions/11520492/difference-between-del-remove-and-pop-on-lists) as refresher for the difference between del, remove, and pop... **they all mutate lists**\n",
    "\n",
    "**TO AVOID THIS, CLONE THE LIST FIRST** then iterate through the clone and mutate the original. This way the original changes but the loop still goes through every element in the list.\n",
    "\n",
    "#### Example:"
   ]
  },
  {
   "cell_type": "code",
   "execution_count": 26,
   "metadata": {},
   "outputs": [
    {
     "name": "stdout",
     "output_type": "stream",
     "text": [
      "[3, 4]\n"
     ]
    }
   ],
   "source": [
    "def remove_dups_new(L1,L2):\n",
    "    L1_clone = L1[:]\n",
    "    for e in L1_clone:\n",
    "        if e in L2:\n",
    "            L1.remove(e)\n",
    "L1 = [1,2,3,4]\n",
    "L2 = [1,2,5,6]\n",
    "remove_dups_new(L1,L2)\n",
    "print (L1)\n"
   ]
  },
  {
   "cell_type": "code",
   "execution_count": null,
   "metadata": {},
   "outputs": [],
   "source": []
  }
 ],
 "metadata": {
  "kernelspec": {
   "display_name": "Python 3",
   "language": "python",
   "name": "python3"
  },
  "language_info": {
   "codemirror_mode": {
    "name": "ipython",
    "version": 3
   },
   "file_extension": ".py",
   "mimetype": "text/x-python",
   "name": "python",
   "nbconvert_exporter": "python",
   "pygments_lexer": "ipython3",
   "version": "3.6.5"
  }
 },
 "nbformat": 4,
 "nbformat_minor": 2
}
