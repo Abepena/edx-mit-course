{
 "cells": [
  {
   "cell_type": "markdown",
   "metadata": {},
   "source": [
    "# Using Functions to Analyze Song Lyrics:\n",
    "\n",
    "1. Create a **frequency dictionary** mapping str:int\n",
    "2. find **word that occurs most** and how many times \n",
    "    - use a list, in case there is more than one word\n",
    "    - return a tuple (list, int) for (words_list_highest_freq)\n",
    "3. find the **words that occur at least X times**\n",
    "    - let user choose \"at least X times\", so allow them as parameters\n",
    "    - return a list of tuples, each tuple is a (list, int) containing the list of words ordered by their frequency\n",
    "    -IDEA: from song dictionary, find most frequent word. Delete most common word. Repeat. It works because you are mutating the song dictionary\n",
    "    "
   ]
  },
  {
   "cell_type": "code",
   "execution_count": 1,
   "metadata": {},
   "outputs": [],
   "source": [
    "def lyrics_to_frequencies(lyrics):\n",
    "    \"\"\"\n",
    "    assumes lyrics is a list of strings composing every\n",
    "    word of a song \n",
    "    \"\"\"\n",
    "    my_dict = {}\n",
    "    for word in lyrics:\n",
    "        if word in my_dict:\n",
    "            my_dict[word]+=1\n",
    "        else:\n",
    "            my_dict[word] = 1\n",
    "    return my_dict"
   ]
  },
  {
   "cell_type": "markdown",
   "metadata": {},
   "source": [
    "### Strip the lyrics of punctuation:\n",
    "Stack overflow: [Stripping punctuation](https://stackoverflow.com/questions/34293875/how-to-remove-punctuation-marks-from-a-string-in-python-3-x-using-translate)\n"
   ]
  },
  {
   "cell_type": "code",
   "execution_count": 39,
   "metadata": {},
   "outputs": [],
   "source": [
    "import string\n",
    "\n",
    "def strip_punctuation(s):\n",
    "    \"\"\"\n",
    "    Assumes s is a string with punctuation\n",
    "    Returns string without punctuation\n",
    "    \"\"\"\n",
    "    translator = s.maketrans(\"\",\"\",string.punctuation)\n",
    "    return s.translate(translator)\n",
    "\n",
    "def lyric_list(lyrics):\n",
    "    \"\"\"\n",
    "    Input: string of lyrics\n",
    "    Output: returns list every word in lyrics split by spaces\n",
    "    \"\"\"\n",
    "    return strip_punctuation(lyrics).strip().split(\" \")\n",
    "    \n",
    "    "
   ]
  },
  {
   "cell_type": "markdown",
   "metadata": {},
   "source": [
    "**Use the functions above to take user input and store the frequency of each word in a dictionary**"
   ]
  },
  {
   "cell_type": "code",
   "execution_count": 40,
   "metadata": {},
   "outputs": [
    {
     "name": "stdout",
     "output_type": "stream",
     "text": [
      "{'You': 21, 'probably': 4, 'think': 4, 'that': 17, 'you': 41, 'are': 4, 'better': 17, 'now': 16, 'only': 9, 'say': 12, 'cause': 8, 'Im': 6, 'not': 18, 'around': 16, 'know': 12, 'I': 28, 'never': 8, 'meant': 8, 'to': 13, 'let': 16, 'down': 16, 'Woulda': 8, 'gave': 16, 'anything': 8, 'woulda': 8, 'everything': 8, 'am': 4, 'youre': 4, 'oh': 4, 'wow': 4, 'did': 1, 'believe': 1, 'it': 2, 'would': 1, 'end': 1, 'no': 3, 'Everything': 1, 'came': 1, 'second': 1, 'the': 4, 'Benzo': 1, 'Youre': 2, 'even': 1, 'speaking': 1, 'my': 8, 'friends': 1, 'knew': 1, 'all': 1, 'uncles': 1, 'and': 3, 'aunts': 1, 'though': 1, 'Twenty': 1, 'candles': 1, 'blow': 1, 'em': 1, 'out': 1, 'open': 1, 'your': 4, 'eyes': 1, 'We': 1, 'were': 1, 'looking': 2, 'forward': 1, 'rest': 1, 'of': 2, 'our': 1, 'lives': 1, 'Used': 1, 'keep': 2, 'picture': 1, 'posted': 1, 'by': 1, 'bedside': 1, 'Now': 1, 'its': 2, 'in': 1, 'dresser': 1, 'with': 2, 'socks': 1, 'dont': 1, 'like': 3, 'And': 1, 'rollin': 4, 'With': 1, 'brothers': 1, 'Jonas': 2, 'Drinkin': 1, 'Henny': 1, 'tryna': 1, 'forget': 1, 'But': 1, 'cant': 1, 'get': 1, 'this': 1, 'shit': 1, 'outta': 1, 'head': 1, 'seen': 1, 'other': 1, 'dude': 1, 'He': 1, 'seemed': 1, 'he': 1, 'was': 2, 'pretty': 1, 'cool': 1, 'so': 1, 'broken': 1, 'over': 1, 'Life': 1, 'goes': 1, 'on': 3, 'what': 2, 'can': 1, 'do': 1, 'just': 1, 'wonder': 1, 'it’s': 1, 'gonna': 1, 'take': 1, 'Another': 1, 'foreign': 1, 'or': 1, 'a': 1, 'bigger': 1, 'chain': 1, 'Because': 1, 'matter': 1, 'how': 1, 'life': 2, 'has': 1, 'changed': 1, 'back': 1, 'days': 1, 'promise': 1, 'swear': 1, 'Ill': 1, 'be': 1, 'okay': 1, 'love': 1}\n"
     ]
    }
   ],
   "source": [
    "lyrics = lyric_list(input(\"Paste in the lyrics of your favorite song: \"))\n",
    "freq = lyrics_to_frequencies(lyrics)\n",
    "print (freq)"
   ]
  },
  {
   "cell_type": "markdown",
   "metadata": {},
   "source": [
    "### Run this to get the most common word (wont mutate dictionary)"
   ]
  },
  {
   "cell_type": "code",
   "execution_count": 41,
   "metadata": {},
   "outputs": [],
   "source": [
    "def most_common_words(freq):\n",
    "    values = freq.values()\n",
    "    best = max(values)\n",
    "    words = []\n",
    "    for key in freq:\n",
    "        if freq[key] == best:\n",
    "            words.append(key)\n",
    "    return (words, best)"
   ]
  },
  {
   "cell_type": "code",
   "execution_count": 42,
   "metadata": {},
   "outputs": [],
   "source": [
    "w,b =most_common_words(freq)"
   ]
  },
  {
   "cell_type": "code",
   "execution_count": 43,
   "metadata": {},
   "outputs": [
    {
     "data": {
      "text/plain": [
       "['you']"
      ]
     },
     "execution_count": 43,
     "metadata": {},
     "output_type": "execute_result"
    }
   ],
   "source": [
    "w"
   ]
  },
  {
   "cell_type": "code",
   "execution_count": 44,
   "metadata": {},
   "outputs": [
    {
     "data": {
      "text/plain": [
       "41"
      ]
     },
     "execution_count": 44,
     "metadata": {},
     "output_type": "execute_result"
    }
   ],
   "source": [
    "b"
   ]
  },
  {
   "cell_type": "markdown",
   "metadata": {},
   "source": [
    "### Now get the words that occur the most often in the song (will mutate dictionary)"
   ]
  },
  {
   "cell_type": "code",
   "execution_count": 45,
   "metadata": {},
   "outputs": [],
   "source": [
    "def words_often(freqs, minTimes):\n",
    "    result = []\n",
    "    done = False\n",
    "    while not done:\n",
    "        temp = most_common_words(freqs)\n",
    "        if temp[1] >= minTimes:\n",
    "            result.append(temp)\n",
    "            for w in temp[0]:\n",
    "                del(freqs[w]) ##removes the word and mutates the frequency dictionary\n",
    "        else:\n",
    "            done = True\n",
    "    return result"
   ]
  },
  {
   "cell_type": "code",
   "execution_count": 46,
   "metadata": {},
   "outputs": [
    {
     "name": "stdout",
     "output_type": "stream",
     "text": [
      "[(['you'], 41), (['I'], 28), (['You'], 21), (['not'], 18), (['that', 'better'], 17), (['now', 'around', 'let', 'down', 'gave'], 16)]\n"
     ]
    }
   ],
   "source": [
    "print(words_often(freq, 15))"
   ]
  },
  {
   "cell_type": "code",
   "execution_count": null,
   "metadata": {},
   "outputs": [],
   "source": []
  }
 ],
 "metadata": {
  "kernelspec": {
   "display_name": "Python 3",
   "language": "python",
   "name": "python3"
  },
  "language_info": {
   "codemirror_mode": {
    "name": "ipython",
    "version": 3
   },
   "file_extension": ".py",
   "mimetype": "text/x-python",
   "name": "python",
   "nbconvert_exporter": "python",
   "pygments_lexer": "ipython3",
   "version": "3.6.5"
  }
 },
 "nbformat": 4,
 "nbformat_minor": 2
}
