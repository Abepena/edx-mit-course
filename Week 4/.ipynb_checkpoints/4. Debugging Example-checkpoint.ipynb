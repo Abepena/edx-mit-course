{
 "cells": [
  {
   "cell_type": "markdown",
   "metadata": {},
   "source": [
    "# Debugging skills\n",
    "- treat debugging as a search problem: looking for an explanation for incorrect behavior\n",
    "     - study available data - both correct test cases and incorrect ones\n",
    "     - form a hypothesis consisten with the data\n",
    "     - design and run a repeatable experiment with potential to refute the hypothesis\n",
    "     - keep record of experiments performedL use narrow range of hypothesis\n",
    "     \n",
    "### Debugging as search\n",
    "- want to narrow down space of possible sources of error\n",
    "- design experiments that expose intermediate stages of computation (use print statements!), and use results to further narrow search\n",
    "- binary search can be powerful tool for this\n",
    "\n",
    "#### Buggy code example:"
   ]
  },
  {
   "cell_type": "code",
   "execution_count": 1,
   "metadata": {},
   "outputs": [
    {
     "ename": "SyntaxError",
     "evalue": "invalid syntax (<ipython-input-1-c849813143cb>, line 18)",
     "output_type": "error",
     "traceback": [
      "\u001b[0;36m  File \u001b[0;32m\"<ipython-input-1-c849813143cb>\"\u001b[0;36m, line \u001b[0;32m18\u001b[0m\n\u001b[0;31m    print('Yes'):\u001b[0m\n\u001b[0m                 ^\u001b[0m\n\u001b[0;31mSyntaxError\u001b[0m\u001b[0;31m:\u001b[0m invalid syntax\n"
     ]
    }
   ],
   "source": [
    "## Function that determines if input is a palindrome or not\n",
    "\n",
    "def isPal(x):\n",
    "    assert type(x) == list\n",
    "    temp = x\n",
    "    temp.reverse\n",
    "    if temp == x:\n",
    "        return True\n",
    "    else:\n",
    "        return False\n",
    "\n",
    "def silly(n):\n",
    "    for i in range(n):\n",
    "        result = []\n",
    "        elem = input('Enter element: ')\n",
    "        result.append(elem)\n",
    "    if isPal(result):\n",
    "        print('Yes')\n",
    "    else:\n",
    "        print('No')\n",
    "\n"
   ]
  },
  {
   "cell_type": "code",
   "execution_count": null,
   "metadata": {},
   "outputs": [],
   "source": []
  }
 ],
 "metadata": {
  "kernelspec": {
   "display_name": "Python 3",
   "language": "python",
   "name": "python3"
  },
  "language_info": {
   "codemirror_mode": {
    "name": "ipython",
    "version": 3
   },
   "file_extension": ".py",
   "mimetype": "text/x-python",
   "name": "python",
   "nbconvert_exporter": "python",
   "pygments_lexer": "ipython3",
   "version": "3.6.5"
  }
 },
 "nbformat": 4,
 "nbformat_minor": 2
}
