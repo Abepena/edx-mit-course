{
 "cells": [
  {
   "cell_type": "markdown",
   "metadata": {},
   "source": [
    "# Debugging skills\n",
    "- treat debugging as a search problem: looking for an explanation for incorrect behavior\n",
    "     - study available data - both correct test cases and incorrect ones\n",
    "     - form a hypothesis consisten with the data\n",
    "     - design and run a repeatable experiment with potential to refute the hypothesis\n",
    "     - keep record of experiments performedL use narrow range of hypothesis\n",
    "     \n",
    "### Debugging as search\n",
    "- want to narrow down space of possible sources of error\n",
    "- design experiments that expose intermediate stages of computation (use print statements!), and use results to further narrow search\n",
    "- binary search can be powerful tool for this\n",
    "\n",
    "#### Buggy code example:"
   ]
  },
  {
   "cell_type": "code",
   "execution_count": 2,
   "metadata": {},
   "outputs": [],
   "source": [
    "## Function that determines if input is a palindrome or not\n",
    "\n",
    "def isPal(x):\n",
    "    assert type(x) == list\n",
    "    temp = x\n",
    "    temp.reverse\n",
    "    if temp == x:\n",
    "        return True\n",
    "    else:\n",
    "        return False\n",
    "\n",
    "def silly(n):\n",
    "    for i in range(n):\n",
    "        result = []\n",
    "        elem = input('Enter element: ')\n",
    "        result.append(elem)\n",
    "    if isPal(result):\n",
    "        print('Yes')\n",
    "    else:\n",
    "        print('No')\n",
    "\n"
   ]
  },
  {
   "cell_type": "code",
   "execution_count": 5,
   "metadata": {},
   "outputs": [
    {
     "name": "stdout",
     "output_type": "stream",
     "text": [
      "Yes\n"
     ]
    }
   ],
   "source": [
    "silly(7)"
   ]
  },
  {
   "cell_type": "markdown",
   "metadata": {},
   "source": [
    "### IT WORKS!"
   ]
  },
  {
   "cell_type": "code",
   "execution_count": 7,
   "metadata": {},
   "outputs": [
    {
     "name": "stdout",
     "output_type": "stream",
     "text": [
      "Yes\n"
     ]
    }
   ],
   "source": [
    "silly(2)"
   ]
  },
  {
   "cell_type": "markdown",
   "metadata": {},
   "source": [
    "### NO it doesn't"
   ]
  },
  {
   "cell_type": "code",
   "execution_count": 10,
   "metadata": {},
   "outputs": [],
   "source": [
    "## Function that determines if input is a palindrome or not\n",
    "\n",
    "def isPal(x):\n",
    "    assert type(x) == list\n",
    "    temp = x\n",
    "    temp.reverse\n",
    "    if temp == x:\n",
    "        return True\n",
    "    else:\n",
    "        return False\n",
    "\n",
    "def silly(n):\n",
    "    for i in range(n):\n",
    "        result = []\n",
    "        elem = input('Enter element: ')\n",
    "        result.append(elem)\n",
    "    print(result) #adding this print statement to test\n",
    "    if isPal(result):\n",
    "        print('Yes')\n",
    "    else:\n",
    "        print('No')\n",
    "\n"
   ]
  },
  {
   "cell_type": "code",
   "execution_count": 11,
   "metadata": {},
   "outputs": [
    {
     "name": "stdout",
     "output_type": "stream",
     "text": [
      "['b']\n",
      "Yes\n"
     ]
    }
   ],
   "source": [
    "silly(2)"
   ]
  },
  {
   "cell_type": "markdown",
   "metadata": {},
   "source": [
    "a is not being appended.... why!?"
   ]
  },
  {
   "cell_type": "markdown",
   "metadata": {},
   "source": [
    "- binary search lets you know that there must be an error inside the code\n",
    "- lets put a print statement inside the code to see whats going on"
   ]
  },
  {
   "cell_type": "code",
   "execution_count": 12,
   "metadata": {},
   "outputs": [],
   "source": [
    "## Function that determines if input is a palindrome or not\n",
    "\n",
    "def isPal(x):\n",
    "    assert type(x) == list\n",
    "    temp = x\n",
    "    temp.reverse\n",
    "    if temp == x:\n",
    "        return True\n",
    "    else:\n",
    "        return False\n",
    "\n",
    "def silly(n):\n",
    "    for i in range(n):\n",
    "        result = []\n",
    "        elem = input('Enter element: ')\n",
    "        result.append(elem) \n",
    "        print(result)#adding this print statement to test\n",
    "    if isPal(result):\n",
    "        print('Yes')\n",
    "    else:\n",
    "        print('No')\n",
    "\n"
   ]
  },
  {
   "cell_type": "code",
   "execution_count": 13,
   "metadata": {},
   "outputs": [
    {
     "name": "stdout",
     "output_type": "stream",
     "text": [
      "['a']\n",
      "['b']\n",
      "Yes\n"
     ]
    }
   ],
   "source": [
    "silly(2)"
   ]
  },
  {
   "cell_type": "markdown",
   "metadata": {},
   "source": [
    "- AH! each time you are going through the loop you are setting the result to an empty list again\n",
    "- you will only get a list of length 1 with the code above\n",
    "- iyou want to initialize result outside of the loop"
   ]
  },
  {
   "cell_type": "code",
   "execution_count": 14,
   "metadata": {},
   "outputs": [],
   "source": [
    "## Function that determines if input is a palindrome or not\n",
    "\n",
    "def isPal(x):\n",
    "    assert type(x) == list\n",
    "    temp = x\n",
    "    temp.reverse\n",
    "    if temp == x:\n",
    "        return True\n",
    "    else:\n",
    "        return False\n",
    "\n",
    "def silly(n):\n",
    "    result = [] # Now iniitializing result outside of the loop\n",
    "    for i in range(n):\n",
    "        elem = input('Enter element: ')\n",
    "        result.append(elem)\n",
    "        print(result) #adding this print statement to test\n",
    "    if isPal(result):\n",
    "        print('Yes')\n",
    "    else:\n",
    "        print('No')\n"
   ]
  },
  {
   "cell_type": "code",
   "execution_count": 15,
   "metadata": {},
   "outputs": [
    {
     "name": "stdout",
     "output_type": "stream",
     "text": [
      "['a']\n",
      "['a', 'b']\n",
      "Yes\n"
     ]
    }
   ],
   "source": [
    "silly(2)"
   ]
  },
  {
   "cell_type": "markdown",
   "metadata": {},
   "source": [
    "### Oh no! still a bug. But at least we have that portion working now\n",
    "\n",
    "- Since we know that the result loop is working the issue must lie somewhere below the print statement\n",
    "- now we focus on isPal()"
   ]
  },
  {
   "cell_type": "code",
   "execution_count": 26,
   "metadata": {},
   "outputs": [],
   "source": [
    "## Function that determines if input is a palindrome or not\n",
    "\n",
    "def isPal(x):\n",
    "    assert type(x) == list\n",
    "    temp = x\n",
    "    print('before reverse', temp,x)\n",
    "    temp.reverse\n",
    "    print('after reverse', temp,x)\n",
    "    if temp == x:\n",
    "        return True\n",
    "    else:\n",
    "        return False\n",
    "\n",
    "def silly(n):\n",
    "    result = [] # Now iniitializing result outside of the loop\n",
    "    for i in range(n):\n",
    "        elem = input('Enter element: ')\n",
    "        result.append(elem)\n",
    "        #print(result) #adding this print statement to test\n",
    "    if isPal(result):\n",
    "        print('Yes')\n",
    "    else:\n",
    "        print('No')\n"
   ]
  },
  {
   "cell_type": "code",
   "execution_count": 27,
   "metadata": {},
   "outputs": [
    {
     "name": "stdout",
     "output_type": "stream",
     "text": [
      "before reverse ['a', 'b'] ['a', 'b']\n",
      "after reverse ['a', 'b'] ['a', 'b']\n",
      "Yes\n"
     ]
    }
   ],
   "source": [
    "silly(2)"
   ]
  },
  {
   "cell_type": "markdown",
   "metadata": {},
   "source": [
    "### missing parenthesis after reverse()"
   ]
  },
  {
   "cell_type": "code",
   "execution_count": 28,
   "metadata": {},
   "outputs": [],
   "source": [
    "## Function that determines if input is a palindrome or not\n",
    "\n",
    "def isPal(x):\n",
    "    assert type(x) == list\n",
    "    temp = x\n",
    "    print('before reverse', temp,x)\n",
    "    temp.reverse()\n",
    "    print('after reverse', temp,x)\n",
    "    if temp == x:\n",
    "        return True\n",
    "    else:\n",
    "        return False\n",
    "\n",
    "def silly(n):\n",
    "    result = [] # Now iniitializing result outside of the loop\n",
    "    for i in range(n):\n",
    "        elem = input('Enter element: ')\n",
    "        result.append(elem)\n",
    "        #print(result) #adding this print statement to test\n",
    "    if isPal(result):\n",
    "        print('Yes')\n",
    "    else:\n",
    "        print('No')\n"
   ]
  },
  {
   "cell_type": "code",
   "execution_count": 29,
   "metadata": {},
   "outputs": [
    {
     "name": "stdout",
     "output_type": "stream",
     "text": [
      "before reverse ['a', 'b'] ['a', 'b']\n",
      "after reverse ['b', 'a'] ['b', 'a']\n",
      "Yes\n"
     ]
    }
   ],
   "source": [
    "silly(2)"
   ]
  },
  {
   "cell_type": "markdown",
   "metadata": {},
   "source": [
    "### now they are both reversed  so isPal() will return False\n",
    "- why? we set temp = x so it has cause an alising bug\n",
    "- both temp and x are pointing to the same object (list created by the for loop in silly)\n",
    "- an easy fix is to make a copy by cloning x .... (temp = x[:])"
   ]
  },
  {
   "cell_type": "code",
   "execution_count": 30,
   "metadata": {},
   "outputs": [],
   "source": [
    "def isPal(x):\n",
    "    assert type(x) == list\n",
    "    temp = x[:] # makes a copy now\n",
    "    print('before reverse', temp,x)\n",
    "    temp.reverse()\n",
    "    print('after reverse', temp,x)\n",
    "    if temp == x:\n",
    "        return True\n",
    "    else:\n",
    "        return False\n",
    "\n",
    "def silly(n):\n",
    "    result = [] # Now iniitializing result outside of the loop\n",
    "    for i in range(n):\n",
    "        elem = input('Enter element: ')\n",
    "        result.append(elem)\n",
    "        #print(result) #adding this print statement to test\n",
    "    if isPal(result):\n",
    "        print('Yes')\n",
    "    else:\n",
    "        print('No')\n"
   ]
  },
  {
   "cell_type": "code",
   "execution_count": 31,
   "metadata": {},
   "outputs": [
    {
     "name": "stdout",
     "output_type": "stream",
     "text": [
      "before reverse ['a', 'b'] ['a', 'b']\n",
      "after reverse ['b', 'a'] ['a', 'b']\n",
      "No\n"
     ]
    }
   ],
   "source": [
    "silly(2)"
   ]
  },
  {
   "cell_type": "markdown",
   "metadata": {},
   "source": [
    "### It really works now!!!!!\n",
    "\n",
    "- look for pragmatic hints\n",
    "- the usal suspects\n",
    "- ask why the code is doing what it is, not why it isn't doing what you want\n",
    "- the bug is probably not where you think it is, **eliminate locations**\n",
    "- explain the problem to someone else\n",
    "- don't believe in the documentation\n",
    "- take a break and come back to the bug later"
   ]
  },
  {
   "cell_type": "code",
   "execution_count": null,
   "metadata": {},
   "outputs": [],
   "source": []
  }
 ],
 "metadata": {
  "kernelspec": {
   "display_name": "Python 3",
   "language": "python",
   "name": "python3"
  },
  "language_info": {
   "codemirror_mode": {
    "name": "ipython",
    "version": 3
   },
   "file_extension": ".py",
   "mimetype": "text/x-python",
   "name": "python",
   "nbconvert_exporter": "python",
   "pygments_lexer": "ipython3",
   "version": "3.6.5"
  }
 },
 "nbformat": 4,
 "nbformat_minor": 2
}
