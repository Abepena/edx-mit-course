{
 "cells": [
  {
   "cell_type": "markdown",
   "metadata": {},
   "source": [
    "# Exceptions, Assertions:\n",
    "___\n",
    "- what happens when procedure execution hits an unexpected condition\n",
    "- get an **exception**... to what is expected\n",
    "     - trying to access beyond list limits = IndexError\n",
    "     ```python\n",
    "     test = [1,7,4]\n",
    "     test[4]\n",
    "     ```\n",
    "     - trying to convert an inappropriate type ```int(test)``` = TypeError\n",
    "     - referencing a non-exisiting variable ```a``` = NameError\n",
    "     - mixing data types without coercion `'a'/4` = TypeError\n",
    "     \n",
    "### Other types of exceptions:\n",
    "- already seen common error types:\n",
    "     - SyntaxError: Python can't parse program\n",
    "     - NameError: local or global name not found\n",
    "     - Attribute Error: attribute reference fails\n",
    "     - Type Error: operand doesn't have correct type\n",
    "     - IOError: IO system reports malfunction (e.g. file not found)\n",
    "     \n",
    "### What to do with exceptions\n",
    "- what to do when you encounter an error\n",
    "1. fail silently:\n",
    "     - substitute default values or just continue\n",
    "     - **REALLY BAD IDEA**! user gets no warning\n",
    "2. get an \"error\" value:\n",
    "     - what to choose?\n",
    "     - complicates code having to check for a special value\n",
    "3. stop execution, **signal error** condition\n",
    "     - in Python: **raise an exception**\n",
    "     ```python\n",
    "        raise Exception(\"descriptive string of why an error was raised\")\n",
    "```\n",
    "\n",
    "### Dealing with exceptions\n",
    "- Python code can provide **handlers** for exceptions"
   ]
  },
  {
   "cell_type": "code",
   "execution_count": 4,
   "metadata": {},
   "outputs": [
    {
     "name": "stdout",
     "output_type": "stream",
     "text": [
      "Bug in user input.\n",
      "Outside\n"
     ]
    }
   ],
   "source": [
    "try:\n",
    "    a = int(input(\"Tell me one number: \"))\n",
    "    b = int(input(\"Tell me another number: \"))\n",
    "    print (a/b)\n",
    "    print (\"OK\")\n",
    "except:\n",
    "    print(\"Bug in user input.\") # maybe a divide by zero input or the input is a character\n",
    "\n",
    "print(\"Outside\")"
   ]
  },
  {
   "cell_type": "markdown",
   "metadata": {},
   "source": [
    "- exceptions **raised** by any statement in body of try are **handled** by the **except** statement and execution continues after the body of the `except` statement"
   ]
  },
  {
   "cell_type": "markdown",
   "metadata": {},
   "source": [
    "### Handling specific exceptions\n",
    "- have **seperate except clauses** to deal with a particular type of exception"
   ]
  },
  {
   "cell_type": "code",
   "execution_count": 8,
   "metadata": {},
   "outputs": [],
   "source": [
    "def try_func():\n",
    "    try:\n",
    "        a = int(input(\"Tell me one number: \"))\n",
    "        b = int(input(\"Tell me another number: \"))\n",
    "        print (\"a/b = \", a/b)\n",
    "        print (\"a+b = \", a+b)\n",
    "    except ValueError:\n",
    "        print(\"Could not convert to a number\")\n",
    "    except ZeroDivisionError:\n",
    "        print (\"Cant divide by zero\")\n",
    "    except:\n",
    "        print(\"Something went very very wrong!\")\n",
    "\n",
    "    print(\"Outside\")"
   ]
  },
  {
   "cell_type": "code",
   "execution_count": 9,
   "metadata": {},
   "outputs": [
    {
     "name": "stdout",
     "output_type": "stream",
     "text": [
      "Could not convert to a number\n",
      "Outside\n"
     ]
    }
   ],
   "source": [
    "try_func()"
   ]
  },
  {
   "cell_type": "code",
   "execution_count": 10,
   "metadata": {},
   "outputs": [
    {
     "name": "stdout",
     "output_type": "stream",
     "text": [
      "Cant divide by zero\n",
      "Outside\n"
     ]
    }
   ],
   "source": [
    "try_func()"
   ]
  },
  {
   "cell_type": "markdown",
   "metadata": {},
   "source": [
    "### Other exceptions\n",
    "- **else**:\n",
    "     - body of this is executed when execution of associated try body **completes with no exceptions**\n",
    "     - else behaves similarly after **for/while** loops. If nothing is wrong in the loop the else condition will execute\n",
    "- **finally**:\n",
    "     - body of the is **always executed** after `try, else` and `except` clauses, even if they raised another error or executed a `break, continue,` or `return`\n",
    "     - useful for clean-up code that should run no matter what else happened (e.g. close a file)"
   ]
  },
  {
   "cell_type": "code",
   "execution_count": null,
   "metadata": {},
   "outputs": [],
   "source": []
  }
 ],
 "metadata": {
  "kernelspec": {
   "display_name": "Python 3",
   "language": "python",
   "name": "python3"
  },
  "language_info": {
   "codemirror_mode": {
    "name": "ipython",
    "version": 3
   },
   "file_extension": ".py",
   "mimetype": "text/x-python",
   "name": "python",
   "nbconvert_exporter": "python",
   "pygments_lexer": "ipython3",
   "version": "3.6.5"
  }
 },
 "nbformat": 4,
 "nbformat_minor": 2
}
