{
 "cells": [
  {
   "cell_type": "markdown",
   "metadata": {},
   "source": [
    "# Debugging\n",
    "\n",
    "- Steep learning curve\n",
    "- goal is to have a bug-free program\n",
    "-tools\n",
    "     - built in to IDLE and Anaconda\n",
    "     - *Python Tutor*\n",
    "     - print statements\n",
    "     - use your brain, be **systematic** in your approach\n",
    "\n",
    "### print() statments\n",
    "- good way to **test hypothesis**\n",
    "- when to print\n",
    "     - entering a function\n",
    "     - parameters\n",
    "     - function results\n",
    "     \n",
    "- use bisection method\n",
    "- put a print statement halfway through the code\n",
    "- decide where bug may be depending on values\n",
    "\n",
    "IndexError: - trying to access beyond limits of a list\n",
    "TypeError: try to convert an inappropriate type int(type)\n",
    "NameError: referencing an non-existent variable\n",
    "TypeError: mixing data types without appropriate coercion\n",
    "SyntaxError: forgetting to close parenthesis, quotations, etc\n",
    "\n",
    "### Logic Errors - Hard\n",
    "- **think** before writing new code\n",
    "- **draw** pictures, take a break\n",
    "- **explain** the code to:\n",
    "     - someone else\n",
    "     - a rubber ducky\n",
    "#### Debugging\n",
    "- study program codeif n==1:\n",
    "     -ask how did I get the unexpected result\n",
    "     - dont ask what is wrong\n",
    "     - is it part of a family\n",
    "     \n",
    "- **scientific method** \n",
    "    - study available data\n",
    "    - form hypothesis\n",
    "    - repeatable experiments\n",
    "    - pick simplest input to test with"
   ]
  },
  {
   "cell_type": "code",
   "execution_count": null,
   "metadata": {},
   "outputs": [],
   "source": []
  }
 ],
 "metadata": {
  "kernelspec": {
   "display_name": "Python 3",
   "language": "python",
   "name": "python3"
  },
  "language_info": {
   "codemirror_mode": {
    "name": "ipython",
    "version": 3
   },
   "file_extension": ".py",
   "mimetype": "text/x-python",
   "name": "python",
   "nbconvert_exporter": "python",
   "pygments_lexer": "ipython3",
   "version": "3.6.5"
  }
 },
 "nbformat": 4,
 "nbformat_minor": 2
}
