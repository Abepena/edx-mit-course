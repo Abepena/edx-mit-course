{
 "cells": [
  {
   "cell_type": "markdown",
   "metadata": {},
   "source": [
    "# Heirachies:\n",
    "- **parent** class (superclass)\n",
    "- **child class** (subclass)\n",
    "    - **inherits** all data and behaviors from parent class\n",
    "    - can **add** more info\n",
    "    - can **add** more behavior\n",
    "    - can **override** behavior"
   ]
  },
  {
   "cell_type": "code",
   "execution_count": 1,
   "metadata": {},
   "outputs": [],
   "source": [
    "class Animal:\n",
    "    def __init__(self,age):\n",
    "        self.age = age\n",
    "        self.name = None\n",
    "    def get_name(self):\n",
    "        return self.name\n",
    "    def get_age(self):\n",
    "        return self.age\n",
    "    def set_age(self,newage):\n",
    "        self.age = newage\n",
    "    def set_name(self,new_name =\"\"): #default of no string\n",
    "        self.name = new_name\n",
    "    def __str__(self):\n",
    "        return \"animal: {}:{}\".format(self.name,self.age)\n"
   ]
  },
  {
   "cell_type": "code",
   "execution_count": 2,
   "metadata": {},
   "outputs": [],
   "source": [
    "class Cat(Animal):\n",
    "    def speak(self):\n",
    "        print(\"meow\")\n",
    "    def __str__(self):\n",
    "        return \"cat: {}:{}\".format(self.name,self.age)"
   ]
  },
  {
   "cell_type": "code",
   "execution_count": 3,
   "metadata": {},
   "outputs": [],
   "source": [
    "jelly = Cat(1)"
   ]
  },
  {
   "cell_type": "code",
   "execution_count": 4,
   "metadata": {},
   "outputs": [],
   "source": [
    "jelly.get_name()"
   ]
  },
  {
   "cell_type": "code",
   "execution_count": 5,
   "metadata": {},
   "outputs": [],
   "source": [
    "jelly.set_name(\"JellyBelly\")"
   ]
  },
  {
   "cell_type": "code",
   "execution_count": 6,
   "metadata": {},
   "outputs": [
    {
     "data": {
      "text/plain": [
       "'JellyBelly'"
      ]
     },
     "execution_count": 6,
     "metadata": {},
     "output_type": "execute_result"
    }
   ],
   "source": [
    "jelly.get_name()"
   ]
  },
  {
   "cell_type": "code",
   "execution_count": 7,
   "metadata": {},
   "outputs": [
    {
     "name": "stdout",
     "output_type": "stream",
     "text": [
      "animal: JellyBelly:1\n"
     ]
    }
   ],
   "source": [
    "print(Animal.__str__(jelly))"
   ]
  },
  {
   "cell_type": "code",
   "execution_count": 8,
   "metadata": {},
   "outputs": [],
   "source": [
    "blob = Animal(1)"
   ]
  },
  {
   "cell_type": "code",
   "execution_count": 9,
   "metadata": {},
   "outputs": [
    {
     "name": "stdout",
     "output_type": "stream",
     "text": [
      "animal: None:1\n"
     ]
    }
   ],
   "source": [
    "print(blob)"
   ]
  },
  {
   "cell_type": "code",
   "execution_count": 10,
   "metadata": {},
   "outputs": [],
   "source": [
    "blob.set_name()"
   ]
  },
  {
   "cell_type": "code",
   "execution_count": 11,
   "metadata": {},
   "outputs": [
    {
     "name": "stdout",
     "output_type": "stream",
     "text": [
      "animal: :1\n"
     ]
    }
   ],
   "source": [
    "print(blob)"
   ]
  },
  {
   "cell_type": "code",
   "execution_count": 17,
   "metadata": {},
   "outputs": [],
   "source": [
    "class Rabbit(Animal):\n",
    "    def speak(self):\n",
    "        print(\"meep\")\n",
    "    def __str__(self):\n",
    "        return \"rabbit: {}:{}\".format(self.name,self.age)"
   ]
  },
  {
   "cell_type": "code",
   "execution_count": 18,
   "metadata": {},
   "outputs": [],
   "source": [
    "peter = Rabbit(5)"
   ]
  },
  {
   "cell_type": "code",
   "execution_count": 19,
   "metadata": {},
   "outputs": [
    {
     "name": "stdout",
     "output_type": "stream",
     "text": [
      "meow\n"
     ]
    }
   ],
   "source": [
    "jelly.speak()"
   ]
  },
  {
   "cell_type": "code",
   "execution_count": 20,
   "metadata": {},
   "outputs": [
    {
     "name": "stdout",
     "output_type": "stream",
     "text": [
      "meep\n"
     ]
    }
   ],
   "source": [
    "peter.speak()"
   ]
  },
  {
   "cell_type": "code",
   "execution_count": 21,
   "metadata": {},
   "outputs": [
    {
     "ename": "AttributeError",
     "evalue": "'Animal' object has no attribute 'speak'",
     "output_type": "error",
     "traceback": [
      "\u001b[0;31m---------------------------------------------------------------------------\u001b[0m",
      "\u001b[0;31mAttributeError\u001b[0m                            Traceback (most recent call last)",
      "\u001b[0;32m<ipython-input-21-94bb5e7b33ae>\u001b[0m in \u001b[0;36m<module>\u001b[0;34m()\u001b[0m\n\u001b[0;32m----> 1\u001b[0;31m \u001b[0mblob\u001b[0m\u001b[0;34m.\u001b[0m\u001b[0mspeak\u001b[0m\u001b[0;34m(\u001b[0m\u001b[0;34m)\u001b[0m\u001b[0;34m\u001b[0m\u001b[0m\n\u001b[0m",
      "\u001b[0;31mAttributeError\u001b[0m: 'Animal' object has no attribute 'speak'"
     ]
    }
   ],
   "source": [
    "blob.speak()"
   ]
  },
  {
   "cell_type": "markdown",
   "metadata": {},
   "source": [
    "Even though the speak methods are defines for classes that inherit from the Animal class, an object that is an instance of the animal class can not access speak methods because they are below thm in the heirachy"
   ]
  },
  {
   "cell_type": "code",
   "execution_count": 25,
   "metadata": {},
   "outputs": [],
   "source": [
    "class Person(Animal):\n",
    "    def __init__(self,name,age):\n",
    "        Animal.__init__(self,age) #calls the Animal Constructor\n",
    "        Animal.set_name(self,name) #calls Animal's method\n",
    "        self.friends = []          #adds a new data structure\n",
    "    def get_friends(self):\n",
    "        return self.friends\n",
    "    def add_friend(self,fname):\n",
    "        if fname not in self.friends:\n",
    "            self.friends.append(fname)\n",
    "    def speak(self):\n",
    "        print(\"hello\")\n",
    "    def age_diff(self, other):\n",
    "        diff = self.get_age() - other.get_age()\n",
    "        if diff > 0:\n",
    "            print(\"{} is {} years older than {}\".format(\n",
    "                                                self.name,\n",
    "                                                diff,\n",
    "                                                other.name))\n",
    "        elif diff < 0:\n",
    "            print(\"{} is {} years younger than {}\".format(\n",
    "                                                self.name,\n",
    "                                                -diff,\n",
    "                                                other.name)\n",
    "                 )\n",
    "        else:\n",
    "            print(\"{} and {} are the same age.\".format(self.name,\n",
    "                                                       other.name)\n",
    "                 )\n",
    "    def __str__(self):\n",
    "        return \"person: {}:{}\".format(self.name,self.age)\n",
    "\n",
    "eric = Person(\"eric\", 45)\n",
    "john = Person(\"john\", 55)"
   ]
  },
  {
   "cell_type": "code",
   "execution_count": 26,
   "metadata": {},
   "outputs": [
    {
     "name": "stdout",
     "output_type": "stream",
     "text": [
      "hello\n"
     ]
    }
   ],
   "source": [
    "eric.speak()"
   ]
  },
  {
   "cell_type": "code",
   "execution_count": 27,
   "metadata": {},
   "outputs": [
    {
     "name": "stdout",
     "output_type": "stream",
     "text": [
      "eric is 10 years younger than john\n"
     ]
    }
   ],
   "source": [
    "Person.age_diff(eric,john)"
   ]
  },
  {
   "cell_type": "code",
   "execution_count": 31,
   "metadata": {},
   "outputs": [],
   "source": [
    "import random\n",
    "\n",
    "class Student(Person):\n",
    "    def __init__(self,name,age,major=None):\n",
    "        Person.__init__(self, name, age) # inherits Person and Animal atributes\n",
    "        self.major = major               #adds new data\n",
    "    def change_major(self, major):\n",
    "        self.major = major\n",
    "    def speak(self):\n",
    "        r = random.random()\n",
    "        if r < 0.25:\n",
    "            print(\"i have homework\")\n",
    "        elif 0.25 <= r < .5:\n",
    "            print(\"i need sleep\")\n",
    "        elif .5 <= r < .75:\n",
    "            print(\"i should eat\")\n",
    "        else:\n",
    "            print(\"i am watching tv\")\n",
    "    def __str__(self):\n",
    "        return \"student:{}:{}:{}\".format(self.name,self.age,self.major)"
   ]
  },
  {
   "cell_type": "code",
   "execution_count": 32,
   "metadata": {},
   "outputs": [],
   "source": [
    "fred = Student(\"Fred\",20,\"Aerospace Engineering\")"
   ]
  },
  {
   "cell_type": "code",
   "execution_count": 35,
   "metadata": {},
   "outputs": [
    {
     "name": "stdout",
     "output_type": "stream",
     "text": [
      "student:Fred:20:Aerospace Engineering\n",
      "i am watching tv\n"
     ]
    }
   ],
   "source": [
    "print (fred)\n",
    "fred.speak()"
   ]
  },
  {
   "cell_type": "code",
   "execution_count": null,
   "metadata": {},
   "outputs": [],
   "source": []
  }
 ],
 "metadata": {
  "kernelspec": {
   "display_name": "Python 3",
   "language": "python",
   "name": "python3"
  },
  "language_info": {
   "codemirror_mode": {
    "name": "ipython",
    "version": 3
   },
   "file_extension": ".py",
   "mimetype": "text/x-python",
   "name": "python",
   "nbconvert_exporter": "python",
   "pygments_lexer": "ipython3",
   "version": "3.6.4"
  }
 },
 "nbformat": 4,
 "nbformat_minor": 2
}
