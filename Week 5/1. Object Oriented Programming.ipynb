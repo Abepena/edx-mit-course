{
 "cells": [
  {
   "cell_type": "markdown",
   "metadata": {},
   "source": [
    "# Object oriented Programming:\n",
    "\n",
    "- Python supports many different kinds of data\n",
    "- each is an instance of an **object**, and every object has:\n",
    "     - a type \n",
    "     - an internal **data representation** (primitive or composite)\n",
    "     - a set of procedures for **interaction** with the object\n",
    "     - each **instance** is a particular type of object\n",
    "     - `1234` is an instance of an `int`\n",
    "     - a = `\"hello\"` `a` is an instance of a string\n",
    "\n",
    "### OOP\n",
    "- every object in python is an object\n",
    "- objects are a data abstraction that capture:\n",
    "     - internal representation through data attributes\n",
    "     - interface for interacting with objects through methods (procedures), defines behaviors but hides implementation\n",
    "     - can **create new instances** of objects\n",
    "     - can ** destroy objects**\n",
    "          explicitly using `del` or just \"forget\" about them\n",
    "     - Python system will reclaim destroyed or inaccesible objects - called \"garbage collection\"\n",
    "\n",
    "### Standard Data Objects\n",
    "- some object types in Python\n",
    "    - lists - [1,2,3,4]\n",
    "    - tuples - (1,2,3,4)\n",
    "    - strings 'abcd'\n",
    "    \n",
    "- want to explore ability to create **our own data object** types\n",
    "\n",
    "# Class instances:\n",
    "\n",
    "- use the **class** keyword to define a new type"
   ]
  },
  {
   "cell_type": "code",
   "execution_count": 2,
   "metadata": {},
   "outputs": [],
   "source": [
    "class Coordinate:\n",
    "    #Define atributes here\n",
    "    pass\n",
    "    "
   ]
  },
  {
   "cell_type": "markdown",
   "metadata": {},
   "source": [
    "- similar to **def**, indicate which statements are part of the **class definition**\n",
    "- the word **object** means that `Coordinate` is a Python object and inherits all the object attibutes (deprecated in Python 3) \n",
    "- in Python 3 classes will inherit from object by default (since everything in python is an object)\n",
    "     - Coordinate is a subclass of object\n",
    "     - object is a superclass of Coordinate\n",
    "\n",
    "### What are attributes:\n",
    "- data and procedures that **belong** to the class\n",
    "- **data** attributes\n",
    "    - think of data as other objects that make up the class\n",
    "    - for example a coordinate is made up of 2 numbers (in 2D space)\n",
    "- procedural atributes (**methods**)\n",
    "    -think of methods as functoin that only work with this class\n",
    "    - for example you can define a distance between two coordinate objects but there is no meaning to a distance between two list objects\n",
    "\n",
    "### Defining how to create an instance of a class\n",
    "- first have to define **how to create an instance** of an object\n",
    "- use a **special method called \\_\\_init\\_\\_** to initialize some data attributes\n",
    "- \\_\\_init\\_\\_ creates an instance\n"
   ]
  },
  {
   "cell_type": "code",
   "execution_count": 3,
   "metadata": {},
   "outputs": [],
   "source": [
    "class Coordinate:\n",
    "    def __init__(self, x, y):\n",
    "        self.x = x\n",
    "        self.y = y\n",
    "        "
   ]
  },
  {
   "cell_type": "markdown",
   "metadata": {},
   "source": [
    "## `__init__`\n",
    "\n",
    "- the first parameter refers to an instance of the class (for that we always use self)\n",
    "- the next parameters will be the data necessary to initialize a Coordinate object\n",
    "- self.x = x creates a binding for the x value to the instance of the coordinate\n",
    "- when we invoke creation of an instance, this will bind the variables x and y within that instance to the supplied values (self.x and self.y)"
   ]
  },
  {
   "cell_type": "code",
   "execution_count": 7,
   "metadata": {},
   "outputs": [],
   "source": [
    "c = Coordinate(3,4)\n",
    "origin = Coordinate(0,0)"
   ]
  },
  {
   "cell_type": "code",
   "execution_count": 8,
   "metadata": {},
   "outputs": [
    {
     "name": "stdout",
     "output_type": "stream",
     "text": [
      "3\n",
      "0\n"
     ]
    }
   ],
   "source": [
    "print (c.x)\n",
    "print(origin.x)"
   ]
  },
  {
   "cell_type": "markdown",
   "metadata": {},
   "source": [
    "- think of c as pointing to a frame (like we saw with function calls)\n",
    "    - within the cope of that frame we bound values to data attribute values\n",
    "    - c.x is interpreted as getting the value of c (a frame) and then looking up the value associated with x within that frame (thus the specific value for this instance)\n"
   ]
  },
  {
   "cell_type": "code",
   "execution_count": null,
   "metadata": {},
   "outputs": [],
   "source": []
  }
 ],
 "metadata": {
  "kernelspec": {
   "display_name": "Python 3",
   "language": "python",
   "name": "python3"
  },
  "language_info": {
   "codemirror_mode": {
    "name": "ipython",
    "version": 3
   },
   "file_extension": ".py",
   "mimetype": "text/x-python",
   "name": "python",
   "nbconvert_exporter": "python",
   "pygments_lexer": "ipython3",
   "version": "3.6.4"
  }
 },
 "nbformat": 4,
 "nbformat_minor": 2
}
