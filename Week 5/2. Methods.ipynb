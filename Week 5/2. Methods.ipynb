{
 "cells": [
  {
   "cell_type": "markdown",
   "metadata": {},
   "source": [
    "# Methods\n",
    "\n",
    "- What is a method\n",
    "- procedural attribute like a **function that works only with this class**\n",
    "- Python always passes the actual object as the first argument, convention is to use self aas the name of the first argument of all methods\n",
    "- the **\".\" operator** is used to access any attribute\n",
    "    - a data attribute of an object\n",
    "    - a method of an object\n",
    "\n",
    "### Example: Define a method for the `Coordinate` class"
   ]
  },
  {
   "cell_type": "code",
   "execution_count": 1,
   "metadata": {},
   "outputs": [],
   "source": [
    "class Coordinate:\n",
    "    def __init__(self,x,y):\n",
    "        self.x = x \n",
    "        self.y = y\n",
    "    \n",
    "    def distance(self, other):\n",
    "        x_diff_sq = (self.x - other.x)**2\n",
    "        y_diff_sq = (self.x - other.x)**2\n",
    "        return (x_diff_sq + y_diff_sq)**0.5"
   ]
  },
  {
   "cell_type": "markdown",
   "metadata": {},
   "source": [
    "- other than self and dot notation, methods behave just like functions (take parameters, do operations, return value)"
   ]
  },
  {
   "cell_type": "code",
   "execution_count": 2,
   "metadata": {},
   "outputs": [
    {
     "name": "stdout",
     "output_type": "stream",
     "text": [
      "4.242640687119285\n"
     ]
    }
   ],
   "source": [
    "c = Coordinate(3,4)\n",
    "origin = Coordinate(0,0)\n",
    "print(c.distance(origin))"
   ]
  },
  {
   "cell_type": "code",
   "execution_count": 3,
   "metadata": {},
   "outputs": [
    {
     "name": "stdout",
     "output_type": "stream",
     "text": [
      "4.242640687119285\n"
     ]
    }
   ],
   "source": [
    "## Equivalent to \n",
    "print(Coordinate.distance(c,origin))"
   ]
  },
  {
   "cell_type": "markdown",
   "metadata": {},
   "source": [
    "- if you use an instance to get the method, Python provides the instance name as the first argument to the method (passed in as self)\n",
    "- if you use the Class to get the method, you need to provide both arguments\n",
    "\n",
    "- Think of Coordinate pointing to a frame\n",
    "     - within the scope of that frame we created methods\n",
    "     - `Coordinate.distance` gets the value of `Coordinate` (a frame) then looks up the value associated with distance (a procedure), then invokes it (which requires two arguments)\n",
    "     - c.distance inherites the distance from the class definition, and automatically uses c as the first argument"
   ]
  },
  {
   "cell_type": "code",
   "execution_count": 4,
   "metadata": {},
   "outputs": [
    {
     "name": "stdout",
     "output_type": "stream",
     "text": [
      "<__main__.Coordinate object at 0x1109f7f98>\n"
     ]
    }
   ],
   "source": [
    "print(c)"
   ]
  },
  {
   "cell_type": "markdown",
   "metadata": {},
   "source": [
    "- uninformative print representation by default\n",
    "- define a `__str__` method for a class\n",
    "- python calls the **`__str__`** method whenused with `print` on your class object\n",
    "- you choose what it does! Say it when print a Coordinate object we want <x,y> to show"
   ]
  },
  {
   "cell_type": "code",
   "execution_count": 8,
   "metadata": {},
   "outputs": [],
   "source": [
    "class Coordinate:\n",
    "    def __init__(self,x,y):\n",
    "        self.x = x \n",
    "        self.y = y\n",
    "    \n",
    "    def distance(self, other):\n",
    "        x_diff_sq = (self.x - other.x)**2\n",
    "        y_diff_sq = (self.x - other.x)**2\n",
    "        return (x_diff_sq + y_diff_sq)**0.5\n",
    "    \n",
    "    def __str__(self):\n",
    "        return \"<{},{}>\".format(self.x,self.y)"
   ]
  },
  {
   "cell_type": "code",
   "execution_count": 14,
   "metadata": {},
   "outputs": [
    {
     "name": "stdout",
     "output_type": "stream",
     "text": [
      "<3,4>\n",
      "<class '__main__.Coordinate'>\n",
      "<class '__main__.Coordinate'> <class 'type'>\n",
      "True\n"
     ]
    }
   ],
   "source": [
    "c = Coordinate(3,4)\n",
    "print(c)\n",
    "print (type(c))\n",
    "print (Coordinate, type(Coordinate))\n",
    "print(isinstance(c,Coordinate))\n",
    "#can be used with built-ins like int() str() list() dict()"
   ]
  },
  {
   "cell_type": "markdown",
   "metadata": {},
   "source": [
    "### Special Operators\n",
    "- +,-,=,<,>,len(),print, and many others\n",
    "- like print, can overide these to work with your class\n",
    "- define them with double underscore before and after\n",
    "     -`__add__`(self,other) --> self + other\n",
    "     - `__sub__(self,other)`--> self - other\n",
    "     - `__eq__(self,other)` --> self == other\n",
    "     - `__lt__(self,other)` --> self < other\n",
    "     - `__len__(self)` --> len(self)\n",
    "     - `__str__(self)` --> print(self)\n",
    "     \n",
    "and others...     "
   ]
  },
  {
   "cell_type": "code",
   "execution_count": null,
   "metadata": {},
   "outputs": [],
   "source": [
    "\n"
   ]
  }
 ],
 "metadata": {
  "kernelspec": {
   "display_name": "Python 3",
   "language": "python",
   "name": "python3"
  },
  "language_info": {
   "codemirror_mode": {
    "name": "ipython",
    "version": 3
   },
   "file_extension": ".py",
   "mimetype": "text/x-python",
   "name": "python",
   "nbconvert_exporter": "python",
   "pygments_lexer": "ipython3",
   "version": "3.6.4"
  }
 },
 "nbformat": 4,
 "nbformat_minor": 2
}
