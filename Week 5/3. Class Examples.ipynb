{
 "cells": [
  {
   "cell_type": "markdown",
   "metadata": {},
   "source": [
    "# Example 1: Fractions\n",
    "- create a **new type** to represent a number as a fraction\n",
    "- internal representation is to integers a numerator and a denominator\n",
    "- **interface** aka **methods** aka **how to interact** with Fraction objects\n",
    "\n",
    "     - print representation\n",
    "     - adding /subtracting fractions\n",
    "     - convert to float"
   ]
  },
  {
   "cell_type": "code",
   "execution_count": 6,
   "metadata": {},
   "outputs": [],
   "source": [
    "class Fraction:\n",
    "    def __init__(self, numer, denom):\n",
    "        self.numer = numer\n",
    "        self.denom = denom\n",
    "    def __str__(self):\n",
    "        return f\"{self.numer}/{self.denom}\""
   ]
  },
  {
   "cell_type": "code",
   "execution_count": 7,
   "metadata": {},
   "outputs": [
    {
     "name": "stdout",
     "output_type": "stream",
     "text": [
      "1/2\n",
      "2/3\n"
     ]
    }
   ],
   "source": [
    "one_half = Fraction(1,2)\n",
    "two_thirds = Fraction(2,3)\n",
    "print(one_half)\n",
    "print(two_thirds)"
   ]
  },
  {
   "cell_type": "code",
   "execution_count": 15,
   "metadata": {},
   "outputs": [],
   "source": [
    "## ACCESSING DATA ATTRIBUTES\n",
    "class Fraction:\n",
    "    def __init__(self, numer, denom):\n",
    "        self.numer = numer\n",
    "        self.denom = denom\n",
    "    def __str__(self):\n",
    "        return f\"{self.numer}/{self.denom}\"\n",
    "\n",
    "# Getters\n",
    "    def getNumer(self):\n",
    "        return self.numer\n",
    "    def getDenom(self):\n",
    "        return self.denom\n",
    "\n",
    "# Defining Adding and Subtraction of Fraction \n",
    "    def __add__(self,other):\n",
    "        numer_new = (other.getDenom() * self.getNumer()\\\n",
    "                     + other.getNumer() * self.getDenom)\n",
    "        denom_new = (other.getDenom() * self.getDenom())\n",
    "        return Fraction(numer_new,denom_new)\n",
    "    def __sub__(self,other):\n",
    "        numer_new = (other.getDenom() * self.getNumer()\\\n",
    "                     - other.getNumer() * self.getDenom())\n",
    "        denom_new = self.getDenom() * other.getDenom()\n",
    "        return Fraction(numer_new,denom_new)\n",
    "    def convert(self):\n",
    "        return self.getNumer() / self.getDenom()"
   ]
  },
  {
   "cell_type": "code",
   "execution_count": 16,
   "metadata": {},
   "outputs": [
    {
     "name": "stdout",
     "output_type": "stream",
     "text": [
      "1/2\n",
      "2/3\n",
      "1/6\n"
     ]
    },
    {
     "data": {
      "text/plain": [
       "0.5"
      ]
     },
     "execution_count": 16,
     "metadata": {},
     "output_type": "execute_result"
    }
   ],
   "source": [
    "one_half = Fraction(1,2)\n",
    "one_third = Fraction(1,3)\n",
    "two_thirds = Fraction(2,3)\n",
    "print(one_half)\n",
    "print(two_thirds)\n",
    "print(one_half - one_third)\n",
    "one_half.convert()"
   ]
  },
  {
   "cell_type": "code",
   "execution_count": 10,
   "metadata": {},
   "outputs": [
    {
     "data": {
      "text/plain": [
       "1"
      ]
     },
     "execution_count": 10,
     "metadata": {},
     "output_type": "execute_result"
    }
   ],
   "source": [
    "one_half.getNumer()"
   ]
  },
  {
   "cell_type": "code",
   "execution_count": 11,
   "metadata": {},
   "outputs": [
    {
     "data": {
      "text/plain": [
       "2"
      ]
     },
     "execution_count": 11,
     "metadata": {},
     "output_type": "execute_result"
    }
   ],
   "source": [
    "one_half.getDenom()"
   ]
  },
  {
   "cell_type": "markdown",
   "metadata": {},
   "source": [
    "# Example 2: Integer Set"
   ]
  },
  {
   "cell_type": "code",
   "execution_count": 55,
   "metadata": {},
   "outputs": [],
   "source": [
    "class intSet:\n",
    "    def __init__(self):\n",
    "        self.vals = []\n",
    "    def insert(self,e):\n",
    "        if e not in self.vals:\n",
    "            self.vals.append(e)\n",
    "    def member(self):\n",
    "        return e in self.vals\n",
    "    def remove(self,e):\n",
    "        try:\n",
    "            self.vals.remove(e)\n",
    "        except:\n",
    "            raise ValueError(f\"{e} not found\")\n",
    "    def __str__(self):\n",
    "        self.vals.sort()\n",
    "        result = ''\n",
    "        for e in self.vals:\n",
    "            result += f\"{e},\"\n",
    "        return \"{\" + f\"{result[:-1]}\" + \"}\""
   ]
  },
  {
   "cell_type": "code",
   "execution_count": 56,
   "metadata": {},
   "outputs": [],
   "source": [
    "s = intSet()"
   ]
  },
  {
   "cell_type": "code",
   "execution_count": 61,
   "metadata": {},
   "outputs": [],
   "source": [
    "s.insert(1)\n",
    "s.insert(2)\n",
    "s.insert(-46)\n",
    "s.remove(2)"
   ]
  },
  {
   "cell_type": "code",
   "execution_count": 62,
   "metadata": {},
   "outputs": [
    {
     "name": "stdout",
     "output_type": "stream",
     "text": [
      "{-46,1}\n"
     ]
    }
   ],
   "source": [
    "print(s)"
   ]
  },
  {
   "cell_type": "code",
   "execution_count": null,
   "metadata": {},
   "outputs": [],
   "source": []
  },
  {
   "cell_type": "code",
   "execution_count": null,
   "metadata": {},
   "outputs": [],
   "source": []
  }
 ],
 "metadata": {
  "kernelspec": {
   "display_name": "Python 3",
   "language": "python",
   "name": "python3"
  },
  "language_info": {
   "codemirror_mode": {
    "name": "ipython",
    "version": 3
   },
   "file_extension": ".py",
   "mimetype": "text/x-python",
   "name": "python",
   "nbconvert_exporter": "python",
   "pygments_lexer": "ipython3",
   "version": "3.6.4"
  }
 },
 "nbformat": 4,
 "nbformat_minor": 2
}
