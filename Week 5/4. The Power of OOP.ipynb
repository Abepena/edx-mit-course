{
 "cells": [
  {
   "cell_type": "markdown",
   "metadata": {},
   "source": [
    "# The Power of OOP:\n",
    "- **bundle together objects** that share\n",
    "     - common attributes and \n",
    "     - procedures that operate on those attributes\n",
    "     \n",
    "- use **abstraction** to make a distinction between how to implement an object vs how to use an object\n",
    "- build **layers** of object abstractions that inherit behaviors from other classes of objects\n",
    "- create our **own classes of objects** on top of Python's basic classes\n",
    "\n",
    "### Implementing the class vs Using the class\n",
    "- write code from two idfferent perspectives\n",
    "- all class examples we saw so far were numerical\n",
    "\n",
    "##### Implementing\n",
    "- **implementing** a new object type with a class\n",
    "     - **define** the class\n",
    "     - define **data attributes** (What is the object)\n",
    "     - define **methods** (How to use the object)\n",
    "- **Class Definition of an Object Type**\n",
    "     - class is the **type**\n",
    "         - a Coordinate type \n",
    "        -  class Coordinate(object):\n",
    "    - class is defined generically\n",
    "        - use `self` to refer to any instance while defining the class\n",
    "    - class defines data and methods **common across all instances**\n",
    "    \n",
    "##### Using\n",
    "- **using** the new object type in code\n",
    "     - create **instances** of the object type\n",
    "     - do operations with them\n",
    "     \n",
    "- **Instance of a class**\n",
    "     - instance is **one particular** object \n",
    "     ```python\n",
    "     mycoo = Coordinate(1,2)\n",
    "     ```\n",
    "     \n",
    "     - data values vary between instances\n",
    "     ```python\n",
    "     c1 = Coordinate(1,2)\n",
    "     c2 = Coordinate(3,4)\n",
    "     ```\n",
    "     - c1 and  c2 have different data values because they are different objects\n",
    "     - instance has the **structure of the class*\n",
    "     \n",
    "     \n",
    "     \n",
    "Classes and objects:\n",
    "- can mimic real life\n",
    "- group different objects as part of othe same type\n",
    "\n",
    "### Groups of objects have attributes\n",
    "- **data attributes**\n",
    "    - how can you represent your object with data \n",
    "    - **what it is**\n",
    "    - for a coordinate: x and y values\n",
    "    - for an animal: age, name, breed\n",
    "- Procedural attributes(behavior/operations/methods)\n",
    "     - what kind of things can you do with the object\n",
    "     - **what it does**\n",
    "     - for a coordinate: find the distance between two\n",
    "     - for an animal: make a sound\n",
    "     \n",
    "     \n",
    "     \n"
   ]
  },
  {
   "cell_type": "code",
   "execution_count": 1,
   "metadata": {},
   "outputs": [],
   "source": [
    "class Animal:\n",
    "    def __init__(self,age):\n",
    "        self.age = age\n",
    "        self.name = None\n",
    "    def get_name(self):\n",
    "        return self.name\n",
    "    def get_age(self):\n",
    "        return self.age\n",
    "    def set_age(self,newage):\n",
    "        self.age = newage\n",
    "    def set_name(self,new_name =\"\"): #default of no string\n",
    "        self.name = new_name\n",
    "    def __str__(self):\n",
    "        return \"animal: {}:{}\".format(self.name,self.age)\n",
    "    "
   ]
  },
  {
   "cell_type": "markdown",
   "metadata": {},
   "source": [
    "- getters and setters should always be used outside of the class to access attributes"
   ]
  },
  {
   "cell_type": "code",
   "execution_count": 3,
   "metadata": {},
   "outputs": [
    {
     "name": "stdout",
     "output_type": "stream",
     "text": [
      "animal: None:3\n"
     ]
    }
   ],
   "source": [
    "myanimal = Animal(3)\n",
    "print(myanimal)"
   ]
  },
  {
   "cell_type": "code",
   "execution_count": 4,
   "metadata": {},
   "outputs": [],
   "source": [
    "myanimal.set_name(\"Charlie\")"
   ]
  },
  {
   "cell_type": "code",
   "execution_count": 5,
   "metadata": {},
   "outputs": [
    {
     "name": "stdout",
     "output_type": "stream",
     "text": [
      "animal: Charlie:3\n"
     ]
    }
   ],
   "source": [
    "print(myanimal)"
   ]
  },
  {
   "cell_type": "code",
   "execution_count": 12,
   "metadata": {},
   "outputs": [
    {
     "name": "stdout",
     "output_type": "stream",
     "text": [
      "Charlie\n",
      "Charlie\n"
     ]
    }
   ],
   "source": [
    "print(myanimal.get_name())\n",
    "print(myanimal.name)"
   ]
  },
  {
   "cell_type": "markdown",
   "metadata": {},
   "source": [
    "The two lines above essentially do the same thing but the getter method is considered better because it seperates things outside of the atrribite from things inside of the attribute "
   ]
  },
  {
   "cell_type": "markdown",
   "metadata": {},
   "source": [
    "### Information Hiding\n",
    "- author of class definition may **change data attribute** variable names"
   ]
  },
  {
   "cell_type": "code",
   "execution_count": 13,
   "metadata": {},
   "outputs": [],
   "source": [
    "class Animal:\n",
    "    def __init__(self,years):\n",
    "        self.years = years\n",
    "    def get_age(self):\n",
    "        return self.years"
   ]
  },
  {
   "cell_type": "markdown",
   "metadata": {},
   "source": [
    "- if you are **accessing data attributes** outside the class and class **definition changes**, may get errors\n",
    "\n",
    "- outside of class, use getters and setters instead use a.get_age not a.age\n",
    "- good style\n",
    "- easy to maintain code\n",
    "- prevents bugs after internal changes\n",
    "\n",
    "### Python is not great at information hiding\n",
    "- allows you to access data from class definition (print(a.age))\n",
    "- allows you to write data from outside class defintion (a.age = \"infinite\")\n",
    "- allows you to create data attributes for an instance from outside class definition (a.size = \"tiny\")\n",
    "- it is **not good style** to do any of these\n",
    "\n"
   ]
  },
  {
   "cell_type": "code",
   "execution_count": null,
   "metadata": {},
   "outputs": [],
   "source": []
  }
 ],
 "metadata": {
  "kernelspec": {
   "display_name": "Python 3",
   "language": "python",
   "name": "python3"
  },
  "language_info": {
   "codemirror_mode": {
    "name": "ipython",
    "version": 3
   },
   "file_extension": ".py",
   "mimetype": "text/x-python",
   "name": "python",
   "nbconvert_exporter": "python",
   "pygments_lexer": "ipython3",
   "version": "3.6.4"
  }
 },
 "nbformat": 4,
 "nbformat_minor": 2
}
