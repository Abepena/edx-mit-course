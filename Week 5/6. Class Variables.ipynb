{
 "cells": [
  {
   "cell_type": "markdown",
   "metadata": {},
   "source": [
    "# Class Variables:\n",
    "- this is going to be a variable defined inside the class definition\n",
    "- defined inside class but outside of any class methods and the `__init__` method\n",
    "- these are **shared among** objects/instances of that class\n",
    "- if it were created inside of `__init__` the variable would **only pertain** to the specific instance\n"
   ]
  },
  {
   "cell_type": "code",
   "execution_count": 1,
   "metadata": {},
   "outputs": [],
   "source": [
    "class Animal:\n",
    "    def __init__(self,age):\n",
    "        self.age = age\n",
    "        self.name = None\n",
    "    def get_name(self):\n",
    "        return self.name\n",
    "    def get_age(self):\n",
    "        return self.age\n",
    "    def set_age(self,newage):\n",
    "        self.age = newage\n",
    "    def set_name(self,new_name =\"\"): #default of no string\n",
    "        self.name = new_name\n",
    "    def __str__(self):\n",
    "        return \"animal: {}:{}\".format(self.name,self.age)\n"
   ]
  },
  {
   "cell_type": "code",
   "execution_count": 17,
   "metadata": {},
   "outputs": [],
   "source": [
    "class Rabbit(Animal):\n",
    "    tag = 1 # used to give unique id to each new rabbit instance\n",
    "    def __init__(self,age, parent1= None, parent2 = None):\n",
    "        Animal.__init__(self,age)\n",
    "        self.parent1 = parent1\n",
    "        self.parent2 = parent2\n",
    "        self.rid = Rabbit.tag #rabbit id\n",
    "        Rabbit.tag += 1 #updates tag after an instance is made to next number for next rabbit\n",
    "        # class is keeping track of the tag\n",
    "    def get_rid(self):\n",
    "        return str(self.rid).zfill(3) # method on a string to pad w/ zeros 001 not 1\n",
    "    def get_parent1(self):\n",
    "        return self.parent1\n",
    "    def get_parent2(self):\n",
    "        return self.parent2\n",
    "    def __str__(self):\n",
    "        return \"rabbit: {}:{}\".format(self.name,self.age)\n",
    "    def __add__(self,other):\n",
    "        # returning object of the same type as this class\n",
    "        # returns a new rabbit of age zero with parent1 as this instance and parent2 the other instance\n",
    "        return Rabbit(0,self,other)\n",
    "    def __eq__(self, other):\n",
    "        \"\"\"\n",
    "        decids that two rabbits are equal if they have the\n",
    "        same two parents\n",
    "        \"\"\"\n",
    "        parents_same = self.parent1.rid == other.parent1.rid and self.parent2.rid == other.parent2.rid\n",
    "        parents_opposite = self.parent1.rid == other.parent2.rid and self.parent2.rid == other.parent1.rid\n",
    "        return parents_same or parents_opposite\n",
    "        \n",
    "        \n",
    "        "
   ]
  },
  {
   "cell_type": "code",
   "execution_count": 18,
   "metadata": {},
   "outputs": [],
   "source": [
    "peter = Rabbit(2)\n",
    "peter.set_name('Peter')\n",
    "hopsy = Rabbit(3)\n",
    "hopsy.set_name('Hopsy')\n",
    "cotton = Rabbit(1, peter, hopsy)\n",
    "cotton.set_name('Cottontail')"
   ]
  },
  {
   "cell_type": "code",
   "execution_count": 19,
   "metadata": {},
   "outputs": [
    {
     "name": "stdout",
     "output_type": "stream",
     "text": [
      "rabbit: Cottontail:1\n"
     ]
    }
   ],
   "source": [
    "print(cotton)"
   ]
  },
  {
   "cell_type": "code",
   "execution_count": 20,
   "metadata": {},
   "outputs": [
    {
     "name": "stdout",
     "output_type": "stream",
     "text": [
      "rabbit: Peter:2\n",
      "003\n"
     ]
    }
   ],
   "source": [
    "print(cotton.get_parent1())\n",
    "print(cotton.get_rid())"
   ]
  },
  {
   "cell_type": "markdown",
   "metadata": {},
   "source": [
    "- the `__add__` defines the **+ operator** between two Rabbit instances\n",
    "    - defines what something like this does between rabbit instances r4 = r1 + r2 where r1 and r2 are Rabbit instances (parents)\n",
    "    - r4 is a new rabbit instance with age 0 (child)\n",
    "    - r4 has self as one parent and other as the other parent\n",
    "    - in `__init__`, should change to check that **parent1 and parent2 are of type Rabbit**\n"
   ]
  },
  {
   "cell_type": "code",
   "execution_count": 21,
   "metadata": {},
   "outputs": [],
   "source": [
    "mopsy = peter + hopsy"
   ]
  },
  {
   "cell_type": "code",
   "execution_count": 22,
   "metadata": {},
   "outputs": [
    {
     "name": "stdout",
     "output_type": "stream",
     "text": [
      "rabbit: None:0\n"
     ]
    }
   ],
   "source": [
    "print(mopsy)"
   ]
  },
  {
   "cell_type": "code",
   "execution_count": 23,
   "metadata": {},
   "outputs": [
    {
     "data": {
      "text/plain": [
       "True"
      ]
     },
     "execution_count": 23,
     "metadata": {},
     "output_type": "execute_result"
    }
   ],
   "source": [
    "mopsy == cotton"
   ]
  },
  {
   "cell_type": "markdown",
   "metadata": {},
   "source": [
    "- comparing ids of parents since **ids are unique** (due to class var)\n",
    "- note that comparing objects (self.parent1 == other.parent1) will call the `__eq__` method over and over until call it on None\n",
    "- this will give you an AttributeError"
   ]
  },
  {
   "cell_type": "code",
   "execution_count": null,
   "metadata": {},
   "outputs": [],
   "source": []
  }
 ],
 "metadata": {
  "kernelspec": {
   "display_name": "Python 3",
   "language": "python",
   "name": "python3"
  },
  "language_info": {
   "codemirror_mode": {
    "name": "ipython",
    "version": 3
   },
   "file_extension": ".py",
   "mimetype": "text/x-python",
   "name": "python",
   "nbconvert_exporter": "python",
   "pygments_lexer": "ipython3",
   "version": "3.6.4"
  }
 },
 "nbformat": 4,
 "nbformat_minor": 2
}
