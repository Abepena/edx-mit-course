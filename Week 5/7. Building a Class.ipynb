{
 "cells": [
  {
   "cell_type": "markdown",
   "metadata": {},
   "source": [
    "# Building a Class:\n",
    "\n",
    "### OOP: an Example\n",
    "___\n",
    "\n",
    "**Using inheritance**\n",
    "- explore in some detail an example of building an application that organizes info about people\n",
    "- start with a Person object\n",
    "    - Person: name, birthday\n",
    "    - get last name\n",
    "    - sort by last name\n",
    "    - get age"
   ]
  },
  {
   "cell_type": "code",
   "execution_count": 6,
   "metadata": {},
   "outputs": [],
   "source": [
    "import datetime\n",
    "\n",
    "class Person:\n",
    "    def __init__(self,name):\n",
    "        self.name = name\n",
    "        self.birthday = None\n",
    "        self.last_name = name.split(' ')[-1] #assumes name will be a string of first and last name \n",
    "    def get_last_name(self):\n",
    "        \"\"\" return self's last name\"\"\"\n",
    "        return self.last_name\n",
    "    def set_birthday(self,month,day,year):\n",
    "        self.birthday = datetime.date(year,month,day)\n",
    "    def get_age(self):\n",
    "        \"\"\"returns self's current age in date\"\"\"\n",
    "        if self.birthday == None:\n",
    "            raise ValueError\n",
    "        return (datetime.date.today() - self.birthday.days)\n",
    "    def __lt__(self,other):\n",
    "        \"\"\"\n",
    "        returns True of self'f name is lexigraphically\n",
    "        less than other's last name and False otherwise\n",
    "        \"\"\"\n",
    "        if self.last_name == other.last_name:\n",
    "            return self.name < other.name\n",
    "        return self.last_name < other.last_name\n",
    "    def __str__(self):\n",
    "        \"\"\"return self's name\"\"\"\n",
    "        return self.name\n",
    "    "
   ]
  },
  {
   "cell_type": "code",
   "execution_count": 7,
   "metadata": {},
   "outputs": [],
   "source": [
    "p1 = Person('Mark Zuckerberg')\n",
    "p1.set_birthday(5,14,84)\n",
    "p2 = Person('Drew Houston')\n",
    "p2.set_birthday(3,4,83)\n",
    "p3 = Person('Bill Gates')\n",
    "p3.set_birthday(10,28,55)\n",
    "p4 = Person('Andrew Gates')\n",
    "p5 = Person('Steve Wozniak')\n",
    "\n",
    "person_list = [p1,p2,p3,p4,p5]"
   ]
  },
  {
   "cell_type": "code",
   "execution_count": 9,
   "metadata": {},
   "outputs": [
    {
     "name": "stdout",
     "output_type": "stream",
     "text": [
      "Mark Zuckerberg\n",
      "Drew Houston\n",
      "Bill Gates\n",
      "Andrew Gates\n",
      "Steve Wozniak\n"
     ]
    }
   ],
   "source": [
    "for e in person_list:\n",
    "    print(e)"
   ]
  },
  {
   "cell_type": "code",
   "execution_count": 10,
   "metadata": {},
   "outputs": [
    {
     "name": "stdout",
     "output_type": "stream",
     "text": [
      "Andrew Gates\n",
      "Bill Gates\n",
      "Drew Houston\n",
      "Steve Wozniak\n",
      "Mark Zuckerberg\n"
     ]
    }
   ],
   "source": [
    "for e in sorted(person_list):\n",
    "    print(e)"
   ]
  },
  {
   "cell_type": "code",
   "execution_count": 65,
   "metadata": {},
   "outputs": [],
   "source": [
    "class MITPerson(Person):\n",
    "    next_id_num = 0 #next id number to assign\n",
    "    \n",
    "    def __init__(self,name):\n",
    "        Person.__init__(self,name) #initializing Person attributes\n",
    "        self.id_num = MITPerson.next_id_num #MITPerson attr, unique id\n",
    "        MITPerson.next_id_num += 1\n",
    "        \n",
    "    def get_id_num(self):\n",
    "        return self.id_num.zfill(3)\n",
    "    \n",
    "    #sorting MIT people by id number\n",
    "    def __lt__(self,other):\n",
    "        return self.id_num < other.id_num\n",
    "    \n",
    "    def speak(self,utterance):\n",
    "          return (\"{} says {}\".format(self.name, utterance))"
   ]
  },
  {
   "cell_type": "code",
   "execution_count": 66,
   "metadata": {},
   "outputs": [],
   "source": [
    "m3 = MITPerson('Mark Zuckerberg')\n",
    "m3.set_birthday(5,14,84)\n",
    "m1 = MITPerson('Drew Houston')\n",
    "m1.set_birthday(3,4,83)\n",
    "m2 = MITPerson('Bill Gates')\n",
    "m2.set_birthday(10,28,55)\n",
    "m4 = MITPerson('Andrew Gates')\n",
    "m5 = MITPerson('Steve Wozniak')"
   ]
  },
  {
   "cell_type": "code",
   "execution_count": 67,
   "metadata": {},
   "outputs": [],
   "source": [
    "MITPersonList = [m1,m2,m3,m4,m5]"
   ]
  },
  {
   "cell_type": "code",
   "execution_count": 68,
   "metadata": {},
   "outputs": [
    {
     "name": "stdout",
     "output_type": "stream",
     "text": [
      "Drew Houston\n",
      "Bill Gates\n",
      "Mark Zuckerberg\n",
      "Andrew Gates\n",
      "Steve Wozniak\n"
     ]
    }
   ],
   "source": [
    "for e in MITPersonList:\n",
    "    print(e)"
   ]
  },
  {
   "cell_type": "code",
   "execution_count": 69,
   "metadata": {},
   "outputs": [
    {
     "name": "stdout",
     "output_type": "stream",
     "text": [
      "Mark Zuckerberg\n",
      "Drew Houston\n",
      "Bill Gates\n",
      "Andrew Gates\n",
      "Steve Wozniak\n"
     ]
    }
   ],
   "source": [
    "for e in sorted(MITPersonList):\n",
    "    print(e)"
   ]
  },
  {
   "cell_type": "markdown",
   "metadata": {},
   "source": [
    "# Adding another class:\n",
    "- Students, several types, all MITPerson\n",
    "    - undergrads student has class/year\n",
    "    - grads students"
   ]
  },
  {
   "cell_type": "code",
   "execution_count": 75,
   "metadata": {},
   "outputs": [],
   "source": [
    "class Student(MITPerson):\n",
    "    pass\n",
    "\n",
    "class UG(Student):\n",
    "    def __init__(self,name,class_year):\n",
    "        MITPerson.__init__(self,name)\n",
    "        self.year = class_year\n",
    "        \n",
    "    def get_class(self):\n",
    "        return self.year\n",
    "    \n",
    "    def speak(self, utterance):\n",
    "        new = MITPerson.speak(self,\"Dude {}\".format(utterance))\n",
    "        return new\n",
    "\n",
    "        return(MITPerson.speak(self,new))\n",
    "class Grad(Student):\n",
    "    pass\n",
    "\n",
    "class TransferStudent(Student):\n",
    "    pass\n",
    "\n",
    "def is_student(obj):\n",
    "    return isinstance(obj,Student)"
   ]
  },
  {
   "cell_type": "code",
   "execution_count": 76,
   "metadata": {},
   "outputs": [],
   "source": [
    "s1 = UG('Matt Damon',2017)"
   ]
  },
  {
   "cell_type": "code",
   "execution_count": 77,
   "metadata": {},
   "outputs": [
    {
     "data": {
      "text/plain": [
       "2017"
      ]
     },
     "execution_count": 77,
     "metadata": {},
     "output_type": "execute_result"
    }
   ],
   "source": [
    "s1.get_class()"
   ]
  },
  {
   "cell_type": "code",
   "execution_count": 78,
   "metadata": {},
   "outputs": [
    {
     "name": "stdout",
     "output_type": "stream",
     "text": [
      "Matt Damon says Dude Where is the quiz.\n"
     ]
    }
   ],
   "source": [
    "print(s1.speak(\"Where is the quiz.\"))"
   ]
  },
  {
   "cell_type": "code",
   "execution_count": 79,
   "metadata": {},
   "outputs": [
    {
     "data": {
      "text/plain": [
       "True"
      ]
     },
     "execution_count": 79,
     "metadata": {},
     "output_type": "execute_result"
    }
   ],
   "source": [
    "is_student(s1)"
   ]
  },
  {
   "cell_type": "code",
   "execution_count": 80,
   "metadata": {},
   "outputs": [],
   "source": [
    "class Professor(MITPerson):\n",
    "    def __init__(self,name,department):\n",
    "        MITPerson.__init__(self,name)\n",
    "        self.department = department\n",
    "    \n",
    "    def speak(self):\n",
    "        new = \"In course {} we say\".format(self.department)\n",
    "        return MITPerson.speak(new + utterance)\n",
    "    \n",
    "    def lecture(self,topic):\n",
    "        return self.speak('it is obvious that' + topic)\n",
    "        "
   ]
  },
  {
   "cell_type": "code",
   "execution_count": 81,
   "metadata": {},
   "outputs": [
    {
     "name": "stdout",
     "output_type": "stream",
     "text": [
      "Drew Houston says hi there\n"
     ]
    }
   ],
   "source": [
    "print(m1.speak('hi there'))"
   ]
  },
  {
   "cell_type": "markdown",
   "metadata": {},
   "source": [
    "modularity helps\n",
    "- by isolating methods in classes, makes it easier to change behaviors\n",
    "    -can change base behavior of MITPerson class, which will be inherited by all other subclasses of MITperson or can be inherited by all other subclasses of MITPerson\n",
    "- or can change behavior of a lower class in hierachy\n",
    "0change MITPerson's speak method to \n",
    "```python\n",
    "def speak(self,utterance):\n",
    "    return (\"{} says {}\".format(self.name, utterance)\n",
    "    ```"
   ]
  }
 ],
 "metadata": {
  "kernelspec": {
   "display_name": "Python 3",
   "language": "python",
   "name": "python3"
  },
  "language_info": {
   "codemirror_mode": {
    "name": "ipython",
    "version": 3
   },
   "file_extension": ".py",
   "mimetype": "text/x-python",
   "name": "python",
   "nbconvert_exporter": "python",
   "pygments_lexer": "ipython3",
   "version": "3.6.4"
  }
 },
 "nbformat": 4,
 "nbformat_minor": 2
}
