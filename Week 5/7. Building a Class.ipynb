{
 "cells": [
  {
   "cell_type": "markdown",
   "metadata": {},
   "source": [
    "# Building a Class:\n",
    "\n",
    "### OOP: an Example\n",
    "___\n",
    "\n",
    "**Using inheritance**\n",
    "- explore in some detail an example of building an application that organizes info about people\n",
    "- start with a Person object\n",
    "    - Person: name, birthday\n",
    "    - get last name\n",
    "    - sort by last name\n",
    "    - get age"
   ]
  },
  {
   "cell_type": "code",
   "execution_count": 1,
   "metadata": {},
   "outputs": [],
   "source": [
    "import datetime\n",
    "\n",
    "class Person:\n",
    "    def __init__(self,name):\n",
    "        self.name = name\n",
    "        self.birthday = None\n",
    "        self.last_name = name.split(' ')[-1] #assumes name will be a string of first and last name \n",
    "    def get_last_name(self):\n",
    "        \"\"\" return self's last name\"\"\"\n",
    "        return self.last_name\n",
    "    def set_birthday(self,month,day,year):\n",
    "        self.birthday = datetime.date(year,month,day)\n",
    "    def get_age(self):\n",
    "        \"\"\"returns self's current age in date\"\"\"\n",
    "        if self.birthday == None:\n",
    "            raise ValueError\n",
    "        return (datetime.date.today() - self.birthday.days)\n",
    "    def __lt__(self,other):\n",
    "        \"\"\"\n",
    "        returns True of self'f name is lexigraphically\n",
    "        less than other's last name and False otherwise\n",
    "        \"\"\"\n",
    "        if self.last_name == other.last_name:\n",
    "            return self.name < other.name\n",
    "        return self.last_name < other.last_name\n",
    "    def __str__(self):\n",
    "        \"\"\"return self's name\"\"\"\n",
    "        return self.name\n",
    "    "
   ]
  },
  {
   "cell_type": "code",
   "execution_count": 2,
   "metadata": {},
   "outputs": [],
   "source": [
    "p1 = Person('Mark Zuckerberg')\n",
    "p1.set_birthday(5,14,84)\n",
    "p2 = Person('Drew Houston')\n",
    "p2.set_birthday(3,4,83)\n",
    "p3 = Person('Bill Gates')\n",
    "p3.set_birthday(10,28,55)\n",
    "p4 = Person('Andrew Gates')\n",
    "p5 = Person('Steve Wozniak')\n",
    "\n",
    "person_list = [p1,p2,p3,p4,p5]"
   ]
  },
  {
   "cell_type": "code",
   "execution_count": 3,
   "metadata": {},
   "outputs": [
    {
     "name": "stdout",
     "output_type": "stream",
     "text": [
      "Mark Zuckerberg\n",
      "Drew Houston\n",
      "Bill Gates\n",
      "Andrew Gates\n",
      "Steve Wozniak\n"
     ]
    }
   ],
   "source": [
    "for e in person_list:\n",
    "    print(e)"
   ]
  },
  {
   "cell_type": "code",
   "execution_count": 4,
   "metadata": {},
   "outputs": [
    {
     "name": "stdout",
     "output_type": "stream",
     "text": [
      "Andrew Gates\n",
      "Bill Gates\n",
      "Drew Houston\n",
      "Steve Wozniak\n",
      "Mark Zuckerberg\n"
     ]
    }
   ],
   "source": [
    "for e in sorted(person_list):\n",
    "    print(e)"
   ]
  },
  {
   "cell_type": "code",
   "execution_count": 5,
   "metadata": {},
   "outputs": [],
   "source": [
    "class MITPerson(Person):\n",
    "    next_id_num = 0 #next id number to assign\n",
    "    \n",
    "    def __init__(self,name):\n",
    "        Person.__init__(self,name) #initializing Person attributes\n",
    "        self.id_num = MITPerson.next_id_num #MITPerson attr, unique id\n",
    "        MITPerson.next_id_num += 1\n",
    "        \n",
    "    def get_id_num(self):\n",
    "        return str(self.id_num).zfill(3)\n",
    "    \n",
    "    #sorting MIT people by id number\n",
    "    def __lt__(self,other):\n",
    "        return self.id_num < other.id_num\n",
    "    \n",
    "    def speak(self,utterance):\n",
    "          return (\"{} says {}\".format(self.name, utterance))"
   ]
  },
  {
   "cell_type": "code",
   "execution_count": 6,
   "metadata": {},
   "outputs": [],
   "source": [
    "m3 = MITPerson('Mark Zuckerberg')\n",
    "m3.set_birthday(5,14,84)\n",
    "m1 = MITPerson('Drew Houston')\n",
    "m1.set_birthday(3,4,83)\n",
    "m2 = MITPerson('Bill Gates')\n",
    "m2.set_birthday(10,28,55)\n",
    "m4 = MITPerson('Andrew Gates')\n",
    "m5 = MITPerson('Steve Wozniak')"
   ]
  },
  {
   "cell_type": "code",
   "execution_count": 7,
   "metadata": {},
   "outputs": [],
   "source": [
    "MITPersonList = [m1,m2,m3,m4,m5]"
   ]
  },
  {
   "cell_type": "code",
   "execution_count": 8,
   "metadata": {},
   "outputs": [
    {
     "name": "stdout",
     "output_type": "stream",
     "text": [
      "Drew Houston\n",
      "Bill Gates\n",
      "Mark Zuckerberg\n",
      "Andrew Gates\n",
      "Steve Wozniak\n"
     ]
    }
   ],
   "source": [
    "for e in MITPersonList:\n",
    "    print(e)"
   ]
  },
  {
   "cell_type": "code",
   "execution_count": 9,
   "metadata": {},
   "outputs": [
    {
     "name": "stdout",
     "output_type": "stream",
     "text": [
      "Mark Zuckerberg\n",
      "Drew Houston\n",
      "Bill Gates\n",
      "Andrew Gates\n",
      "Steve Wozniak\n"
     ]
    }
   ],
   "source": [
    "for e in sorted(MITPersonList):\n",
    "    print(e)"
   ]
  },
  {
   "cell_type": "markdown",
   "metadata": {},
   "source": [
    "# Adding another class:\n",
    "- Students, several types, all MITPerson\n",
    "    - undergrads student has class/year\n",
    "    - grads students"
   ]
  },
  {
   "cell_type": "code",
   "execution_count": 10,
   "metadata": {},
   "outputs": [],
   "source": [
    "class Student(MITPerson):\n",
    "    pass\n",
    "\n",
    "class UG(Student):\n",
    "    def __init__(self,name,class_year):\n",
    "        MITPerson.__init__(self,name)\n",
    "        self.year = class_year\n",
    "        \n",
    "    def get_class(self):\n",
    "        return self.year\n",
    "    \n",
    "    def speak(self, utterance):\n",
    "        new = MITPerson.speak(self,\"Dude {}\".format(utterance))\n",
    "        return new\n",
    "\n",
    "        return(MITPerson.speak(self,new))\n",
    "class Grad(Student):\n",
    "    pass\n",
    "\n",
    "class TransferStudent(Student):\n",
    "    pass\n",
    "\n",
    "def is_student(obj):\n",
    "    return isinstance(obj,Student)"
   ]
  },
  {
   "cell_type": "code",
   "execution_count": 11,
   "metadata": {},
   "outputs": [],
   "source": [
    "s1 = UG('Matt Damon',2017)"
   ]
  },
  {
   "cell_type": "code",
   "execution_count": 12,
   "metadata": {},
   "outputs": [
    {
     "data": {
      "text/plain": [
       "2017"
      ]
     },
     "execution_count": 12,
     "metadata": {},
     "output_type": "execute_result"
    }
   ],
   "source": [
    "s1.get_class()"
   ]
  },
  {
   "cell_type": "code",
   "execution_count": 13,
   "metadata": {},
   "outputs": [
    {
     "name": "stdout",
     "output_type": "stream",
     "text": [
      "Matt Damon says Dude Where is the quiz.\n"
     ]
    }
   ],
   "source": [
    "print(s1.speak(\"Where is the quiz.\"))"
   ]
  },
  {
   "cell_type": "code",
   "execution_count": 14,
   "metadata": {},
   "outputs": [
    {
     "data": {
      "text/plain": [
       "True"
      ]
     },
     "execution_count": 14,
     "metadata": {},
     "output_type": "execute_result"
    }
   ],
   "source": [
    "is_student(s1)"
   ]
  },
  {
   "cell_type": "code",
   "execution_count": 15,
   "metadata": {},
   "outputs": [],
   "source": [
    "class Professor(MITPerson):\n",
    "    def __init__(self,name,department):\n",
    "        MITPerson.__init__(self,name)\n",
    "        self.department = department\n",
    "    \n",
    "    def speak(self):\n",
    "        new = \"In course {} we say\".format(self.department)\n",
    "        return MITPerson.speak(new + utterance)\n",
    "    \n",
    "    def lecture(self,topic):\n",
    "        return self.speak('it is obvious that' + topic)\n",
    "        "
   ]
  },
  {
   "cell_type": "code",
   "execution_count": 16,
   "metadata": {},
   "outputs": [
    {
     "name": "stdout",
     "output_type": "stream",
     "text": [
      "Drew Houston says hi there\n"
     ]
    }
   ],
   "source": [
    "print(m1.speak('hi there'))"
   ]
  },
  {
   "cell_type": "markdown",
   "metadata": {},
   "source": [
    "modularity helps\n",
    "- by isolating methods in classes, makes it easier to change behaviors\n",
    "    -can change base behavior of MITPerson class, which will be inherited by all other subclasses of MITperson or can be inherited by all other subclasses of MITPerson\n",
    "- or can change behavior of a lower class in hierachy\n",
    "0change MITPerson's speak method to \n",
    "```python\n",
    "def speak(self,utterance):\n",
    "    return (\"{} says {}\".format(self.name, utterance)\n",
    "    ```"
   ]
  },
  {
   "cell_type": "code",
   "execution_count": 17,
   "metadata": {},
   "outputs": [],
   "source": [
    "class Grades:\n",
    "    \"\"\"\n",
    "    A mapping from students to a list of grades\n",
    "    \"\"\"\n",
    "    \n",
    "    def __init__(self):\n",
    "        \"\"\"\n",
    "        Create an empty gradebook\n",
    "        \"\"\"\n",
    "        self.students = [] # list of Student objects\n",
    "        self.grades = {} # maps idNum --> list of grades\n",
    "        self.is_sorted = True\n",
    "    \n",
    "    def add_student(self, student):\n",
    "        \"\"\"\n",
    "        Assumes: student is of type Student\n",
    "        Add student to the gradebook\n",
    "        \"\"\"\n",
    "        \n",
    "        if student in self.students:\n",
    "            raise ValueError('Duplicate student')\n",
    "        self.students.append(student)\n",
    "        self.grades[student.get_id_num()] = []\n",
    "        self.is_sorted = False\n",
    "    \n",
    "    def add_grade(self, student, grade):\n",
    "        \"\"\"\n",
    "        Assumes grade is a float\n",
    "        Add grade to the list of grades for student\n",
    "        \"\"\"\n",
    "        try:\n",
    "            self.grades[student.get_id_num()].append(grade)\n",
    "        except KeyError:\n",
    "            raise ValueError('Student not in grade book')\n",
    "        \n",
    "    def get_grades(self,student):\n",
    "        \"\"\"Return a list of grades for a student\"\"\"\n",
    "        try:\n",
    "            return self.grades[student.get_id_num()]\n",
    "        except KeyError:\n",
    "            raise ValueError('Student not in grade book')\n",
    "    \n",
    "    def all_students(self):\n",
    "        \"\"\"Return a list of all students in grade book\"\"\"\n",
    "        if not self.is_sorted:\n",
    "            self.students.sort()\n",
    "            self.is_sorted = True\n",
    "        return self.students[:]\n",
    "        #returning a copy of students\n",
    "        "
   ]
  },
  {
   "cell_type": "code",
   "execution_count": 27,
   "metadata": {},
   "outputs": [],
   "source": [
    "def grade_report(course):\n",
    "    \"\"\"Assumes: course is of type Grades\"\"\"\n",
    "    report = []\n",
    "    for s in course.all_students():\n",
    "        tot = 0.0\n",
    "        num_grades = 0\n",
    "        for g in course.get_grades(s):\n",
    "            tot += g\n",
    "            num_grades += 1\n",
    "        try:\n",
    "            average = tot/num_grades\n",
    "            report.append(f\"{str(s)}'s mean grade is {average}\")\n",
    "        except ZeroDivisionError:\n",
    "            report.append(f\"{str(s)} has no grades\")\n",
    " \n",
    "    for student_grades in report:\n",
    "        print(student_grades)"
   ]
  },
  {
   "cell_type": "code",
   "execution_count": 28,
   "metadata": {},
   "outputs": [],
   "source": [
    "ug1 = UG('Matt Damon', 2018)\n",
    "ug2 = UG('Ben Affleck', 2019)\n",
    "ug3 = UG('Drew Houston', 2017)\n",
    "ug4 = UG('Mark Zuckerberg', 2017)\n",
    "g1 = Grad('Bill Gates')\n",
    "g2 = Grad('Steve Wozniak')\n",
    "\n",
    "six00 = Grades()\n",
    "six00.add_student(g1)\n",
    "six00.add_student(ug2)\n",
    "six00.add_student(ug1)\n",
    "six00.add_student(g2)\n",
    "six00.add_student(ug4)\n",
    "six00.add_student(ug3)"
   ]
  },
  {
   "cell_type": "code",
   "execution_count": 29,
   "metadata": {},
   "outputs": [
    {
     "name": "stdout",
     "output_type": "stream",
     "text": [
      "Matt Damon has no grades\n",
      "Ben Affleck has no grades\n",
      "Drew Houston has no grades\n",
      "Mark Zuckerberg has no grades\n",
      "Bill Gates has no grades\n",
      "Steve Wozniak has no grades\n"
     ]
    }
   ],
   "source": [
    "grade_report(six00)"
   ]
  },
  {
   "cell_type": "code",
   "execution_count": 30,
   "metadata": {},
   "outputs": [
    {
     "name": "stdout",
     "output_type": "stream",
     "text": [
      "Matt Damon\n",
      "Ben Affleck\n",
      "Drew Houston\n",
      "Mark Zuckerberg\n",
      "Bill Gates\n",
      "Steve Wozniak\n"
     ]
    }
   ],
   "source": [
    "for s in six00.all_students():\n",
    "    print(s)"
   ]
  },
  {
   "cell_type": "code",
   "execution_count": 33,
   "metadata": {},
   "outputs": [
    {
     "name": "stdout",
     "output_type": "stream",
     "text": [
      "Matt Damon\n",
      "Ben Affleck\n",
      "Drew Houston\n",
      "Mark Zuckerberg\n",
      "Bill Gates\n",
      "Steve Wozniak\n"
     ]
    }
   ],
   "source": [
    "# same as below except it abstracts the user from\n",
    "# the internal representation (also isn't guaranteed to be sorted)\n",
    "\n",
    "for s in six00.students:\n",
    "    print(s)"
   ]
  },
  {
   "cell_type": "markdown",
   "metadata": {},
   "source": [
    "- May want to access student data more efficiently without\n",
    "having to create a copy of the student data every time\n",
    "\n",
    "to solve this problem we use Generators\n",
    "\n",
    "# Generators\n",
    "\n",
    "- any procedure or method with a yeild statement inside of it is a generator"
   ]
  },
  {
   "cell_type": "code",
   "execution_count": 35,
   "metadata": {},
   "outputs": [],
   "source": [
    "def gen_test():\n",
    "    yield 1\n",
    "    yield 2"
   ]
  },
  {
   "cell_type": "markdown",
   "metadata": {},
   "source": [
    "- generators have a next() method which starts/resumes execution of the procedure. Inside of a generator: \n",
    "    - yield suspends execution and returns value\n",
    "    - returning from a generator raises a `StopIteration` exception"
   ]
  },
  {
   "cell_type": "code",
   "execution_count": 36,
   "metadata": {},
   "outputs": [],
   "source": [
    "foo = gen_test()"
   ]
  },
  {
   "cell_type": "code",
   "execution_count": 37,
   "metadata": {},
   "outputs": [
    {
     "data": {
      "text/plain": [
       "1"
      ]
     },
     "execution_count": 37,
     "metadata": {},
     "output_type": "execute_result"
    }
   ],
   "source": [
    "foo.__next__()"
   ]
  },
  {
   "cell_type": "code",
   "execution_count": 38,
   "metadata": {},
   "outputs": [
    {
     "data": {
      "text/plain": [
       "2"
      ]
     },
     "execution_count": 38,
     "metadata": {},
     "output_type": "execute_result"
    }
   ],
   "source": [
    "foo.__next__()"
   ]
  },
  {
   "cell_type": "code",
   "execution_count": 39,
   "metadata": {},
   "outputs": [
    {
     "ename": "StopIteration",
     "evalue": "",
     "output_type": "error",
     "traceback": [
      "\u001b[0;31m---------------------------------------------------------------------------\u001b[0m",
      "\u001b[0;31mStopIteration\u001b[0m                             Traceback (most recent call last)",
      "\u001b[0;32m<ipython-input-39-5d994c17f9ca>\u001b[0m in \u001b[0;36m<module>\u001b[0;34m()\u001b[0m\n\u001b[0;32m----> 1\u001b[0;31m \u001b[0mfoo\u001b[0m\u001b[0;34m.\u001b[0m\u001b[0m__next__\u001b[0m\u001b[0;34m(\u001b[0m\u001b[0;34m)\u001b[0m\u001b[0;34m\u001b[0m\u001b[0m\n\u001b[0m",
      "\u001b[0;31mStopIteration\u001b[0m: "
     ]
    }
   ],
   "source": [
    "foo.__next__()"
   ]
  },
  {
   "cell_type": "code",
   "execution_count": 40,
   "metadata": {},
   "outputs": [
    {
     "name": "stdout",
     "output_type": "stream",
     "text": [
      "1\n",
      "2\n"
     ]
    }
   ],
   "source": [
    "for n in gen_test():\n",
    "    print(n)"
   ]
  },
  {
   "cell_type": "code",
   "execution_count": null,
   "metadata": {},
   "outputs": [],
   "source": []
  }
 ],
 "metadata": {
  "kernelspec": {
   "display_name": "Python 3",
   "language": "python",
   "name": "python3"
  },
  "language_info": {
   "codemirror_mode": {
    "name": "ipython",
    "version": 3
   },
   "file_extension": ".py",
   "mimetype": "text/x-python",
   "name": "python",
   "nbconvert_exporter": "python",
   "pygments_lexer": "ipython3",
   "version": "3.6.5"
  }
 },
 "nbformat": 4,
 "nbformat_minor": 2
}
