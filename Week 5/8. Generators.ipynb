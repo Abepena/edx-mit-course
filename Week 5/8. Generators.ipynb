{
 "cells": [
  {
   "cell_type": "markdown",
   "metadata": {},
   "source": [
    "# Generator Fibonacci example:"
   ]
  },
  {
   "cell_type": "code",
   "execution_count": 4,
   "metadata": {},
   "outputs": [],
   "source": [
    "def gen_fib():\n",
    "    fibn_1 = 1 # fib(n-1)\n",
    "    fibn_2 = 0 # fib(n-2)\n",
    "    \n",
    "    while True:\n",
    "        #fib(n) = fib(n-1) + fib(n-2)\n",
    "        next = fibn_1 + fibn_2\n",
    "        yield next\n",
    "        fibn_2 = fibn_1\n",
    "        fibn_1 = next\n",
    "        "
   ]
  },
  {
   "cell_type": "code",
   "execution_count": 5,
   "metadata": {},
   "outputs": [],
   "source": [
    "fib = gen_fib()"
   ]
  },
  {
   "cell_type": "code",
   "execution_count": 14,
   "metadata": {},
   "outputs": [
    {
     "data": {
      "text/plain": [
       "34"
      ]
     },
     "execution_count": 14,
     "metadata": {},
     "output_type": "execute_result"
    }
   ],
   "source": [
    "fib.__next__()"
   ]
  },
  {
   "cell_type": "markdown",
   "metadata": {},
   "source": [
    "- Generators nicely seperate out the apparent computation from the actual one\n",
    "- it seperates the concept of computing a very long sequence of objects from the actual process of getting them explicitly\n",
    "- allows you to generate new objects as needed a part of another computation\n",
    "- rather than generating a whole list of fibonnacci numbers and asking for the 12th one you can step through the generator 12 times and return 1 value\n",
    "\n",
    "- range is an example of a generator that gives you a value and essentially a promise that the next item in the range will be given when requested\n",
    "\n",
    "- You can program as if **the entire sequence** is available to you and the **computer generates it as you need it**"
   ]
  },
  {
   "cell_type": "code",
   "execution_count": null,
   "metadata": {},
   "outputs": [],
   "source": [
    "\"\"\"\n",
    "from gradebook example\n",
    "\"\"\"\n",
    "def all_students(self):\n",
    "    if not self.is_sorted:\n",
    "        self.students.sort()\n",
    "        self.is_sorted = True\n",
    "    return self.students[:] #returns a copy of entire list\n",
    "\n",
    "def all_students(self):\n",
    "    if not self.is_sorted:\n",
    "        self.students.sort()\n",
    "        self.is_sorted = True\n",
    "    for s in self.students:\n",
    "        yield s #loops through list of students and returns\n",
    "                #each student 1 at a time without generating\n",
    "                #and returning an entire list every time\n",
    "                \n",
    "\"\"\"\n",
    "Much more efficient way of dealying with things\n",
    "\"\"\"\n",
    "        \n",
    "    "
   ]
  },
  {
   "cell_type": "markdown",
   "metadata": {},
   "source": [
    "Write a generator, genPrimes, that returns the sequence of prime numbers on successive calls to its next() method: 2, 3, 5, 7, 11, ...\n",
    "\n",
    "Have the generator keep a list of the primes it's generated. A candidate number x is prime if (x % p) != 0 for all earlier primes p."
   ]
  },
  {
   "cell_type": "code",
   "execution_count": null,
   "metadata": {},
   "outputs": [],
   "source": [
    "from math import sqrt\n",
    "\n",
    "def genPrimes():\n",
    "    \"\"\"\n",
    "    generator that yeilds prime numbers on successive calls\n",
    "    to next()\n",
    "    \"\"\"\n",
    "    \n",
    "    #### HELPER FUNCTION ####\n",
    "    def prime_test(num, prime_list):\n",
    "        \"\"\"\n",
    "        Assumes input is greater than 2 and list is a list of primes less than input num\n",
    "        Returns boolean of whether a number is prime or not\n",
    "        \"\"\"\n",
    "        for i in prime_list:\n",
    "            if num % i == 0:\n",
    "                return False\n",
    "        return True\n",
    "    \n",
    "    ### MAIN LOGIC ###\n",
    "    prime_list = [2]\n",
    "    prime = 2\n",
    "    while True:\n",
    "        next = prime\n",
    "        yield next\n",
    "        while True:\n",
    "            prime += 1\n",
    "            if prime_test(prime, prime_list):\n",
    "                prime_list.append(prime) \n",
    "                break\n",
    "    \n",
    "    \n",
    "    "
   ]
  }
 ],
 "metadata": {
  "kernelspec": {
   "display_name": "Python 3",
   "language": "python",
   "name": "python3"
  },
  "language_info": {
   "codemirror_mode": {
    "name": "ipython",
    "version": 3
   },
   "file_extension": ".py",
   "mimetype": "text/x-python",
   "name": "python",
   "nbconvert_exporter": "python",
   "pygments_lexer": "ipython3",
   "version": "3.6.5"
  }
 },
 "nbformat": 4,
 "nbformat_minor": 2
}
