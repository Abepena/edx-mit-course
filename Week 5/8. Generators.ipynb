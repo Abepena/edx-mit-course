{
 "cells": [
  {
   "cell_type": "markdown",
   "metadata": {},
   "source": [
    "# Generator Fibonacci example:"
   ]
  },
  {
   "cell_type": "code",
   "execution_count": 4,
   "metadata": {},
   "outputs": [],
   "source": [
    "def gen_fib():\n",
    "    fibn_1 = 1 # fib(n-1)\n",
    "    fibn_2 = 0 # fib(n-2)\n",
    "    \n",
    "    while True:\n",
    "        #fib(n) = fib(n-1) + fib(n-2)\n",
    "        next = fibn_1 + fibn_2\n",
    "        yield next\n",
    "        fibn_2 = fibn_1\n",
    "        fibn_1 = next\n",
    "        "
   ]
  },
  {
   "cell_type": "code",
   "execution_count": 5,
   "metadata": {},
   "outputs": [],
   "source": [
    "fib = gen_fib()"
   ]
  },
  {
   "cell_type": "code",
   "execution_count": 14,
   "metadata": {},
   "outputs": [
    {
     "data": {
      "text/plain": [
       "34"
      ]
     },
     "execution_count": 14,
     "metadata": {},
     "output_type": "execute_result"
    }
   ],
   "source": [
    "fib.__next__()"
   ]
  },
  {
   "cell_type": "markdown",
   "metadata": {},
   "source": [
    "- Generators nicely seperate out the apparent computation from the actual one\n",
    "- it seperates the concept of computing a very long sequence of objects from the actual process of getting them explicitly\n",
    "- allows you to generate new objects as needed a part of another computation\n",
    "- rather than generating a whole list of fibonnacci numbers and asking for the 12th one you can step through the generator 12 times and return 1 value\n",
    "\n",
    "- range is an example of a generator that gives you a value and essentially a promise that the next item in the range will be given when requested\n",
    "\n",
    "- You can program as if **the entire sequence** is available to you and the **computer generates it as you need it**"
   ]
  },
  {
   "cell_type": "code",
   "execution_count": null,
   "metadata": {},
   "outputs": [],
   "source": []
  }
 ],
 "metadata": {
  "kernelspec": {
   "display_name": "Python 3",
   "language": "python",
   "name": "python3"
  },
  "language_info": {
   "codemirror_mode": {
    "name": "ipython",
    "version": 3
   },
   "file_extension": ".py",
   "mimetype": "text/x-python",
   "name": "python",
   "nbconvert_exporter": "python",
   "pygments_lexer": "ipython3",
   "version": "3.6.5"
  }
 },
 "nbformat": 4,
 "nbformat_minor": 2
}
