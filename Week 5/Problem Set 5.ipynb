{
 "cells": [
  {
   "cell_type": "code",
   "execution_count": 1,
   "metadata": {},
   "outputs": [
    {
     "name": "stdout",
     "output_type": "stream",
     "text": [
      "{'a': 'd', 'b': 'e', 'c': 'f', 'd': 'g', 'e': 'h', 'f': 'i', 'g': 'j', 'h': 'k', 'i': 'l', 'j': 'm', 'k': 'n', 'l': 'o', 'm': 'p', 'n': 'q', 'o': 'r', 'p': 's', 'q': 't', 'r': 'u', 's': 'v', 't': 'w', 'u': 'x', 'v': 'y', 'w': 'z', 'x': 'a', 'y': 'b', 'z': 'c', 'A': 'D', 'B': 'E', 'C': 'F', 'D': 'G', 'E': 'H', 'F': 'I', 'G': 'J', 'H': 'K', 'I': 'L', 'J': 'M', 'K': 'N', 'L': 'O', 'M': 'P', 'N': 'Q', 'O': 'R', 'P': 'S', 'Q': 'T', 'R': 'U', 'S': 'V', 'T': 'W', 'U': 'X', 'V': 'Y', 'W': 'Z', 'X': 'A', 'Y': 'B', 'Z': 'C'}\n"
     ]
    }
   ],
   "source": [
    "import string \n",
    "\n",
    "def build_shift_dict(shift):\n",
    "    '''\n",
    "    Creates a dictionary that can be used to apply a cipher to a letter.\n",
    "    The dictionary maps every uppercase and lowercase letter to a\n",
    "    character shifted down the alphabet by the input shift. The dictionary\n",
    "    should have 52 keys of all the uppercase letters and all the lowercase\n",
    "    letters only.        \n",
    "\n",
    "    shift (integer): the amount by which to shift every letter of the \n",
    "    alphabet. 0 <= shift < 26\n",
    "\n",
    "    Returns: a dictionary mapping a letter (string) to \n",
    "             another letter (string). \n",
    "    '''\n",
    "\n",
    "    shift_dict = {}\n",
    "    lowercase_letters = string.ascii_lowercase\n",
    "    uppercase_letters = string.ascii_uppercase\n",
    "\n",
    "    for index, letter in enumerate(lowercase_letters):\n",
    "        if index + shift >= 26:\n",
    "            shift_dict[letter] = lowercase_letters[index + shift - 26]\n",
    "        else:\n",
    "            shift_dict[letter] = lowercase_letters[index + shift]\n",
    "\n",
    "    for index, letter in enumerate(uppercase_letters):\n",
    "        if index + shift >= 26:\n",
    "            shift_dict[letter] = uppercase_letters[index + shift - 26]\n",
    "        else:\n",
    "            shift_dict[letter] = uppercase_letters[index + shift]\n",
    "    \n",
    "    return shift_dict\n",
    "\n",
    "print(build_shift_dict(3))            "
   ]
  },
  {
   "cell_type": "code",
   "execution_count": 2,
   "metadata": {},
   "outputs": [
    {
     "name": "stdout",
     "output_type": "stream",
     "text": [
      "{'a': 'a', 'b': 'b', 'c': 'c', 'd': 'd', 'e': 'e', 'f': 'f', 'g': 'g', 'h': 'h', 'i': 'i', 'j': 'j', 'k': 'k', 'l': 'l', 'm': 'm', 'n': 'n', 'o': 'o', 'p': 'p', 'q': 'q', 'r': 'r', 's': 's', 't': 't', 'u': 'u', 'v': 'v', 'w': 'w', 'x': 'x', 'y': 'y', 'z': 'z', 'A': 'A', 'B': 'B', 'C': 'C', 'D': 'D', 'E': 'E', 'F': 'F', 'G': 'G', 'H': 'H', 'I': 'I', 'J': 'J', 'K': 'K', 'L': 'L', 'M': 'M', 'N': 'N', 'O': 'O', 'P': 'P', 'Q': 'Q', 'R': 'R', 'S': 'S', 'T': 'T', 'U': 'U', 'V': 'V', 'W': 'W', 'X': 'X', 'Y': 'Y', 'Z': 'Z'}\n"
     ]
    }
   ],
   "source": [
    "print(build_shift_dict(0))"
   ]
  },
  {
   "cell_type": "code",
   "execution_count": null,
   "metadata": {},
   "outputs": [],
   "source": []
  }
 ],
 "metadata": {
  "kernelspec": {
   "display_name": "Python 3",
   "language": "python",
   "name": "python3"
  },
  "language_info": {
   "codemirror_mode": {
    "name": "ipython",
    "version": 3
   },
   "file_extension": ".py",
   "mimetype": "text/x-python",
   "name": "python",
   "nbconvert_exporter": "python",
   "pygments_lexer": "ipython3",
   "version": "3.6.5"
  }
 },
 "nbformat": 4,
 "nbformat_minor": 2
}
