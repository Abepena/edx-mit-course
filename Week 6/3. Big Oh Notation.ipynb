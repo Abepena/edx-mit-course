{
 "cells": [
  {
   "cell_type": "markdown",
   "metadata": {},
   "source": [
    "# Measuring the order of growth: Big Oh notation\n",
    "\n",
    "- Big Oh notation mearues an **upper bound on the asymptotic growth**, often called order of growth\n",
    "\n",
    "- **Big Oh or O()** is used to describe **worst case**\n",
    "    - worst case occurs often and is the bottleneck when a program runs\n",
    "    - express rate of growth of program relative to input size\n",
    "    - evaluate algorithm not machine implementation"
   ]
  },
  {
   "cell_type": "markdown",
   "metadata": {},
   "source": [
    "# Exact steps vs. O()"
   ]
  },
  {
   "cell_type": "code",
   "execution_count": 2,
   "metadata": {},
   "outputs": [],
   "source": [
    "def fact_iter(n):\n",
    "    \"\"\"\n",
    "    assumes n an int >= 0\n",
    "    \"\"\"\n",
    "    answer = 1\n",
    "    while n > 1:\n",
    "        answer *= n\n",
    "        n -= 1\n",
    "    return answer"
   ]
  },
  {
   "cell_type": "markdown",
   "metadata": {},
   "source": [
    "- computes factorial\n",
    "- number of steps: 1 (answer assignment) + 5n (while loop ops) + 1 (return statement)\n",
    "- worst case asymptotic complexity:\n",
    "    - ignore additive constants: remove the two ones (as n gets very large this wont really matter)\n",
    "    - ignore multiplicative constants (5n becomes n)\n",
    "    \n",
    "### This is O(n): linear algorithm\n",
    "\n",
    "- focus on the **dominant terms** \n",
    "\n",
    "O(n^2): `n^2 + 2n + 2`  \n",
    "O(n^2): `n^2 + 100000n + 3^1000`   \n",
    "O(n): `log(n) + n + 4 (n grows more rapidly then log(n))`   \n",
    "O(nlog(n)): `.0001*n*log(n) + 300n`  \n",
    "O(3^n): `2n^30 + 3^n`   "
   ]
  },
  {
   "cell_type": "markdown",
   "metadata": {},
   "source": [
    "### Complexity classes ordered low to high\n",
    "- constant : O(1)\n",
    "- logarithmic : O(log n)\n",
    "- linear: O(n)\n",
    "- loglinear : O(n log n)\n",
    "- polynomial : O(n^C)\n",
    "- exponential : O(C^n) \n",
    "\n",
    "The higher up the algorithmic complexity is on this list, the more efficient it is"
   ]
  },
  {
   "cell_type": "markdown",
   "metadata": {},
   "source": [
    "### Analyzing Programs and their complexity\n",
    "- combine complexity classes\n",
    "    - analyze statements inside functions\n",
    "    - apply some rules, focus on dominant terms\n",
    "\n",
    "#### **Law of addition** for O():\n",
    "- used with **sequential statements**\n",
    "- O(f(n)) + O(g(n)) = O(f(n) + g(n))\n",
    "\n",
    "example:\n",
    "\n"
   ]
  },
  {
   "cell_type": "code",
   "execution_count": null,
   "metadata": {},
   "outputs": [],
   "source": [
    "for i in range(n):\n",
    "    print('a')\n",
    "for i in range(n*n):\n",
    "    print('b')"
   ]
  },
  {
   "cell_type": "markdown",
   "metadata": {},
   "source": [
    "is O(n) + O(n^2) = O(n+n^2) = O(n^2) because of the dominant term\n",
    "\n",
    "#### Law of multiplication for O():\n",
    "- used with **nested** statements/loops\n",
    "- O(f(n)) * O(g(n)) = O(f(n) * g(n))\n",
    "\n",
    "example:"
   ]
  },
  {
   "cell_type": "code",
   "execution_count": null,
   "metadata": {},
   "outputs": [],
   "source": [
    "for i in range(n):\n",
    "    for j in range(n):\n",
    "        print('a')"
   ]
  },
  {
   "cell_type": "markdown",
   "metadata": {},
   "source": [
    "is O(n) * O(n) = O(n\\*n) = O(n^2) because the outer loop goes n times and the inner loop goes n times for every outer loop iteration"
   ]
  },
  {
   "cell_type": "markdown",
   "metadata": {},
   "source": [
    "for things in sequence add them together, for things nested within each other multiply, then analyze complexity"
   ]
  },
  {
   "cell_type": "code",
   "execution_count": null,
   "metadata": {},
   "outputs": [],
   "source": []
  }
 ],
 "metadata": {
  "kernelspec": {
   "display_name": "Python 3",
   "language": "python",
   "name": "python3"
  },
  "language_info": {
   "codemirror_mode": {
    "name": "ipython",
    "version": 3
   },
   "file_extension": ".py",
   "mimetype": "text/x-python",
   "name": "python",
   "nbconvert_exporter": "python",
   "pygments_lexer": "ipython3",
   "version": "3.6.5"
  }
 },
 "nbformat": 4,
 "nbformat_minor": 2
}
