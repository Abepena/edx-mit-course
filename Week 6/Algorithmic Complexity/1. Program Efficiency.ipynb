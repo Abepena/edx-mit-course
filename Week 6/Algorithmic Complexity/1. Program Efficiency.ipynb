{
 "cells": [
  {
   "cell_type": "markdown",
   "metadata": {},
   "source": [
    "# Understanding Program Efficiency\n",
    "\n",
    "#### Are all algorithms equal?\n",
    "\n",
    "- computers are fast and getting faster - so maybe efficient programs dont matter?\n",
    "    - but data sets can be very large\n",
    "    - thus simple solutions may simply not scale with size in acceptable manner\n",
    "- so how could we decide which option from program is most efficient?\n",
    "- seperate **time and space efficiency** of a program\n",
    "\n",
    "**MEMOIZATION** storing in a dictionary pre-computed values can change efficiency of a program\n",
    "\n",
    "- there is a trade-off between time and space but for the most part we will focus on time effeciency\n",
    "    - how quickly will a program come up with an answer\n",
    "    \n",
    "#### Challenge in understanding efficiency of a solution to a computational program\n",
    "\n",
    "- a program can be implemented in **many different ways**\n",
    "- usually, even if there are many different ways of implementing a program, you can solve a problem using only a handful of different **algorithms**\n",
    "- would like to seperate choices of implementation from choices of more abstract algorithm\n",
    "\n",
    "#### How to evaluate the efficiency of a program?\n",
    "- measure with a timer\n",
    "- count the number of operations\n",
    "- abstract notion of **order of growth** (Big O) \n",
    "\n",
    "**order of growth** is usually the most appropriate way of assessing the impact of choices of algorithm in solving a problem and measuring the inherent difficulty in solving a problem\n",
    "\n"
   ]
  },
  {
   "cell_type": "markdown",
   "metadata": {},
   "source": [
    "## Timing a program\n",
    "- use the time module in Python\n",
    "- start clock, run function, stop clock"
   ]
  },
  {
   "cell_type": "code",
   "execution_count": 11,
   "metadata": {},
   "outputs": [
    {
     "name": "stdout",
     "output_type": "stream",
     "text": [
      "t =  0.0001210 s,\n"
     ]
    }
   ],
   "source": [
    "import time\n",
    "\n",
    "def c_to_f(c):\n",
    "    \"\"\"\n",
    "    converts celcius to fahrenheit\n",
    "    \"\"\"\n",
    "    return c* 9/5 + 32\n",
    "\n",
    "t0 = time.clock()\n",
    "c_to_f(100000)\n",
    "t1 = time.clock() - t0\n",
    "print(f\"t = {t1: .7f} s,\")"
   ]
  },
  {
   "cell_type": "markdown",
   "metadata": {},
   "source": [
    "### Timing a program is inconsistent:\n",
    "\n",
    "- if you run the program above multiple times you will get differnent run times\n",
    "- running times will vary between:\n",
    "    - algorithms\n",
    "    - implementations\n",
    "    - computers\n",
    "- running time is **not predictable** based on small inputs\n",
    "\n",
    "- time varied for different inputs but cannot really express a relationship between inputs and time"
   ]
  },
  {
   "cell_type": "markdown",
   "metadata": {},
   "source": [
    "## Counting Operations:\n",
    "\n",
    "- assume the following steps take **constant time**:\n",
    "    - mathematical operations\n",
    "    - comparisions\n",
    "    - assignments\n",
    "    - accessing objects in memory\n",
    "\n",
    "- then count the number of operations executed as a function of size of input"
   ]
  },
  {
   "cell_type": "code",
   "execution_count": 12,
   "metadata": {},
   "outputs": [],
   "source": [
    "def c_to_f(c):\n",
    "    \"\"\"\n",
    "    converts celcius to fahrenheit\n",
    "    \"\"\"\n",
    "    return c* 9/5 + 32 #3 ops\n",
    "\n",
    "def mysum(x):\n",
    "    total = 0 #1 op\n",
    "    for i in range(x+1): #1 op\n",
    "        total += 1  # 2 ops, addition, then assignment\n",
    "    return total"
   ]
  },
  {
   "cell_type": "markdown",
   "metadata": {},
   "source": [
    "c_to_f = 3 operations (multiplication, division, and addition)\n",
    "\n",
    "mysum = 3x + 1 operation \n",
    "(3 times the number of loops up to x plus the inital assignment of total) \n",
    "\n",
    "#### Counting operations is better, but still...\n",
    "\n",
    "- GOAL: to evaluate different algorithms\n",
    "\n",
    "##### PROS\n",
    "- count depends on algorithm\n",
    "- count independent of computers\n",
    "- count varies for different inputs and can come up with inputs an count\n",
    "\n",
    "##### CONS\n",
    "- count depends on implementations\n",
    "- no real definition of which operations to count\n",
    "\n",
    "\n",
    "\n"
   ]
  },
  {
   "cell_type": "markdown",
   "metadata": {},
   "source": [
    "### Still need a better way\n",
    "- timing and counting evaluate **implementations**\n",
    "- timing **evaluates machines**\n",
    "\n",
    "- want to evaluate **algorithms**\n",
    "- want to evaluate **scalability**\n",
    "- want to evaluate **in terms of input size**\n",
    "\n",
    "take the counting idea but abstract it slightly\n",
    "\n",
    "#### Need to choose which input to use to evaluate a function\n",
    "\n",
    "- want to express efficiency **in terms of input**, so need to decide what your input is\n",
    "\n",
    "- could be an integer \n",
    "`mysum(x)`\n",
    "- could be length of a list\n",
    "`list_sum(L)`\n",
    "- **you decide** when multiple parameters to a function\n",
    "`search_for_element(L,e)`\n",
    "\n",
    "you would probably ant to choose the length of the list as the input to use when evaluating the function rather than the size of the element you are searching for. This will give you a best/worst case on the efficiency of your program\n",
    "\n",
    "#### Different inputs will change how the computer runs"
   ]
  },
  {
   "cell_type": "code",
   "execution_count": 14,
   "metadata": {},
   "outputs": [],
   "source": [
    "def search_for_element(L,e):\n",
    "    \"\"\"\n",
    "    a function that searches for an element 'e' in\n",
    "    a list 'L'\n",
    "    \"\"\"\n",
    "    \n",
    "    for i in L:\n",
    "        if i == e:\n",
    "            return True\n",
    "    return False"
   ]
  },
  {
   "cell_type": "markdown",
   "metadata": {},
   "source": [
    "1. BEST CASE: when e is the **first element** in the list\n",
    "\n",
    "2. WORST CASE: when e is **not in list**\n",
    "\n",
    "3. AVERAGE CASE: when you've looked through about half of the elements in list\n",
    "\n",
    "You usually want to measure the complexity of a program in a general way so the most important one to keep in mind is the **WORST CASE**\n",
    "\n",
    "## Best, Average, and Worst Cases\n",
    "\n",
    "- suppose you are given a list L of some length `len(L)`\n",
    "\n",
    "- **best case**: first element in the list\n",
    "- **average case**: average running time over all possible inputs of a given size, `len(L)`\n",
    "    - practical measurement\n",
    "- **worst case**: max running time over all possible inputs of a given size, `len(L)`\n",
    "    -linear in length of list for `search_for_element`\n",
    "    - must search entire list and not find it"
   ]
  },
  {
   "cell_type": "markdown",
   "metadata": {},
   "source": [
    "# Orders of growth (Complexity of Algorithms)\n",
    "\n",
    "##### Goals:\n",
    "- want to evaluate programs efficiency when input **is very big**\n",
    "- want to express the **growth of a program's runtime** as input size grows\n",
    "- want to put an **upper bound** on growth\n",
    "- do not need to be precise **\"order of\" not \"exact\"** growth\n",
    "- we will look at **largest factors** in run time (which sections of programs will take the longest to run)"
   ]
  },
  {
   "cell_type": "markdown",
   "metadata": {},
   "source": [
    "## Types of orders of growth\n",
    "\n",
    "- **contant**: no matter how we increase the input size, the runtime will be the same in general to solve the problem\n",
    "- **linear**: runtime grows proportionally to the size of input\n",
    "- **quadratic**: runtime grows with the square of the size of the input\n",
    "- **logarithmic**: run time grows at log(input size) rate\n",
    "- **n log n**: not as bad as quadratic but a little more than linear\n",
    "- **exponential**: growths exponentially (larger than quadratic)\n"
   ]
  },
  {
   "cell_type": "code",
   "execution_count": null,
   "metadata": {},
   "outputs": [],
   "source": []
  }
 ],
 "metadata": {
  "kernelspec": {
   "display_name": "Python 3",
   "language": "python",
   "name": "python3"
  },
  "language_info": {
   "codemirror_mode": {
    "name": "ipython",
    "version": 3
   },
   "file_extension": ".py",
   "mimetype": "text/x-python",
   "name": "python",
   "nbconvert_exporter": "python",
   "pygments_lexer": "ipython3",
   "version": "3.6.5"
  }
 },
 "nbformat": 4,
 "nbformat_minor": 2
}
