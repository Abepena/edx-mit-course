{
 "cells": [
  {
   "cell_type": "markdown",
   "metadata": {},
   "source": [
    "# Exercise 1"
   ]
  },
  {
   "cell_type": "code",
   "execution_count": 1,
   "metadata": {},
   "outputs": [],
   "source": [
    "def linearSearch(L, x):\n",
    "    for e in L:\n",
    "        if e == x:\n",
    "            return True\n",
    "    return False"
   ]
  },
  {
   "cell_type": "markdown",
   "metadata": {},
   "source": [
    "What is the number of steps it will take to run linearSearch in the best case? Express your answer in terms of n, the number of elements in the list L.\n",
    "\n",
    "ANSWER: 1 (returning True after 1 iteration for loop)\n",
    "\n",
    "What is the number of steps it will take to run linearSearch in the worst case? Express your answer in terms of n, the number of elements in the list L.\n",
    "\n",
    "ANSWER: 2n + 1, (2 operations in the for loop + returning false)"
   ]
  },
  {
   "cell_type": "code",
   "execution_count": null,
   "metadata": {},
   "outputs": [],
   "source": [
    "def program1(x):\n",
    "    total = 0\n",
    "    for i in range(1000):\n",
    "        total += i\n",
    "\n",
    "    while x > 0:\n",
    "        x -= 1\n",
    "        total += x\n",
    "\n",
    "    return total"
   ]
  },
  {
   "cell_type": "markdown",
   "metadata": {},
   "source": [
    "# Exercise 2:\n",
    "\n",
    "For the following programs, fill in the best-case and the worst-case number of steps it will take to run each program.\n",
    "\n",
    "For these questions, you'll be asked to write a mathematical expression. Use +, -, / signs to indicate addition, subtraction, and division. Explicitly indicate multiplication with a * (ie say \"6*n\" rather than \"6n\"). Indicate exponentiation with a caret (^) (ie \"n^4\" for ). Indicate base-2 logarithms with the word log2 followed by parenthesis (ie \"log2(n)\")."
   ]
  },
  {
   "cell_type": "code",
   "execution_count": 2,
   "metadata": {},
   "outputs": [],
   "source": [
    "def program1(x):\n",
    "    total = 0\n",
    "    for i in range(1000):\n",
    "        total += i\n",
    "\n",
    "    while x > 0:\n",
    "        x -= 1\n",
    "        total += x\n",
    "\n",
    "    return total"
   ]
  },
  {
   "cell_type": "markdown",
   "metadata": {},
   "source": [
    "What is the number of steps it will take to run Program 1 in the best case? Express your answer in terms of n, the size of the input x.\n",
    "\n",
    "Ans: 3003\n",
    "\n",
    "What is the number of steps it will take to run Program 1 in the worst case? Express your answer in terms of n, the size of the input x\n",
    "\n",
    "Ans: 5*n + 3003\n",
    "\n",
    "### Explanation\n",
    "\n",
    "In the best case scenario, x is less than or equal to 0. We first execute the assignment total = 0 for one step. Next we execute the for i in range(1000) loop. This loop is executed 1000 times and has three steps (one for the assignment of i each time through the loop, as well as two for the += operation) on each iteration. We next check if x > 0 - it is not so we do not enter the loop. Adding one more step for the return statement, in the best case we execute 1 + 3*1000 + 1 + 1 = 3003 steps.\n",
    "\n",
    "In the worst case scenario, x is a large positive number. In this case, we first execute the assignment total = 0 for one step. Next we execute the first loop 1000 times (3000 total steps), then we execute the second loop (while x > 0) n times. This loop has five steps (one for the conditional check, x > 0, and two each for the -= and += operations). When we finally get to the point where x = 0, we execute the conditional check x > 0 one last time - since it is not, we do not enter the loop. Adding one more step for the return statement, in the worst case we execute 1 + 3*1000 + 5*n + 1 + 1 = 5*n + 3003 steps."
   ]
  },
  {
   "cell_type": "code",
   "execution_count": null,
   "metadata": {},
   "outputs": [],
   "source": [
    "def program2(x):\n",
    "    total = 0\n",
    "    for i in range(1000):\n",
    "        total = i\n",
    "\n",
    "    while x > 0:\n",
    "        x = x//2\n",
    "        total += x\n",
    "\n",
    "    return total"
   ]
  },
  {
   "cell_type": "markdown",
   "metadata": {},
   "source": [
    "What is the number of steps it will take to run Program 2 in the best case? Express your answer in terms of n, the size of the input x.\n",
    "\n",
    "Ans: 2003\n",
    "\n",
    "What is the number of steps it will take to run Program 2 in the worst case? Express your answer in terms of n, the size of the input x.\n",
    "\n",
    "Ans: 5*log2(n) + 2008\n",
    "\n",
    "### Explanation\n",
    "In the best case scenario, x is less than or equal to 0. We first execute the assignment total = 0 for one step. Next we execute the for i in range(1000) loop. This loop is executed 1000 times and has two steps (one for the assignment of i each time through the loop, as well as one for the = operation) on each iteration. We next check if x > 0 - it is not so we do not enter the loop. Adding in one step for the return statement, in the best case we execute 1 + 2*1000 + 1 + 1 = 2003 steps.\n",
    "\n",
    "In the worst case scenario, x is a large positive number. In this case we first execute the assignment total = 0 for one step, then we execute the first loop 1000 times (2000 total steps). Finally execute the second loop (while x > 0) log2(n) + 1 times. This is tricky! Because we divide x by 2 every time through the loop, we only execute this loop a logarithmic number of times. log2(n) divisions of x by 2 will get us to x = 1; we'll need one more division to get x <= 0 . Don't worry if you couldn't get this fact;\twe'll go through it a few more times in this unit.\n",
    "\n",
    "This while loop has five steps (one for the conditional check, x > 0, and two each for the //= and += operations). When we finally get to the point where x = 0, we execute the conditional check x > 0 one last time - since it is not, we do not enter the loop. Adding in one step for the return statement, in the worst case we execute 1 + 2*1000 + 5*(log2(n) + 1) + 1 + 1 = 5*log2(n) + 2008 steps."
   ]
  },
  {
   "cell_type": "code",
   "execution_count": 3,
   "metadata": {},
   "outputs": [],
   "source": [
    "def program3(L):\n",
    "    totalSum = 0\n",
    "    highestFound = None\n",
    "    for x in L:\n",
    "        totalSum += x\n",
    "\n",
    "    for x in L:\n",
    "        if highestFound == None:\n",
    "            highestFound = x\n",
    "        elif x > highestFound:\n",
    "            highestFound = x\n",
    "\n",
    "    return (totalSum, highestFound)"
   ]
  },
  {
   "cell_type": "markdown",
   "metadata": {},
   "source": [
    "What is the number of steps it will take to run Program 3 in the best case? Express your answer in terms of n, the number of elements in the list L.\n",
    "\n",
    "Ans: 3\n",
    "\n",
    "What is the number of steps it will take to run Program 3 in the worst case? Express your answer in terms of n, the number of elements in the list L.\n",
    "\n",
    "Ans: 7*n + 2 \n",
    "### Explanation\n",
    "In the best case scenario, L is an empty list. Thus we execute only the first two assignment statements, then the return statement. Therefore in the best case we execute 3 steps. Note that since the list is empty, no assignments are performed in the for x in L lines.\n",
    "\n",
    "In the worst case scenario, L is a list with its elements sorted in increasing order (eg, \\[1, 3, 5, 7, ...\\]). In this case we execute the first two assignment statements (2 steps). Next we execute the first loop n times. This first loop has three steps (one for the assignment of x each time through the loop, as well as two for the += operation), adding 3*n steps.\n",
    "\n",
    "Finally we execute the second loop n times. The first time we execute this loop, we perform 3 steps - one for the assignment of x; then we run the check if highestFound == None, and finding it to be True, we execute the assignment highestFound = x.\n",
    "\n",
    "The next (n-1) times we execute this loop, we perform 4 steps: one for the assignment of x, then we run the check if highestFound == None, and finding it to be False, we run the check elif x > highestFound. Since this is always True (the list is sorted in increasing order), we execute the assignment highestFound = x. Therefore in the second loop we execute 3 + (n-1)*4 = 3 + 4*n - 4 = 4*n - 1 steps.\n",
    "\n",
    "Finally we execute the return statement, which is one more step.\n",
    "\n",
    "Pulling this all together, we can see that in the worst case we execute 2 + 3*n + 4*n - 1 + 1= 7*n + 2 steps."
   ]
  },
  {
   "cell_type": "markdown",
   "metadata": {},
   "source": [
    "# Exercise 3"
   ]
  },
  {
   "cell_type": "code",
   "execution_count": 4,
   "metadata": {},
   "outputs": [],
   "source": [
    "def program1(L):\n",
    "    multiples = []\n",
    "    for x in L:\n",
    "        for y in L:\n",
    "            multiples.append(x*y)\n",
    "    return multiples"
   ]
  },
  {
   "cell_type": "markdown",
   "metadata": {},
   "source": [
    "What is the number of steps it will take to run Program 1 in the best case? Express your answer in terms of n, the number of elements in the list L. You can assume list appending takes 1 step.\n",
    "\n",
    "Ans: 2\n",
    "\n",
    "What is the number of steps it will take to run Program 1 in the worst case? Express your answer in terms of n, the number of elements in the list L. You can assume list appending takes 1 step.\n",
    "\n",
    "Ans: 3n^2 + n + 2\n",
    "\n",
    "### Explanation\n",
    "In the best case scenario, L is an empty list. So we execute only the first assignment statement, then the return statement. Thus in the best case we execute 2 steps. Note that since the list is empty, no assignments are performed in the for x in L line.\n",
    "\n",
    "In the worst case scenario, L is a long list. In this case we go through the loop for x in L n times. Every time through this loop, we execute an assignment of a value to x, and then the inner loop for y in L. The assignment takes 1 step on each iteration; how many steps does the inner loop take on each iteration?\n",
    "\n",
    "The inner loop has three operations (assignment of a value to y, x*y, and list appending). So the inner loop executes 3*n times on each iteration of the outer loop. Thus the nested loop structure is executed n * (3*n + 1) = 3*n**2 + n times!\n",
    "\n",
    "Adding in two steps (for the first assignment statement, and the return statement) we see that in the worst case, this program executes 3*n**2 + n + 2 steps."
   ]
  },
  {
   "cell_type": "code",
   "execution_count": 5,
   "metadata": {},
   "outputs": [],
   "source": [
    "def program2(L):\n",
    "    squares = []\n",
    "    for x in L:\n",
    "        for y in L:\n",
    "            if x == y:\n",
    "                squares.append(x*y)\n",
    "    return squares"
   ]
  },
  {
   "cell_type": "markdown",
   "metadata": {},
   "source": [
    "Assuming n  is the length of list L and appending = 1 op\n",
    "\n",
    "Best Case: 2 (empty list L)\n",
    "\n",
    "Worst case:\n",
    "\n",
    "1 - assignment of squares to empty list  \n",
    "n - for loop thru length of L assigning x  \n",
    "3n^2 - for loop w 4 operations, n times inside a loop that will run n times  \n",
    "1 - return statement\n",
    "\n",
    "4n^2 + n + 2\n",
    "\n",
    "\n",
    "\n",
    "\n"
   ]
  },
  {
   "cell_type": "code",
   "execution_count": null,
   "metadata": {},
   "outputs": [],
   "source": [
    "def program3(L1, L2):\n",
    "    intersection = []\n",
    "    for elt in L1:\n",
    "        if elt in L2:\n",
    "            intersection.append(elt)\n",
    "    return intersection"
   ]
  },
  {
   "cell_type": "markdown",
   "metadata": {},
   "source": [
    "Assuming n is the length of list L and appending = 1 op\n",
    "\n",
    "Best Case: 2 (empty list L) - assignment of intersection and returning of empty list\n",
    "\n",
    "Worst case: last element in L1 is last element in L2\n",
    "\n",
    "1 - assignment of intersection\n",
    "n - for loop assigning elt n times\n",
    "n\\*n - if check n times inside of for loop of length n - append happens once at the end of the list (therefore depends on the for elt in L1 loop iteration)\n",
    "1 - return statement\n",
    "\n",
    "Worst Case is therefore: n^2 + 2n + 2\n",
    "\n",
    "\n",
    "### Complexity order of programs 1, 2, and 3 are all O(n^2)"
   ]
  },
  {
   "cell_type": "markdown",
   "metadata": {},
   "source": [
    "# Exercise 4:\n",
    "\n",
    "###### Determine the complexity of the following tasks\n",
    "\n",
    "1. 6.00.1x staff decide to hold an online chess tournament, and n 6.00.1x students respond to participate in it. If the tournament is a single-elimination tournament (this means you are eliminated when you lose once), how many games do we need to decide the winner, in terms of n? Assume there will be no draws or byes.\n",
    "\n",
    "Ans: O(n) \n",
    "\n",
    "### Explanation\n",
    "\n",
    "there will be n/2 (O(n)) games to start + n/4 (O(n)) + n/8 (0(n)) etc\n",
    "\n",
    "through Law of additon, this will be O(n)\n",
    "\n",
    "2. You are asked to write an n page research paper. You've written plenty of research papers in your time, and you know it always takes you 30 minutes to write one page of a research paper. In terms of n, what is the complexity order that describes the amount of time this research paper will take to write?\n",
    "\n",
    "Ans: O(n)\n",
    "\n",
    "### Explanation:\n",
    "\n",
    "The time it takes you to write your paper is linearly proportional to the length n of your research paper. Technically it would be O(.5n) (in hours) but the law of multiplication for Big Oh Notation reduces this down to O(n)\n",
    "\n",
    "3. You are asked to write an n page personal essay. You've written plenty of personal essays in your time, and you know it always takes you two hours to write a personal essay, no matter the length. In terms of n, what is the complexity order that describes the amount of time this personal essay will take to write?\n",
    "\n",
    "Ans: O(1) \n",
    "\n",
    "\"No matter the length\" means the time it takes to write the essay is independent of the length of the essay. This would be constant time or O(1)\n",
    "\n",
    "4. You just dropped a box of glass toys and n toys in the box broke in half. You'd like to match the halves of the toys so that you could glue them together, but the only way to tell whether two halves belonged to one toy is to physically pick up the two pieces and try to fit them together. Express how long this matching process will take in terms of n.\n",
    "\n",
    "\n",
    "Worst case scenario: you would pick up one half and have to look thru n halves to find its match then the number of toys left to match is is n-1 but again you would have to search through n-1 halves\n",
    "\n",
    "for large numbers n-1 can be seen as n \n",
    "\n",
    "this boils down to n \\* n \n",
    "\n",
    "\n",
    "\n"
   ]
  },
  {
   "cell_type": "markdown",
   "metadata": {},
   "source": [
    "# Exercise 5\n",
    "- done online in edx, mutiply choice on the complexity of 5 simple mathematical expressions/polynomials\n",
    "\n",
    "# Exercise 6\n",
    "\n",
    "Consider the following Python procedures. For each one, specify its order of growth.\n",
    "\n",
    "1.)"
   ]
  },
  {
   "cell_type": "code",
   "execution_count": null,
   "metadata": {},
   "outputs": [],
   "source": [
    "# Assume n has been previously bound to some value\n",
    "i = 0\n",
    "while i < 5:\n",
    "   n *= 2\n",
    "   i += 1\n",
    "\n",
    "print(n)"
   ]
  },
  {
   "cell_type": "markdown",
   "metadata": {},
   "source": [
    "O(1) distance from i to 5 is always constant\n",
    "\n",
    "2.)"
   ]
  },
  {
   "cell_type": "code",
   "execution_count": null,
   "metadata": {},
   "outputs": [],
   "source": [
    "def iterPower(a, b):\n",
    "   result = 1\n",
    "   while b > 0:\n",
    "      result *= a\n",
    "      b -= 1\n",
    "   return result"
   ]
  },
  {
   "cell_type": "markdown",
   "metadata": {},
   "source": [
    "O(b) b being the distance from b to 0\n",
    "\n",
    "3.)"
   ]
  },
  {
   "cell_type": "code",
   "execution_count": null,
   "metadata": {},
   "outputs": [],
   "source": [
    "def recurPower(a, b):\n",
    "   print(a, b)\n",
    "   if b == 0:\n",
    "      return 1\n",
    "   else:\n",
    "      return a * recurPower(a, b-1)"
   ]
  },
  {
   "cell_type": "markdown",
   "metadata": {},
   "source": [
    "O(b) again, just a recursive version of 2.)"
   ]
  },
  {
   "cell_type": "code",
   "execution_count": null,
   "metadata": {},
   "outputs": [],
   "source": [
    "def recurPowerNew(a, b):\n",
    "   print(a, b)\n",
    "   if b == 0:\n",
    "      return 1\n",
    "   elif b%2 == 0:\n",
    "      return recurPowerNew(a*a, b/2)\n",
    "   else:\n",
    "      return a * recurPowerNew(a, b-1)"
   ]
  },
  {
   "cell_type": "markdown",
   "metadata": {},
   "source": [
    "O(log b) - recursive call to a function with half of b for every even number if an odd b number is found, it subtracts 1 from it to make it even on the next recursive call"
   ]
  },
  {
   "cell_type": "markdown",
   "metadata": {},
   "source": [
    "# Exercise 7\n",
    "\n",
    "Consider the following Python procedures. For each one, specify its order of growth."
   ]
  },
  {
   "cell_type": "code",
   "execution_count": null,
   "metadata": {},
   "outputs": [],
   "source": [
    "def lenRecur(s):\n",
    "   if s == '':\n",
    "      return 0\n",
    "   else:\n",
    "      return 1 + lenRecur(s[1:])"
   ]
  },
  {
   "cell_type": "markdown",
   "metadata": {},
   "source": [
    "O(len(s)) - will execute the recursive function the len(s) times in the worst case"
   ]
  },
  {
   "cell_type": "code",
   "execution_count": null,
   "metadata": {},
   "outputs": [],
   "source": [
    "def isIn(a, s):\n",
    "   '''\n",
    "   a is a character, or, singleton string.\n",
    "   s is a string, sorted in alphabetical order.\n",
    "   '''\n",
    "   if len(s) == 0:\n",
    "      return False\n",
    "   elif len(s) == 1:\n",
    "      return a == s\n",
    "   else:\n",
    "      test = s[len(s)//2]\n",
    "      if test == a:\n",
    "         return True\n",
    "      elif a < test:\n",
    "         return isIn(a, s[:len(s)//2])\n",
    "      else:\n",
    "         return isIn(a, s[len(s)//2+1:])\n",
    " "
   ]
  },
  {
   "cell_type": "markdown",
   "metadata": {},
   "source": [
    "first two cases - constant  \n",
    "last case - $log_{2}(len(s))$\n",
    "\n",
    "**THIS IS ONLY TRUE BECAUSE THE STRING IS  ALREADY SORTED ALPHABETICALLY**"
   ]
  },
  {
   "cell_type": "code",
   "execution_count": null,
   "metadata": {},
   "outputs": [],
   "source": [
    "def union(L1, L2):\n",
    "   '''\n",
    "   L1 & L2 are lists of the same length, n\n",
    "   '''\n",
    "   temp = L1[:]\n",
    "   for e2 in L2:\n",
    "      flag = False\n",
    "      for check in temp:\n",
    "         if e2 == check:\n",
    "            flag = True\n",
    "            break\n",
    "      if not flag:\n",
    "         temp.append(e2)\n",
    "   return temp\n",
    " "
   ]
  },
  {
   "cell_type": "markdown",
   "metadata": {},
   "source": [
    "For this problem, assume n = len(L1) = len(L2)\n",
    "\n",
    "copy - O(n)  \n",
    "for e2 assignment -  O(n)  \n",
    "for check assignment - O(n^2) \n",
    "if statement - O(n)\n",
    "return statement - O(1)\n",
    "\n",
    "$O(n^{2})$"
   ]
  },
  {
   "cell_type": "code",
   "execution_count": 2,
   "metadata": {},
   "outputs": [],
   "source": [
    "def unionNew(L1, L2):\n",
    "   '''\n",
    "   L1 & L2 are lists of the same length, n\n",
    "   '''\n",
    "   temp = []\n",
    "   for e1 in L1:\n",
    "      flag = False\n",
    "      for e2 in L2:\n",
    "         if e1 == e2:\n",
    "            flag = True\n",
    "            break\n",
    "      if not flag:\n",
    "         temp.append(e1)\n",
    "   return temp + L2"
   ]
  },
  {
   "cell_type": "markdown",
   "metadata": {},
   "source": [
    "For this problem, assume n = len(L1) = len(L2)\n",
    "\n",
    "temp assignment - O(1)  \n",
    "for e1 assignment - O(n)  \n",
    "for e2 - O(n^2)  \n",
    "if statement - O(n)  \n",
    "return statement - O(1)  \n",
    "\n",
    "$O(n^{2})$\n",
    "\n"
   ]
  },
  {
   "cell_type": "markdown",
   "metadata": {},
   "source": [
    "# Exercise 8\n",
    "- done online in edx, ranking orders of growth, smallest to largest"
   ]
  },
  {
   "cell_type": "code",
   "execution_count": null,
   "metadata": {},
   "outputs": [],
   "source": []
  }
 ],
 "metadata": {
  "kernelspec": {
   "display_name": "Python 3",
   "language": "python",
   "name": "python3"
  },
  "language_info": {
   "codemirror_mode": {
    "name": "ipython",
    "version": 3
   },
   "file_extension": ".py",
   "mimetype": "text/x-python",
   "name": "python",
   "nbconvert_exporter": "python",
   "pygments_lexer": "ipython3",
   "version": "3.6.5"
  }
 },
 "nbformat": 4,
 "nbformat_minor": 2
}
