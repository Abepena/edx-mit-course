{
 "cells": [
  {
   "cell_type": "markdown",
   "metadata": {},
   "source": [
    "# Complexity Classes Examples\n",
    "\n",
    "refresher from last notebook:\n",
    "\n",
    "- constant : O(1)\n",
    "- logarithmic : O(log n)\n",
    "- linear: O(n)\n",
    "- loglinear : O(n log n)\n",
    "- polynomial : O(n^C)\n",
    "- exponential : O(C^n) \n",
    "\n",
    "The higher up the algorithmic complexity is on this list, the more efficient it is\n",
    "\n",
    "### Constant Complexity examples\n",
    "- complexity independent of input\n",
    "- very few interesting algorithms in this class but can often have pieces that fit in this class\n",
    "- can have loops or recursive calls but number of iterations or calls is independent of size of input\n",
    "\n",
    "### Logarithmic Complexity\n",
    "- complexity grows as log of size of one of its inputs\n",
    "- Examples:\n",
    "    - bisection search\n",
    "    - binary search of a list\n",
    "    - anything that divides the space of a search in half each step\n",
    "    "
   ]
  },
  {
   "cell_type": "code",
   "execution_count": 1,
   "metadata": {},
   "outputs": [],
   "source": [
    "def in_to_str(i):\n",
    "    digits = '0123456789'\n",
    "    if i == 0:\n",
    "        return '0'\n",
    "    result = '' #empty list returned for 0\n",
    "    while i > 0:\n",
    "        result = digits[i%10] + result # tacks on right most int digit as a string to front of result\n",
    "        i = i // 10 #removes right most int digit\n",
    "    return result\n",
    "    "
   ]
  },
  {
   "cell_type": "markdown",
   "metadata": {},
   "source": [
    "- only have to look at loop, there are no recursive function calls\n",
    "- within while loop, constant number of steps\n",
    "\n",
    "##### Therefore the only thing we worry about is \n",
    "- how many times do do we go through the loop\n",
    "    - answer: however many times we can divide by 10\n",
    "    - this translates to log base 10 of i - O(log(i))\n",
    "    \n",
    "### Linear complexity\n",
    "\n",
    "- search a list in sequence to see if an element is present\n",
    "- adding characters of a string, assumed to be composed of decimal digits"
   ]
  },
  {
   "cell_type": "code",
   "execution_count": 2,
   "metadata": {},
   "outputs": [],
   "source": [
    "def add_digits(s):\n",
    "    val = 0\n",
    "    for c in s:\n",
    "        val += int(c)\n",
    "    return val"
   ]
  },
  {
   "cell_type": "markdown",
   "metadata": {},
   "source": [
    "O(len(s)) ---> O(n)---> linear complexity\n",
    "\n",
    "- complexity can depend on the number of recursive calls"
   ]
  },
  {
   "cell_type": "code",
   "execution_count": 3,
   "metadata": {},
   "outputs": [],
   "source": [
    "def fact_iter(n):\n",
    "    prod = 1\n",
    "    for i in range(1, n+1):\n",
    "        prod *= 1\n",
    "    return prod"
   ]
  },
  {
   "cell_type": "markdown",
   "metadata": {},
   "source": [
    "- number of times around the loop is n\n",
    "- number of operations inside the loop is constant\n",
    "- overall O(n)"
   ]
  },
  {
   "cell_type": "code",
   "execution_count": 4,
   "metadata": {},
   "outputs": [],
   "source": [
    "def fact_recur(n):\n",
    "    \"\"\"assumes n >= 0\"\"\"\n",
    "    if n <= 1:\n",
    "        return 1\n",
    "    else:\n",
    "        return n * fact_recur(n-1)"
   ]
  },
  {
   "cell_type": "markdown",
   "metadata": {},
   "source": [
    "- computed factorial recursively\n",
    "- if you time it, you may notice it runs a bit slower than iterative version due to the cost of setting up the function calls\n",
    "- still **O(n)** because the number of function calls is linear in n\n",
    "\n",
    "**Therefore both iterative and recursive** factorial functions have a linear order of growth \n",
    "\n",
    "### Log-linear complexity\n",
    "\n",
    "- many practical algoriths are log-linear\n",
    "-very commonly used log-linear algoritm is merge-sort\n",
    "- will return to this"
   ]
  },
  {
   "cell_type": "code",
   "execution_count": null,
   "metadata": {},
   "outputs": [],
   "source": []
  }
 ],
 "metadata": {
  "kernelspec": {
   "display_name": "Python 3",
   "language": "python",
   "name": "python3"
  },
  "language_info": {
   "codemirror_mode": {
    "name": "ipython",
    "version": 3
   },
   "file_extension": ".py",
   "mimetype": "text/x-python",
   "name": "python",
   "nbconvert_exporter": "python",
   "pygments_lexer": "ipython3",
   "version": "3.6.5"
  }
 },
 "nbformat": 4,
 "nbformat_minor": 2
}
