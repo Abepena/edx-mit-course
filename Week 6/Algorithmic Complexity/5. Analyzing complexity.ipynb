{
 "cells": [
  {
   "cell_type": "markdown",
   "metadata": {},
   "source": [
    "# Analyzing complexity:"
   ]
  },
  {
   "cell_type": "markdown",
   "metadata": {},
   "source": [
    "### Polynomial complexity\n",
    "\n",
    "- most common polynomial algorithms are quadratic i.e. complexity grows with square of size of input\n",
    "- commonly occurs when we have **nested loops or recursive function calls** where the recursive function call has an order of growth other than constant\n",
    "\n",
    "#### Quadratic complexity examples"
   ]
  },
  {
   "cell_type": "code",
   "execution_count": 2,
   "metadata": {},
   "outputs": [],
   "source": [
    "\"\"\"\n",
    "checking if the the list is a subset of another list\n",
    "\"\"\"\n",
    "def is_subset(L1,L2):\n",
    "    for e1 in L1:\n",
    "        matched = False #sets flag saying we dont have a match\n",
    "        for e2 in L2:\n",
    "            if e1 == e2:\n",
    "                matched == True # switchs flag then breaks out of loop\n",
    "                break\n",
    "        if not matched:\n",
    "            return False #if entire loops executed without changing initial flag\n",
    "    return True"
   ]
  },
  {
   "cell_type": "markdown",
   "metadata": {},
   "source": [
    "- outer loop is executed len(L1) times\n",
    "- each outer iteration will execute up to len(L2) times O(len(L1) \\* len(L2))\n"
   ]
  },
  {
   "cell_type": "code",
   "execution_count": 3,
   "metadata": {},
   "outputs": [],
   "source": [
    "\"\"\"\n",
    "finding the intersection of two lists then return\n",
    "a list of the unique elements that intersect\n",
    "\"\"\"\n",
    "\n",
    "def intersect(L1,L2):\n",
    "    \n",
    "    ### O(n^2) section ###\n",
    "    temp = [] # temp list that can contain mutiple instances of one element\n",
    "    for e1 in L1:\n",
    "        for e2 in L2:\n",
    "            if e1 == e2:\n",
    "                temp.append(e1)\n",
    "                \n",
    "    ### O(n) section ###\n",
    "    result = [] # list output that will only return unique elements that intersect\n",
    "    for e in temp:\n",
    "        if e not in result:\n",
    "            result.append(e)\n",
    "            \n",
    "    return result\n"
   ]
  },
  {
   "cell_type": "markdown",
   "metadata": {},
   "source": [
    "- first nested loop takes len(L1) * len(L2) steps\n",
    "- second loop takes at most len(L1) steps\n",
    "- first nested for loop overwhelms the last single loop\n",
    "- therefore the order of growth is O(len(L1) * len(L2)) or O(n^2)\n",
    "\n",
    "### O( ) for nested loops"
   ]
  },
  {
   "cell_type": "code",
   "execution_count": 4,
   "metadata": {},
   "outputs": [],
   "source": [
    "def g(n):\n",
    "    \"\"\"assumes n >= 0\"\"\"\n",
    "    x = 0\n",
    "    for i in range(n):\n",
    "        for j in range(n):\n",
    "            x += 1\n",
    "    return x"
   ]
  },
  {
   "cell_type": "markdown",
   "metadata": {},
   "source": [
    "- algorithm above computes n^2 very inefficiently\n",
    "- when dealing wih nested loops, **look at the ranges**\n",
    "- nested loops, **each iterating n times**\n",
    "\n",
    "### Exponential complexity\n",
    "\n",
    "- these are the most expensive algorithms\n",
    "- if I can find an algorithm that is lower in complexity, I want to do that\n",
    "- recursive functions where more than one recursive call for each size of problem (Towers of Hanoi)\n",
    "- many important problems are inherently exponential\n",
    "    - unfortunate as cost can be high\n",
    "    - will lead us to consider approximate solutions more quickly\n",
    "    - getting a good guess usually quicker and more efficient than getting the exact or accurate guess\n",
    "    \n",
    "example:\n",
    "\n",
    "if I have a list, I want to generate a list of all the subsets of that list"
   ]
  },
  {
   "cell_type": "code",
   "execution_count": 8,
   "metadata": {},
   "outputs": [],
   "source": [
    "def gen_subsets(L):\n",
    "    result = []\n",
    "    if len(L) == 0:\n",
    "        return [[]] # a list of an empty list\n",
    "    smaller  = gen_subsets(L[:-1]) # all subsets without last element\n",
    "    extra = L[-1:] # create a list of just the last element\n",
    "    new = []\n",
    "    for small in smaller:\n",
    "        new.append(small + extra) # for all smaller solutions, add one with last element\n",
    "    return smaller + new # combine those with last element and those without"
   ]
  },
  {
   "cell_type": "code",
   "execution_count": 9,
   "metadata": {},
   "outputs": [
    {
     "data": {
      "text/plain": [
       "[[], [1], [2], [1, 2], [3], [1, 3], [2, 3], [1, 2, 3]]"
      ]
     },
     "execution_count": 9,
     "metadata": {},
     "output_type": "execute_result"
    }
   ],
   "source": [
    "gen_subsets([1,2,3])"
   ]
  },
  {
   "cell_type": "markdown",
   "metadata": {},
   "source": [
    "- assuming append is constant time\n",
    "- time includes time to solves smaller problem plus time needed to make a copy of all elements in smaller problem\n",
    "- import to think about the size of smaller problem\n",
    "- know that for a set of size k there are 2^k cases\n",
    "\n",
    "- so to solve we need 2^(n-1) + 2(n-2)+... + 2^(0) steps\n",
    "- this is O(2^n) by law of addition"
   ]
  },
  {
   "cell_type": "code",
   "execution_count": null,
   "metadata": {},
   "outputs": [],
   "source": []
  }
 ],
 "metadata": {
  "kernelspec": {
   "display_name": "Python 3",
   "language": "python",
   "name": "python3"
  },
  "language_info": {
   "codemirror_mode": {
    "name": "ipython",
    "version": 3
   },
   "file_extension": ".py",
   "mimetype": "text/x-python",
   "name": "python",
   "nbconvert_exporter": "python",
   "pygments_lexer": "ipython3",
   "version": "3.6.5"
  }
 },
 "nbformat": 4,
 "nbformat_minor": 2
}
