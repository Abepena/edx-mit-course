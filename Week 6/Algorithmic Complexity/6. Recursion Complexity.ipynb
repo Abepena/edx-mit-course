{
 "cells": [
  {
   "cell_type": "markdown",
   "metadata": {},
   "source": [
    "# Recursion Complexity:\n",
    "\n",
    "### Tricky Complexity"
   ]
  },
  {
   "cell_type": "code",
   "execution_count": 1,
   "metadata": {},
   "outputs": [],
   "source": [
    "def h(n):\n",
    "    \"\"\"\n",
    "    assume n an int >= 0 \n",
    "    adds the digits of a number together\n",
    "    \"\"\"\n",
    "    answer = 0\n",
    "    s = str(n)\n",
    "    for c in s:\n",
    "        answer += int(c)\n",
    "    return answer\n"
   ]
  },
  {
   "cell_type": "markdown",
   "metadata": {},
   "source": [
    "- for c in s (linear O(len(s)) but what is it in terms of the input n?\n",
    "- this is the the tricky part:\n",
    "    - convert the integet to a string\n",
    "    - iterate over the **length of the string** not the input n\n",
    "    - each index in the converted string represents $log_{10}n$\n",
    "    - think of it like dividing by 10 each iteration\n",
    "    - while it is linear in terms of the length of the string it is $O(log(n))$ in terms of the n input\n",
    "\n",
    "### Complexity of iterative fibonacci"
   ]
  },
  {
   "cell_type": "code",
   "execution_count": 2,
   "metadata": {},
   "outputs": [],
   "source": [
    "def fib_iter(n):\n",
    "    if n == 0:\n",
    "        return 0\n",
    "    elif n == 1:\n",
    "        return 1\n",
    "    else:\n",
    "        fib_i = 0\n",
    "        fib_ii = 1\n",
    "        for i in range(n-1):\n",
    "            temp = fib_i \n",
    "            fib_i = fib_ii\n",
    "            fib_ii = fib_ii + temp\n",
    "        return fib_ii"
   ]
  },
  {
   "cell_type": "markdown",
   "metadata": {},
   "source": [
    "- how do we look at the complexity of this\n",
    "- the first 2 basecases are constant $O(1)$\n",
    "- the last case (else) is of linear complexity proportional to n --> $O(n)$\n",
    "- return is $O(1)$\n",
    "\n",
    "best case: $O(1)$ + $O(1)$ = $O(1)$  \n",
    "worst case $O(1)$ + $O(1)$ + $O(n)$ + $O(1)$ = $O(n)$\n",
    "\n",
    "### Complexity of recursive fibonacci"
   ]
  },
  {
   "cell_type": "code",
   "execution_count": 3,
   "metadata": {},
   "outputs": [],
   "source": [
    "def fib_recursive(n):\n",
    "    if n == 0:\n",
    "        return 0\n",
    "    if n == 1:\n",
    "        return 1\n",
    "    else:\n",
    "        return fib_recursive(n-1) + fib_recursive(n-2)\n",
    "    "
   ]
  },
  {
   "cell_type": "markdown",
   "metadata": {},
   "source": [
    "best case: O(1) if n == 0 or 1\n",
    "worst case: O(2^n) due to 2 recursive calls to the function in the else case\n",
    "\n",
    "- this is what we have to analyze when comparing algorithms, can i find a solution that is lower complexity\n",
    "\n",
    "- storing values that have alreay been computed in a dictionary will make this linear (same as iterative fibonacci function)\n",
    "\n",
    "### When the input is a list ..."
   ]
  },
  {
   "cell_type": "code",
   "execution_count": 4,
   "metadata": {},
   "outputs": [],
   "source": [
    "def sum_list(L):\n",
    "    total = 0\n",
    "    for e in L:\n",
    "        total += e\n",
    "    return total"
   ]
  },
  {
   "cell_type": "markdown",
   "metadata": {},
   "source": [
    "- O(n) where n is the length of the list\n",
    "- O(len(n))\n",
    "- must **define what size of input means**\n",
    "    - previously it was the magnitude of a number\n",
    "    - here, it is the length of the list input\n",
    "    \n",
    "### Big Oh Summary\n",
    "- compare **efficiency of algorithms**\n",
    "    - notation that describes growth\n",
    "    - **lower order of growth** is better/more efficient\n",
    "    - independent of machine or specifici implementations\n",
    "    \n",
    "- Use Big Oh\n",
    "    - describe order of growth\n",
    "    - **asymptotic notation**\n",
    "    - **upper bound**\n",
    "    - **worst case** analysis  \n",
    "### Complexity of common Python Functions\n",
    "- Lists: n is len(L)\n",
    "    - index = O(1)\n",
    "    - store = O(1)\n",
    "    - length = O(1)\n",
    "    - append = O(1)\n",
    "    - == : O(n)\n",
    "    - remove : O(n)\n",
    "    - copy : O(n)\n",
    "    - reverse : O(n)\n",
    "    - iteration : O(n)\n",
    "    - in list : O(n)\n",
    "    \n",
    "- Dictionaries n is len(d)\n",
    "    - dictionaries are never in a particular order therefore complexity changes between best and worst case\n",
    "    \n",
    "    - worst case:\n",
    "        - index O(n)\n",
    "        - store O(n)\n",
    "        - length O(n)\n",
    "        - delete O(n)\n",
    "        - iteration O(n)\n",
    "    \n",
    "    - best case:\n",
    "        - index O(1)\n",
    "        - store O(1)\n",
    "        - length O(1)\n",
    "        - delete O(1)\n",
    "        - iteration O(n)\n",
    "    \n",
    "    \n",
    "    \n"
   ]
  },
  {
   "cell_type": "markdown",
   "metadata": {},
   "source": []
  }
 ],
 "metadata": {
  "kernelspec": {
   "display_name": "Python 3",
   "language": "python",
   "name": "python3"
  },
  "language_info": {
   "codemirror_mode": {
    "name": "ipython",
    "version": 3
   },
   "file_extension": ".py",
   "mimetype": "text/x-python",
   "name": "python",
   "nbconvert_exporter": "python",
   "pygments_lexer": "ipython3",
   "version": "3.6.5"
  }
 },
 "nbformat": 4,
 "nbformat_minor": 2
}
