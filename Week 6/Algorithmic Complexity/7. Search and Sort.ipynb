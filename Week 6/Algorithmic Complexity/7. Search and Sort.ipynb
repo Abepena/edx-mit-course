{
 "cells": [
  {
   "cell_type": "markdown",
   "metadata": {},
   "source": [
    "# Search and Sort Algorithms\n",
    "\n",
    "### Search Algorithms\n",
    "- search algorithm - method for finding an item or group of items with specific properties within a collection of items\n",
    "\n",
    "- collection could be implicit\n",
    "    - example - find a square root as a search problem\n",
    "        - exhaustive enumerism\n",
    "        - bisection search\n",
    "        - Newton-Raphson\n",
    "- collection could be explicit\n",
    "    - example - is  a student record in a stored collection of data\n",
    "    \n",
    "### Linear search:\n",
    "- brute force search\n",
    "- list does not have to be sorted\n",
    "\n",
    "### Bisection Search\n",
    "- list **must be sorted first** to give correct answer\n",
    "- will see two different implementations of the algorithm\n",
    "\n",
    "#### Linear search on **unsorted list**\n"
   ]
  },
  {
   "cell_type": "code",
   "execution_count": 1,
   "metadata": {},
   "outputs": [],
   "source": [
    "def linear_search(L,e):\n",
    "    \"\"\"\n",
    "    A little quicker, because it will exit the code\n",
    "    as soon as a match is found\n",
    "    worst case O(n)\n",
    "    \"\"\"\n",
    "    for i in L:\n",
    "        if i == e:\n",
    "            return True\n",
    "    return False\n",
    "\n",
    "def linear_search2(L,e):\n",
    "    \"\"\"\n",
    "    Will run thru the entire list no matter what\n",
    "    and then return if a match was found\n",
    "    worst case is still O(n)\n",
    "    \"\"\"\n",
    "    found = False\n",
    "    for i in range(len(L)):\n",
    "        if e == L[i]:\n",
    "            found = True\n",
    "    return found"
   ]
  },
  {
   "cell_type": "markdown",
   "metadata": {},
   "source": [
    "- must look through all elements to decide it's not there\n",
    "\n",
    "- O(len(L)) for the loop \\O(1) to test if e == L\\[i\\]\n",
    "- overall complexity is still O(n) where n is len(L)\n",
    "\n",
    "\n",
    "- this is assuming we can retrieve the element of a list in constant time\n",
    "\n",
    "#### Constant time list access\n",
    "- if list is all ints\n",
    "    - you can allocate lets say l = 4 bytes for every int and find access your integer\n",
    "    - ith element of your list woudl be at\n",
    "        - base + 4 \\* l bytes \n",
    "        - these are all constants\n",
    "\n",
    "- if list is heterogeneous (mixed, strings, ints, lists, tuples, etc)\n",
    "    - indirection\n",
    "    - references to other objects\n",
    "    - something like a linked list\n",
    "        - you set aside a consectuive number of elements in memory  to hold the pieces, they point to each other in turn\n",
    "        - each entry in that list points to an object\n",
    "        - You would just go straight to the ith location in memory and follow the pointer to retrieve the element you want\n",
    "\n",
    "- in both cases it is constant time access\n",
    "    "
   ]
  },
  {
   "cell_type": "code",
   "execution_count": null,
   "metadata": {},
   "outputs": [],
   "source": []
  }
 ],
 "metadata": {
  "kernelspec": {
   "display_name": "Python 3",
   "language": "python",
   "name": "python3"
  },
  "language_info": {
   "codemirror_mode": {
    "name": "ipython",
    "version": 3
   },
   "file_extension": ".py",
   "mimetype": "text/x-python",
   "name": "python",
   "nbconvert_exporter": "python",
   "pygments_lexer": "ipython3",
   "version": "3.6.5"
  }
 },
 "nbformat": 4,
 "nbformat_minor": 2
}
