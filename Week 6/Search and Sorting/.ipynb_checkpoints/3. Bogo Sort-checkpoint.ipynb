{
 "cells": [
  {
   "cell_type": "markdown",
   "metadata": {},
   "source": [
    "# Bogo Sort (Monkey Sort)\n",
    "\n",
    "- aka bogosort, stupid sort, slowsort, permutation sort, shotgun sort\n",
    "- randomly assign a list, check if they are in order, if not randomly assign again\n",
    "- to sort a deck of cards\n",
    "    - throw them up in the air\n",
    "    - pick them up\n",
    "    - are they sorted?\n",
    "    - repeat if not sorted (52 card pickup)\n",
    "    \n",
    "### Complexity of Bogo Sort"
   ]
  },
  {
   "cell_type": "code",
   "execution_count": null,
   "metadata": {},
   "outputs": [],
   "source": [
    "import random \n",
    "\n",
    "def bogo_sort(L):\n",
    "    while not is_sorted(L):\n",
    "        random.shuffle(L)"
   ]
  },
  {
   "cell_type": "markdown",
   "metadata": {},
   "source": [
    "- BEST CASE: ** O(n) where n is len(L)** to check if sorted\n",
    "- WORST CASE: O(?) it is **unbounded** if really unlucky\n",
    "- there is no guarantee that a randomized list will ever be sorted\n",
    "\n",
    "Worst sorting mechanism"
   ]
  },
  {
   "cell_type": "code",
   "execution_count": null,
   "metadata": {},
   "outputs": [],
   "source": []
  }
 ],
 "metadata": {
  "kernelspec": {
   "display_name": "Python 3",
   "language": "python",
   "name": "python3"
  },
  "language_info": {
   "codemirror_mode": {
    "name": "ipython",
    "version": 3
   },
   "file_extension": ".py",
   "mimetype": "text/x-python",
   "name": "python",
   "nbconvert_exporter": "python",
   "pygments_lexer": "ipython3",
   "version": "3.6.5"
  }
 },
 "nbformat": 4,
 "nbformat_minor": 2
}
