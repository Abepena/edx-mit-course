{
 "cells": [
  {
   "cell_type": "markdown",
   "metadata": {},
   "source": [
    "# Bubble Sort\n",
    "- not the most efficient algorithm\n",
    "- **compare consecutive pairs** of elements\n",
    "- **swap elements** in pair such that smaller is first\n",
    "- when you've reached the end of the list ** start over again\n",
    "- stop when **no more swaps** have been made\n",
    "\n",
    "### Complexity of bubble sort"
   ]
  },
  {
   "cell_type": "code",
   "execution_count": 3,
   "metadata": {},
   "outputs": [],
   "source": [
    "def bubble_sort(L):\n",
    "    swap = False\n",
    "    \n",
    "    while not swap: # O(len(L))\n",
    "        print(L)\n",
    "        swap = True\n",
    "        for j in range(1,len(L)): # O(len(L))\n",
    "            if L[j-1] > L[j]:\n",
    "                swap = False\n",
    "                temp = L[j]\n",
    "                L[j] = L[j-1]\n",
    "                L[j-1] = temp"
   ]
  },
  {
   "cell_type": "markdown",
   "metadata": {},
   "source": [
    "- inner for loop is for doing **comparisons**\n",
    "- outer while loop is for doing multiple passes until no more swaps are needed\n",
    "\n",
    "Worst case: O(n^2) where **n is len(L)**"
   ]
  },
  {
   "cell_type": "code",
   "execution_count": 4,
   "metadata": {},
   "outputs": [
    {
     "name": "stdout",
     "output_type": "stream",
     "text": [
      "[2, 6, 7, 1, 4, 5, 9, 10]\n",
      "[2, 6, 1, 4, 5, 7, 9, 10]\n",
      "[2, 1, 4, 5, 6, 7, 9, 10]\n",
      "[1, 2, 4, 5, 6, 7, 9, 10]\n"
     ]
    }
   ],
   "source": [
    "bubble_sort([2,6,7,1,4,5,9,10])"
   ]
  },
  {
   "cell_type": "markdown",
   "metadata": {},
   "source": [
    "- clean code not as efficient as we would like"
   ]
  },
  {
   "cell_type": "code",
   "execution_count": null,
   "metadata": {},
   "outputs": [],
   "source": []
  }
 ],
 "metadata": {
  "kernelspec": {
   "display_name": "Python 3",
   "language": "python",
   "name": "python3"
  },
  "language_info": {
   "codemirror_mode": {
    "name": "ipython",
    "version": 3
   },
   "file_extension": ".py",
   "mimetype": "text/x-python",
   "name": "python",
   "nbconvert_exporter": "python",
   "pygments_lexer": "ipython3",
   "version": "3.6.5"
  }
 },
 "nbformat": 4,
 "nbformat_minor": 2
}
