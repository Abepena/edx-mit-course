{
 "cells": [
  {
   "cell_type": "code",
   "execution_count": 1,
   "metadata": {},
   "outputs": [],
   "source": [
    "def swapSort(L): \n",
    "    \"\"\" L is a list on integers \"\"\"\n",
    "    print(\"Original L: \", L)\n",
    "    for i in range(len(L)):\n",
    "        for j in range(i+1, len(L)):\n",
    "            if L[j] < L[i]:\n",
    "                # the next line is a short \n",
    "                # form for swap L[i] and L[j]\n",
    "                L[j], L[i] = L[i], L[j] \n",
    "                print(L)\n",
    "    print(\"Final L: \", L)"
   ]
  },
  {
   "cell_type": "code",
   "execution_count": 2,
   "metadata": {},
   "outputs": [],
   "source": [
    "def modSwapSort(L): \n",
    "    \"\"\" L is a list on integers \"\"\"\n",
    "    print(\"Original L: \", L)\n",
    "    for i in range(len(L)):\n",
    "        for j in range(len(L)):\n",
    "            if L[j] < L[i]:\n",
    "                # the next line is a short \n",
    "                # form for swap L[i] and L[j]\n",
    "                L[j], L[i] = L[i], L[j] \n",
    "                print(L)\n",
    "    print(\"Final L: \", L)"
   ]
  },
  {
   "cell_type": "code",
   "execution_count": 8,
   "metadata": {},
   "outputs": [
    {
     "name": "stdout",
     "output_type": "stream",
     "text": [
      "Original L:  [1, 3, 4, 2, 4, 6, 7]\n",
      "[3, 1, 4, 2, 4, 6, 7]\n",
      "[4, 1, 3, 2, 4, 6, 7]\n",
      "[4, 3, 1, 2, 4, 6, 7]\n",
      "[4, 3, 2, 1, 4, 6, 7]\n",
      "[4, 4, 2, 1, 3, 6, 7]\n",
      "[4, 4, 3, 1, 2, 6, 7]\n",
      "[4, 4, 3, 2, 1, 6, 7]\n",
      "[6, 4, 3, 2, 1, 4, 7]\n",
      "[6, 4, 4, 2, 1, 3, 7]\n",
      "[6, 4, 4, 3, 1, 2, 7]\n",
      "[6, 4, 4, 3, 2, 1, 7]\n",
      "[7, 4, 4, 3, 2, 1, 6]\n",
      "[7, 6, 4, 3, 2, 1, 4]\n",
      "[7, 6, 4, 4, 2, 1, 3]\n",
      "[7, 6, 4, 4, 3, 1, 2]\n",
      "[7, 6, 4, 4, 3, 2, 1]\n",
      "Final L:  [7, 6, 4, 4, 3, 2, 1]\n"
     ]
    }
   ],
   "source": [
    "modSwapSort([1,3,4,2,4,6,7])"
   ]
  },
  {
   "cell_type": "code",
   "execution_count": null,
   "metadata": {},
   "outputs": [],
   "source": []
  }
 ],
 "metadata": {
  "kernelspec": {
   "display_name": "Python 3",
   "language": "python",
   "name": "python3"
  },
  "language_info": {
   "codemirror_mode": {
    "name": "ipython",
    "version": 3
   },
   "file_extension": ".py",
   "mimetype": "text/x-python",
   "name": "python",
   "nbconvert_exporter": "python",
   "pygments_lexer": "ipython3",
   "version": "3.6.5"
  }
 },
 "nbformat": 4,
 "nbformat_minor": 2
}
