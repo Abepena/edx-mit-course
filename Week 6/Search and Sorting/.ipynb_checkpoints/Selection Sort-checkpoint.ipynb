{
 "cells": [
  {
   "cell_type": "markdown",
   "metadata": {},
   "source": [
    "# Selection Sort\n",
    "- first step\n",
    "    - extract **minimum element**\n",
    "    - **swap it** with element at **index 0**   \n",
    "- subsequent step\n",
    "    - in remaining sublist, extract **minimum element**\n",
    "    - **swap it** with the element at index 1\n",
    "- keep the left portion of the list sorted\n",
    "    - at ith step, **first i elements in list are sorted**\n",
    "    - all other elements are bigger than the first i elements\n",
    "\n",
    "### Analyzing selection sort\n",
    "- loop invariant\n",
    "    - given prefix of list `L[O:i]` and suffix `L[i+1: len(L)]` then prefix is sorted and no element in prefix is larger than smallest element in suffix\n",
    "        1. Base Case: prefix empty, suffix is whole list - invariant true\n",
    "        2. induction step: move minimum element from suffix to **end of prefix**. Since invariant is true before move, prefix sorted after append\n",
    "        3. when exit, prefix is entire list, suffix is empty, so sorted"
   ]
  },
  {
   "cell_type": "code",
   "execution_count": 5,
   "metadata": {},
   "outputs": [],
   "source": [
    "def selection_sort(L):\n",
    "    \"\"\"\n",
    "    takes a list and appends minimum value to the front\n",
    "    then searches through the rest of the list\n",
    "    \"\"\"\n",
    "    suffixSt = 0\n",
    "    while suffixSt != len(L):\n",
    "        print(L)\n",
    "        for i in range(suffixSt, len(L)):\n",
    "            if L[i] < L[suffixSt]:\n",
    "                L[suffixSt], L[i] = L[i], L[suffixSt]\n",
    "        suffixSt += 1\n",
    "\n",
    "test_list = [9,2,8,3,7,1,8,7,5]"
   ]
  },
  {
   "cell_type": "code",
   "execution_count": 6,
   "metadata": {},
   "outputs": [
    {
     "name": "stdout",
     "output_type": "stream",
     "text": [
      "[9, 2, 8, 3, 7, 1, 8, 7, 5]\n",
      "[1, 9, 8, 3, 7, 2, 8, 7, 5]\n",
      "[1, 2, 9, 8, 7, 3, 8, 7, 5]\n",
      "[1, 2, 3, 9, 8, 7, 8, 7, 5]\n",
      "[1, 2, 3, 5, 9, 8, 8, 7, 7]\n",
      "[1, 2, 3, 5, 7, 9, 8, 8, 7]\n",
      "[1, 2, 3, 5, 7, 7, 9, 8, 8]\n",
      "[1, 2, 3, 5, 7, 7, 8, 9, 8]\n",
      "[1, 2, 3, 5, 7, 7, 8, 8, 9]\n"
     ]
    }
   ],
   "source": [
    "selection_sort(test_list)"
   ]
  },
  {
   "cell_type": "markdown",
   "metadata": {},
   "source": [
    "- still O(n^2) due to nested loops of O(len(L)) however should be more efficient timewise than bubble sort, due to  the for loop happening n-i times"
   ]
  },
  {
   "cell_type": "markdown",
   "metadata": {},
   "source": [
    "# Exercises"
   ]
  },
  {
   "cell_type": "code",
   "execution_count": 8,
   "metadata": {},
   "outputs": [],
   "source": [
    "def selSort(L):\n",
    "    for i in range(len(L) - 1):\n",
    "        minIndx = i\n",
    "        minVal = L[i]\n",
    "        j = i+1\n",
    "        while j < len(L):\n",
    "            if minVal > L[j]:\n",
    "                minIndx = j\n",
    "                minVal = L[j]\n",
    "            j += 1\n",
    "        if minIndx != i:\n",
    "            temp = L[i]\n",
    "            L[i] = L[minIndx]\n",
    "            L[minIndx] = temp\n",
    "            \n",
    "def newSort(L):\n",
    "    for i in range(len(L) - 1):\n",
    "        j=i+1\n",
    "        while j < len(L):\n",
    "            if L[i] > L[j]:\n",
    "                temp = L[i]\n",
    "                L[i] = L[j]\n",
    "                L[j] = temp\n",
    "            j += 1            "
   ]
  },
  {
   "cell_type": "markdown",
   "metadata": {},
   "source": [
    "1. Do these two functions result in the same sorted lists?\n",
    "\n",
    "    - yes\n",
    "\n",
    "2. Do these two functions execute the same number of assignments of values into entries of the lists\n",
    "\n",
    "    - newSort may use more - but never fewer - inserts than selection sort\n",
    "    - selSort only inserts/assigns after going through the entire list and finding the minimum value/index\n",
    "    - newSort inserts/assigns the element in the jth position to the front of the list every time the jth element is less than the element at the start of the list\n",
    "\n",
    "3. Is the worst-case order of growth of these functions the same?\n",
    "\n",
    "    - yes they both have the same complexity O(n^2) where n is the length of the list input due to the nested loops of O(len(L))"
   ]
  },
  {
   "cell_type": "markdown",
   "metadata": {},
   "source": [
    "#### Here is another verision of a sorting function:"
   ]
  },
  {
   "cell_type": "code",
   "execution_count": 9,
   "metadata": {},
   "outputs": [],
   "source": [
    "def mySort(L):\n",
    "    \"\"\" L, list with unique elements \"\"\"\n",
    "    clear = False\n",
    "    while not clear:\n",
    "        clear = True\n",
    "        for j in range(1, len(L)):\n",
    "            if L[j-1] > L[j]:\n",
    "                clear = False\n",
    "                temp = L[j]\n",
    "                L[j] = L[j-1]\n",
    "                L[j-1] = temp\n",
    "                \n",
    "### COMPARE THIS TO ####\n",
    "\n",
    "def newSort(L):\n",
    "    \"\"\" L, list with unique elements \"\"\"\n",
    "    for i in range(len(L) - 1):\n",
    "        j=i+1\n",
    "        while j < len(L):\n",
    "            if L[i] > L[j]:\n",
    "                temp = L[i]\n",
    "                L[i] = L[j]\n",
    "                L[j] = temp\n",
    "            j += 1"
   ]
  },
  {
   "cell_type": "markdown",
   "metadata": {},
   "source": [
    "1. Do these two functions result in the same sorted lists?\n",
    "    - Yes\n",
    "    \n",
    "2. Do these two functions execute the same number of assignments of values into entries of the lists?\n",
    "\n",
    " - Yes, They execute the same number of assignments\n",
    "\n",
    "3. Is the worst-case order of growth of these functions the same?\n",
    "\n",
    "- Yes, newSOrt and mySort have the same complexity\n",
    "\n",
    "4. Do these two functions examine the same number of entries in the list\n",
    "\n",
    "- no, they examine differenet numbers of entries, but cannot always sat which function will examine the most entires\n",
    "\n",
    "For `L = [1, 2, 3]` mySort performs 2 comparisons and newSort performs 3 comparisons. For `L = [3, 2, 1]` mySort performs 6 comparisons and newSort performs 3 comparisons."
   ]
  },
  {
   "cell_type": "code",
   "execution_count": null,
   "metadata": {},
   "outputs": [],
   "source": []
  }
 ],
 "metadata": {
  "kernelspec": {
   "display_name": "Python 3",
   "language": "python",
   "name": "python3"
  },
  "language_info": {
   "codemirror_mode": {
    "name": "ipython",
    "version": 3
   },
   "file_extension": ".py",
   "mimetype": "text/x-python",
   "name": "python",
   "nbconvert_exporter": "python",
   "pygments_lexer": "ipython3",
   "version": "3.6.5"
  }
 },
 "nbformat": 4,
 "nbformat_minor": 2
}
