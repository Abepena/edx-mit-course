{
 "cells": [
  {
   "cell_type": "markdown",
   "metadata": {},
   "source": [
    "# Bisection search\n",
    "\n",
    "#### Linear Search on a **sorted list**"
   ]
  },
  {
   "cell_type": "code",
   "execution_count": null,
   "metadata": {},
   "outputs": [],
   "source": [
    "def search(L,e):\n",
    "    for i in range(len(L)):\n",
    "        if L[i] == e:\n",
    "            return True\n",
    "        if L[i] > e:\n",
    "            return False #breaks out because the list is sorted and you know you will never see e in the rest of the list\n",
    "    return False\n",
    "    "
   ]
  },
  {
   "cell_type": "markdown",
   "metadata": {},
   "source": [
    "- must only look until you reach a number greater than e\n",
    "- O(len(n)) for the loop \\* O(1) to test if e == L\\[i\\]\n",
    "- overall complexity is **O(n) - where n is len(L)\n",
    "\n",
    "\n",
    "- running time, this is better than the brute force method but complexity it is still O(n)"
   ]
  },
  {
   "cell_type": "markdown",
   "metadata": {},
   "source": [
    "### Use Bisection Search\n",
    "1. pick an index i that divides the list in half\n",
    "2. Ask if `L[i]` == e\n",
    "3. Ask if `L[i]` is larger or smaller than e\n",
    "4. Depending on answer search left or right half of L for e\n",
    "\n",
    "A new version of divide and conquer algorithm\n",
    "- break into smaller version of problem (smaller list)\n",
    "- Answer to smaller problem is still the answer to the original problem\n",
    "\n",
    "### Bisection Search complexity analysis\n",
    "- finish looking through the list when 1 = $n/2^{i}$\n",
    "\n",
    "- solving for i  \n",
    "\n",
    "\n",
    "$n = 2^{i}$  \n",
    "$i = log_{2}(n)$\n",
    "\n",
    "- complexity is O(log(n)) where n is len(L)\n",
    "- this means, if I have a sorted list, I can do bisection search in log time\n",
    "\n",
    "### Bisection Search implementation"
   ]
  },
  {
   "cell_type": "code",
   "execution_count": 2,
   "metadata": {},
   "outputs": [],
   "source": [
    "def bisect_search(L,e):\n",
    "    if L == []:\n",
    "        return False\n",
    "    elif len(L) == 1:\n",
    "        return L[0] == e\n",
    "    else:\n",
    "        half = len(L)// 2 # remember floor division gives you the integer of the result of the division rounded down (ie. 1 // 2 = 0)\n",
    "        \n",
    "        if L[half] > e:\n",
    "            return bisect_search([L[:half]], e)\n",
    "        else:\n",
    "            return bisect_search(L[half:], e)\n",
    "        "
   ]
  },
  {
   "cell_type": "markdown",
   "metadata": {},
   "source": [
    "the implementation above is in O(log(n)) time because we are copying half of the list for every recursive call in the else case\n",
    "\n",
    "- what is the better alternaticve to not have O(log n) time?\n",
    "    - keep the list and instead search through a portion of the list without actually slicing/copying half of it"
   ]
  },
  {
   "cell_type": "markdown",
   "metadata": {},
   "source": [
    "### Bisection search implementation 2"
   ]
  },
  {
   "cell_type": "code",
   "execution_count": 1,
   "metadata": {},
   "outputs": [],
   "source": [
    "def bisect_search2(L,e):\n",
    "    \"\"\"\n",
    "    bisection search implementation that looks for element\n",
    "    e in list L using a helper function, not passing in a\n",
    "    slice of the original list recursively\n",
    "    \"\"\"\n",
    "    def bisect_search_helper(L,e,low,high):\n",
    "        if high == low:\n",
    "            return L[low] == e\n",
    "        mid = (low + high) // 2\n",
    "        if L[mid] == e:\n",
    "            return True\n",
    "        elif L[mid] > e:\n",
    "            if low == mid: # nothing left to search\n",
    "                return False\n",
    "            else: \n",
    "                return bisect_search_helper(L,e, low, mid - 1)\n",
    "        else: \n",
    "            return bisect_search_helper(L,e, mid + 1, high)\n",
    "    \n",
    "    if len(L) == 0: ## Base Case\n",
    "        return False\n",
    "    else:\n",
    "        return bisect_search_helper(L,e,0, len(L)-1)\n",
    "            \n",
    "            \n",
    "            "
   ]
  },
  {
   "cell_type": "markdown",
   "metadata": {},
   "source": [
    "- **Implemenation 1 - bisect search 1**\n",
    "    - O(log(n)) bisection search calls\n",
    "    - O(n) for each bisection search call to copy list\n",
    "    - This equates to O(n log n)\n",
    "    - O(n) for tighter bound because length of list is hlaved each recursive call\n",
    "    \n",
    "    \n",
    "    \n",
    "- **Implementation 2 - bisect_search2** and its helper\n",
    "    - pass list and indices as parameters\n",
    "    - list never copied, just repassed\n",
    "    - since the list is never copied the O(n) part of implementation 1 never happens\n",
    "    - therefore this implementation of bisection search is O(log n)\n",
    "    \n",
    "    \n",
    "### Searching a sorted list -- n is len(L)\n",
    "- using linear search, search for an element is O(n)\n",
    "- using binary (bisecton search), can search for an element in O(log n) time\n",
    "    - again binary search can only be done under the assumption that the list is sorted!\n",
    "    \n",
    "### Does it make sense to first sort the list and then search, from a time complexity standpoint?\n",
    "\n",
    "- SORT + O(log n) < O(n)  solved to --> SORT < O(n) - O(log n)\n",
    "- the previous equates to when sorting is less than O(n) --> this is never true\n",
    "\n",
    "### Amortized Cost (divided amongst K searches)\n",
    "\n",
    "- why bother sorting first then\n",
    "- in some cases, may **sort a list once then do many seearches** \n",
    "- **AMORTIZE cost** of the search over many searches\n",
    "- SORT + $K * O(log n) < K*O(n)$\n",
    "    - for large K, SORT time becomes irrelevant\n",
    "    - the log cost is much better than the linear cost\n",
    "    - the sort is done only once, making it constant for large K\n",
    "    \n",
    "# Recap\n",
    "- it does not make sense to sort then search over searching just once in terms of time complexity\n",
    "- it does however make sense to sort then search if you are sorting once and then searching through that sorted list multiple times for large numbers of searches\n"
   ]
  },
  {
   "cell_type": "code",
   "execution_count": 8,
   "metadata": {},
   "outputs": [],
   "source": []
  },
  {
   "cell_type": "code",
   "execution_count": null,
   "metadata": {},
   "outputs": [],
   "source": []
  }
 ],
 "metadata": {
  "kernelspec": {
   "display_name": "Python 3",
   "language": "python",
   "name": "python3"
  },
  "language_info": {
   "codemirror_mode": {
    "name": "ipython",
    "version": 3
   },
   "file_extension": ".py",
   "mimetype": "text/x-python",
   "name": "python",
   "nbconvert_exporter": "python",
   "pygments_lexer": "ipython3",
   "version": "3.6.5"
  }
 },
 "nbformat": 4,
 "nbformat_minor": 2
}
