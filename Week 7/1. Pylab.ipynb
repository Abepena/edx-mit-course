{
 "cells": [
  {
   "cell_type": "markdown",
   "metadata": {},
   "source": [
    "# Visualizing Results / Data Visualization\n",
    "- earlier saw examples of different orders of growth of procedures\n",
    "- used graphs to provide an intuitive sense of differences\n",
    "- examples of leveraging an existing library, rather than writing procedures from scratch\n",
    "- Python provides libraries for (among other things):\n",
    "    - graphing\n",
    "    - numerical computation\n",
    "    - stochastic computation\n",
    "- want to explore idea of using existing library procedures to guide processing and exploration of data\n",
    "\n",
    "- can import library into computing environment\n",
    "    ```python\n",
    "       import pylab as plt\n",
    "    ```\n",
    "    - allows me to reference any library procedure as `plt.<procedure_name>`\n",
    "    - provides access to existing set of graphing/plotting procedures\n",
    "    - here will just show some simple examples; lots of additional information available in documentation associated with pylab\n",
    "    - look into Kaggle competitions/ Matplotlib etc if you want to learn more about data visualization\n",
    "    \n",
    "### Simple example\n",
    "\n",
    "- the most basic function plots 2 lists as x, y values\n",
    "    - other data structures are more powerful, use lists to demonstrate\n",
    "- first, let's generate some example data"
   ]
  },
  {
   "cell_type": "code",
   "execution_count": 5,
   "metadata": {},
   "outputs": [
    {
     "data": {
      "text/plain": [
       "[<matplotlib.lines.Line2D at 0x114b01e48>]"
      ]
     },
     "execution_count": 5,
     "metadata": {},
     "output_type": "execute_result"
    },
    {
     "data": {
      "image/png": "[encoded data removed]",
      "text/plain": [
       "<Figure size 432x288 with 1 Axes>"
      ]
     },
     "metadata": {},
     "output_type": "display_data"
    }
   ],
   "source": [
    "import pylab as plt\n",
    "\n",
    "my_samples = []\n",
    "my_linear = []\n",
    "my_quadratic = []\n",
    "my_cubic = []\n",
    "my_exponential = []\n",
    "\n",
    "for i in range(30):\n",
    "    my_samples.append(i)\n",
    "    my_linear.append(i)\n",
    "    my_quadratic.append(i**2)\n",
    "    my_cubic.append(i**3)\n",
    "    my_exponential.append(1.5**i) # 2^i grows so rapidly, it is hard to visualize\n",
    "\n",
    "plt.plot(my_samples, my_linear)"
   ]
  },
  {
   "cell_type": "code",
   "execution_count": null,
   "metadata": {},
   "outputs": [],
   "source": []
  }
 ],
 "metadata": {
  "kernelspec": {
   "display_name": "Python 3",
   "language": "python",
   "name": "python3"
  },
  "language_info": {
   "codemirror_mode": {
    "name": "ipython",
    "version": 3
   },
   "file_extension": ".py",
   "mimetype": "text/x-python",
   "name": "python",
   "nbconvert_exporter": "python",
   "pygments_lexer": "ipython3",
   "version": "3.6.5"
  }
 },
 "nbformat": 4,
 "nbformat_minor": 2
}
